{
 "cells": [
  {
   "cell_type": "code",
   "execution_count": 0,
   "metadata": {
    "colab": {
     "base_uri": "https://localhost:8080/",
     "height": 71
    },
    "colab_type": "code",
    "id": "b-0HHZCQp3D2",
    "outputId": "6c749707-6211-478f-af58-202c64c73f56"
   },
   "outputs": [
    {
     "name": "stderr",
     "output_type": "stream",
     "text": [
      "/usr/local/lib/python3.6/dist-packages/sklearn/externals/six.py:31: DeprecationWarning: The module is deprecated in version 0.21 and will be removed in version 0.23 since we've dropped support for Python 2.7. Please rely on the official version of six (https://pypi.org/project/six/).\n",
      "  \"(https://pypi.org/project/six/).\", DeprecationWarning)\n"
     ]
    }
   ],
   "source": [
    "# Imports\n",
    "import numpy as np\n",
    "import pandas as pd\n",
    "from collections import Counter, defaultdict\n",
    "\n",
    "#visual\n",
    "import seaborn as sns \n",
    "import matplotlib.pyplot as plt\n",
    "import missingno as mno\n",
    "from imblearn.over_sampling import SMOTE\n",
    "\n",
    "#learning\n",
    "from sklearn.preprocessing import OneHotEncoder, LabelEncoder, LabelBinarizer\n",
    "from sklearn.ensemble import RandomForestClassifier, ExtraTreesClassifier\n",
    "from sklearn.model_selection import train_test_split, cross_val_score, GridSearchCV\n",
    "from sklearn.metrics import precision_score, accuracy_score, confusion_matrix\n",
    "from sklearn.utils.multiclass import unique_labels\n",
    "from sklearn.linear_model import SGDClassifier, RidgeClassifier, LogisticRegression\n",
    "from sklearn.svm import LinearSVC, SVC\n",
    "from sklearn.gaussian_process.kernels import RBF\n",
    "\n",
    "# import warnings filter\n",
    "from warnings import simplefilter\n",
    "# ignore all future warnings\n",
    "simplefilter(action='ignore', category=FutureWarning)\n",
    "import warnings\n",
    "warnings.filterwarnings('ignore')\n",
    "\n",
    "%matplotlib inline"
   ]
  },
  {
   "cell_type": "markdown",
   "metadata": {
    "colab_type": "text",
    "id": "RzhzWP6kp3EB"
   },
   "source": [
    "## Getting to Know the Data"
   ]
  },
  {
   "cell_type": "code",
   "execution_count": 0,
   "metadata": {
    "colab": {
     "base_uri": "https://localhost:8080/",
     "height": 34
    },
    "colab_type": "code",
    "id": "r4IOJuILp3EC",
    "outputId": "f2101711-5aed-4d1a-d9ce-141a6fbcfa5a"
   },
   "outputs": [
    {
     "data": {
      "text/plain": [
       "(1000, 21)"
      ]
     },
     "execution_count": 2,
     "metadata": {
      "tags": []
     },
     "output_type": "execute_result"
    }
   ],
   "source": [
    "# Loading data as pandas dataframe\n",
    "\n",
    "# Naming the columns with attributes they represent\n",
    "names = ['account_status', 'duration', 'credit_history',\n",
    "             'purpose', 'credit_amount', 'savings_account', 'employment_since',\n",
    "             'installment_rate', 'personal_status_sex', 'guarantors', \n",
    "             'residence_since', 'property', 'age', 'other_installment_plans',\n",
    "             'housing', 'number_of_credits', 'job', 'people_to_maintain',\n",
    "             'phone', 'foreign_worker', 'creditworthy']\n",
    "\n",
    "df = pd.read_csv('kredit.dat', header=None, sep=\"\\t\", names=names)\n",
    "df.shape"
   ]
  },
  {
   "cell_type": "code",
   "execution_count": 0,
   "metadata": {
    "colab": {
     "base_uri": "https://localhost:8080/",
     "height": 34
    },
    "colab_type": "code",
    "id": "emkpOKvQp3EK",
    "outputId": "b20b0d31-625f-47e8-cc4f-084756c9b5e4"
   },
   "outputs": [
    {
     "data": {
      "text/plain": [
       "(1000, 20)"
      ]
     },
     "execution_count": 3,
     "metadata": {
      "tags": []
     },
     "output_type": "execute_result"
    }
   ],
   "source": [
    "# Last column is the target variable\n",
    "df.creditworthy.replace([1,2], [1,0], inplace=True)\n",
    "label = df['creditworthy']\n",
    "df = df.drop(columns=['creditworthy'])\n",
    "df.shape"
   ]
  },
  {
   "cell_type": "code",
   "execution_count": 0,
   "metadata": {
    "colab": {
     "base_uri": "https://localhost:8080/",
     "height": 258
    },
    "colab_type": "code",
    "id": "ppZxcGIgp3EQ",
    "outputId": "95bf18e7-718b-4a64-d847-21dcc1ae8289",
    "scrolled": true
   },
   "outputs": [
    {
     "name": "stdout",
     "output_type": "stream",
     "text": [
      "Number of data points: 1000\n",
      "Number of Attributes: 20\n"
     ]
    },
    {
     "data": {
      "text/html": [
       "<div>\n",
       "<style scoped>\n",
       "    .dataframe tbody tr th:only-of-type {\n",
       "        vertical-align: middle;\n",
       "    }\n",
       "\n",
       "    .dataframe tbody tr th {\n",
       "        vertical-align: top;\n",
       "    }\n",
       "\n",
       "    .dataframe thead th {\n",
       "        text-align: right;\n",
       "    }\n",
       "</style>\n",
       "<table border=\"1\" class=\"dataframe\">\n",
       "  <thead>\n",
       "    <tr style=\"text-align: right;\">\n",
       "      <th></th>\n",
       "      <th>account_status</th>\n",
       "      <th>duration</th>\n",
       "      <th>credit_history</th>\n",
       "      <th>purpose</th>\n",
       "      <th>credit_amount</th>\n",
       "      <th>savings_account</th>\n",
       "      <th>employment_since</th>\n",
       "      <th>installment_rate</th>\n",
       "      <th>personal_status_sex</th>\n",
       "      <th>guarantors</th>\n",
       "      <th>residence_since</th>\n",
       "      <th>property</th>\n",
       "      <th>age</th>\n",
       "      <th>other_installment_plans</th>\n",
       "      <th>housing</th>\n",
       "      <th>number_of_credits</th>\n",
       "      <th>job</th>\n",
       "      <th>people_to_maintain</th>\n",
       "      <th>phone</th>\n",
       "      <th>foreign_worker</th>\n",
       "    </tr>\n",
       "  </thead>\n",
       "  <tbody>\n",
       "    <tr>\n",
       "      <th>0</th>\n",
       "      <td>A14</td>\n",
       "      <td>36</td>\n",
       "      <td>A32</td>\n",
       "      <td>?</td>\n",
       "      <td>2299</td>\n",
       "      <td>A63</td>\n",
       "      <td>?</td>\n",
       "      <td>4</td>\n",
       "      <td>A93</td>\n",
       "      <td>A101</td>\n",
       "      <td>4</td>\n",
       "      <td>A123</td>\n",
       "      <td>39</td>\n",
       "      <td>A143</td>\n",
       "      <td>A152</td>\n",
       "      <td>1</td>\n",
       "      <td>A173</td>\n",
       "      <td>1</td>\n",
       "      <td>A191</td>\n",
       "      <td>?</td>\n",
       "    </tr>\n",
       "    <tr>\n",
       "      <th>1</th>\n",
       "      <td>A12</td>\n",
       "      <td>18</td>\n",
       "      <td>A32</td>\n",
       "      <td>A46</td>\n",
       "      <td>1239</td>\n",
       "      <td>A65</td>\n",
       "      <td>A73</td>\n",
       "      <td>4</td>\n",
       "      <td>A93</td>\n",
       "      <td>A101</td>\n",
       "      <td>4</td>\n",
       "      <td>A124</td>\n",
       "      <td>61</td>\n",
       "      <td>A143</td>\n",
       "      <td>A153</td>\n",
       "      <td>1</td>\n",
       "      <td>?</td>\n",
       "      <td>1</td>\n",
       "      <td>A191</td>\n",
       "      <td>A201</td>\n",
       "    </tr>\n",
       "    <tr>\n",
       "      <th>2</th>\n",
       "      <td>A13</td>\n",
       "      <td>24</td>\n",
       "      <td>A32</td>\n",
       "      <td>A40</td>\n",
       "      <td>947</td>\n",
       "      <td>A61</td>\n",
       "      <td>A74</td>\n",
       "      <td>4</td>\n",
       "      <td>A93</td>\n",
       "      <td>A101</td>\n",
       "      <td>3</td>\n",
       "      <td>A124</td>\n",
       "      <td>38</td>\n",
       "      <td>A141</td>\n",
       "      <td>A153</td>\n",
       "      <td>1</td>\n",
       "      <td>?</td>\n",
       "      <td>2</td>\n",
       "      <td>A191</td>\n",
       "      <td>?</td>\n",
       "    </tr>\n",
       "    <tr>\n",
       "      <th>3</th>\n",
       "      <td>A14</td>\n",
       "      <td>15</td>\n",
       "      <td>A33</td>\n",
       "      <td>A43</td>\n",
       "      <td>1478</td>\n",
       "      <td>A61</td>\n",
       "      <td>A73</td>\n",
       "      <td>4</td>\n",
       "      <td>A94</td>\n",
       "      <td>A101</td>\n",
       "      <td>3</td>\n",
       "      <td>A121</td>\n",
       "      <td>33</td>\n",
       "      <td>A141</td>\n",
       "      <td>A152</td>\n",
       "      <td>2</td>\n",
       "      <td>A173</td>\n",
       "      <td>1</td>\n",
       "      <td>A191</td>\n",
       "      <td>A201</td>\n",
       "    </tr>\n",
       "    <tr>\n",
       "      <th>4</th>\n",
       "      <td>A14</td>\n",
       "      <td>24</td>\n",
       "      <td>A32</td>\n",
       "      <td>A40</td>\n",
       "      <td>1525</td>\n",
       "      <td>A64</td>\n",
       "      <td>A74</td>\n",
       "      <td>4</td>\n",
       "      <td>A92</td>\n",
       "      <td>A101</td>\n",
       "      <td>3</td>\n",
       "      <td>A123</td>\n",
       "      <td>34</td>\n",
       "      <td>A143</td>\n",
       "      <td>A152</td>\n",
       "      <td>1</td>\n",
       "      <td>A173</td>\n",
       "      <td>2</td>\n",
       "      <td>A192</td>\n",
       "      <td>A201</td>\n",
       "    </tr>\n",
       "  </tbody>\n",
       "</table>\n",
       "</div>"
      ],
      "text/plain": [
       "  account_status  duration  ... phone foreign_worker\n",
       "0            A14        36  ...  A191              ?\n",
       "1            A12        18  ...  A191           A201\n",
       "2            A13        24  ...  A191              ?\n",
       "3            A14        15  ...  A191           A201\n",
       "4            A14        24  ...  A192           A201\n",
       "\n",
       "[5 rows x 20 columns]"
      ]
     },
     "execution_count": 4,
     "metadata": {
      "tags": []
     },
     "output_type": "execute_result"
    }
   ],
   "source": [
    "# Getting familiar with data\n",
    "\n",
    "print(f'Number of data points: {df.shape[0]}')\n",
    "print(f'Number of Attributes: {df.shape[1]}')\n",
    "df.head(5)"
   ]
  },
  {
   "cell_type": "code",
   "execution_count": 0,
   "metadata": {
    "colab": {
     "base_uri": "https://localhost:8080/",
     "height": 374
    },
    "colab_type": "code",
    "id": "wOa5c0wBp3EU",
    "outputId": "c016038b-8fdf-4c35-d309-1fc9a61ca387",
    "scrolled": true
   },
   "outputs": [
    {
     "name": "stdout",
     "output_type": "stream",
     "text": [
      "account_status             object\n",
      "duration                    int64\n",
      "credit_history             object\n",
      "purpose                    object\n",
      "credit_amount               int64\n",
      "savings_account            object\n",
      "employment_since           object\n",
      "installment_rate            int64\n",
      "personal_status_sex        object\n",
      "guarantors                 object\n",
      "residence_since             int64\n",
      "property                   object\n",
      "age                         int64\n",
      "other_installment_plans    object\n",
      "housing                    object\n",
      "number_of_credits           int64\n",
      "job                        object\n",
      "people_to_maintain          int64\n",
      "phone                      object\n",
      "foreign_worker             object\n",
      "dtype: object\n"
     ]
    }
   ],
   "source": [
    "# Explore types of data in dataset\n",
    "print(df.dtypes)"
   ]
  },
  {
   "cell_type": "code",
   "execution_count": 0,
   "metadata": {
    "colab": {
     "base_uri": "https://localhost:8080/",
     "height": 122
    },
    "colab_type": "code",
    "id": "VrYEBOczp3Ee",
    "outputId": "2bf534f9-cf13-46a5-f745-b0390e9325c7"
   },
   "outputs": [
    {
     "name": "stdout",
     "output_type": "stream",
     "text": [
      "Categorical features:\n",
      "['account_status', 'credit_history', 'purpose', 'savings_account', 'employment_since', 'personal_status_sex', 'guarantors', 'property', 'other_installment_plans', 'housing', 'job', 'phone', 'foreign_worker']\n",
      "\n",
      "Numerical features:\n",
      "['duration', 'credit_amount', 'installment_rate', 'residence_since', 'age', 'number_of_credits', 'people_to_maintain']\n"
     ]
    }
   ],
   "source": [
    "# As we see above: 2 data types\n",
    "# Features will be treated separately\n",
    "\n",
    "def categorical_numerical_split(df):\n",
    "    categorical = [att for att in df.columns if df[att].dtype == 'object']\n",
    "    numerical = [att for att in df.columns if np.issubdtype(df[att].dtype, np.number) ]\n",
    "    return categorical, numerical\n",
    "\n",
    "categorical, numerical = categorical_numerical_split(df)\n",
    "\n",
    "print(f'Categorical features:\\n{categorical}\\n')\n",
    "print(f'Numerical features:\\n{numerical}')"
   ]
  },
  {
   "cell_type": "code",
   "execution_count": 0,
   "metadata": {
    "colab": {},
    "colab_type": "code",
    "id": "PzM2-Kflp3Ep"
   },
   "outputs": [],
   "source": [
    "# Change a yes/no categorical varibable into numeric one\n",
    "df.replace('A201', 1, inplace=True)\n",
    "df.replace('A202', 0, inplace=True)\n",
    "df.replace('A191', 0, inplace=True)\n",
    "df.replace('A192', 1, inplace=True)\n",
    "\n",
    "#Rescale\n",
    "df.credit_amount = np.log(df.credit_amount)"
   ]
  },
  {
   "cell_type": "markdown",
   "metadata": {
    "colab_type": "text",
    "id": "fztzqiCJp3Eu"
   },
   "source": [
    "### 2.2 Handling Missing Values"
   ]
  },
  {
   "cell_type": "markdown",
   "metadata": {
    "colab_type": "text",
    "id": "6FBBct1bp3Ev"
   },
   "source": [
    "NaN in Pandas:\n",
    "1. Nan != NaN (whereas None == None)  \n",
    "2. When summing data, NaN values will be treated as zero.   \n",
    "If the data are all NA, the result will be 0.  \n",
    "\n"
   ]
  },
  {
   "cell_type": "code",
   "execution_count": 0,
   "metadata": {
    "colab": {},
    "colab_type": "code",
    "id": "JR8UvCG5p3Ew",
    "scrolled": true
   },
   "outputs": [],
   "source": [
    "# For more convenient operations for missing values, replace ? with NaN\n",
    "# As we see, there are too many missing values to remove these points from the dataset\n",
    "df.replace(\"?\", np.nan, inplace=True)"
   ]
  },
  {
   "cell_type": "code",
   "execution_count": 0,
   "metadata": {
    "colab": {
     "base_uri": "https://localhost:8080/",
     "height": 408
    },
    "colab_type": "code",
    "id": "TyLPZsjBp3E0",
    "outputId": "9c988d32-453d-4c27-c337-d5d5075b795b",
    "scrolled": false
   },
   "outputs": [
    {
     "name": "stdout",
     "output_type": "stream",
     "text": [
      "Number of Missing Values:\n",
      "\n",
      "account_status               0\n",
      "duration                     0\n",
      "credit_history               0\n",
      "purpose                    173\n",
      "credit_amount                0\n",
      "savings_account              0\n",
      "employment_since           496\n",
      "installment_rate             0\n",
      "personal_status_sex          0\n",
      "guarantors                   0\n",
      "residence_since              0\n",
      "property                     0\n",
      "age                          0\n",
      "other_installment_plans      0\n",
      "housing                      0\n",
      "number_of_credits            0\n",
      "job                        232\n",
      "people_to_maintain           0\n",
      "phone                        0\n",
      "foreign_worker             360\n",
      "dtype: int64\n"
     ]
    }
   ],
   "source": [
    "print(f'Number of Missing Values:\\n\\n{df.isnull().sum()}')"
   ]
  },
  {
   "cell_type": "code",
   "execution_count": 0,
   "metadata": {
    "colab": {
     "base_uri": "https://localhost:8080/",
     "height": 51
    },
    "colab_type": "code",
    "id": "IoZDR0ZKp3E4",
    "outputId": "c0139c9f-b596-46d5-b792-230987b4d046"
   },
   "outputs": [
    {
     "name": "stdout",
     "output_type": "stream",
     "text": [
      "Comparing the data frame with all featrues (1000, 20)\n",
      "to the one with with columns where no featrues ar emissing (1000, 16)\n"
     ]
    }
   ],
   "source": [
    "# Grab missing columns\n",
    "missing_columns = ['purpose', 'employment_since', 'job', 'foreign_worker']\n",
    "\n",
    "# create df with features that are fully available\n",
    "df_X = df.dropna(axis=1, how='any')\n",
    "print(f'Comparing the data frame with all featrues {df.shape}')\n",
    "print(f'to the one with with columns where no featrues ar emissing {df_X.shape}')"
   ]
  },
  {
   "cell_type": "code",
   "execution_count": 0,
   "metadata": {
    "colab": {
     "base_uri": "https://localhost:8080/",
     "height": 102
    },
    "colab_type": "code",
    "id": "5nOYxryGp3E6",
    "outputId": "62e188e8-8ddc-47cc-d6b7-3267ac3a4a37"
   },
   "outputs": [
    {
     "data": {
      "text/plain": [
       "purpose             0.173\n",
       "employment_since    0.496\n",
       "job                 0.232\n",
       "foreign_worker      0.360\n",
       "dtype: float64"
      ]
     },
     "execution_count": 11,
     "metadata": {
      "tags": []
     },
     "output_type": "execute_result"
    }
   ],
   "source": [
    "# Percentage of missing values\n",
    "df[missing_columns].isnull().sum()/len(df)"
   ]
  },
  {
   "cell_type": "markdown",
   "metadata": {
    "colab_type": "text",
    "id": "PaPBHlblp3E9"
   },
   "source": [
    "Purpose - 17.3%.   \n",
    "Employment since - 49.6%  \n",
    "job - 0.23%.   \n",
    "foreign worker - 36%. "
   ]
  },
  {
   "cell_type": "code",
   "execution_count": 0,
   "metadata": {
    "colab": {
     "base_uri": "https://localhost:8080/",
     "height": 540
    },
    "colab_type": "code",
    "id": "d0Kvd8e6p3E_",
    "outputId": "de76b249-8311-4509-e5b2-809a30b03a81"
   },
   "outputs": [
    {
     "data": {
      "text/plain": [
       "<matplotlib.axes._subplots.AxesSubplot at 0x7f5c27e335c0>"
      ]
     },
     "execution_count": 12,
     "metadata": {
      "tags": []
     },
     "output_type": "execute_result"
    },
    {
     "data": {
      "image/png": "[encoded data removed]",
      "text/plain": [
       "<Figure size 720x432 with 2 Axes>"
      ]
     },
     "metadata": {
      "tags": []
     },
     "output_type": "display_data"
    }
   ],
   "source": [
    "mno.matrix(df, figsize = (10, 6))"
   ]
  },
  {
   "cell_type": "markdown",
   "metadata": {
    "colab_type": "text",
    "id": "z19bD-wgp3FE"
   },
   "source": [
    "There are many options we could consider when replacing a missing value, for example:\n",
    "\n",
    "- A constant value that has meaning within the domain, such as 0, distinct from all other values.  \n",
    "- A value from another randomly selected record.  \n",
    "- A mean, median or mode value for the column.  \n",
    "- A value estimated by another predictive model. "
   ]
  },
  {
   "cell_type": "markdown",
   "metadata": {
    "colab_type": "text",
    "id": "_cE5S0VKp3FF"
   },
   "source": [
    "Prediction model is one of the sophisticated method for handling missing data.   \n",
    "Here, we create a predictive model to estimate values   \n",
    "that will substitute the missing data.  \n",
    "In this case, we divide our data set into two sets:   \n",
    "One set with no missing values for the variable and another one with missing values.  \n",
    "First data set become training data set of the model while second data set with missing values   \n",
    "is test data set and variable with missing values is treated as target variable.  \n",
    "Next, we create a model to predict target variable based on other attributes   \n",
    "of the training data set and populate missing values of test data set.\n",
    "\n"
   ]
  },
  {
   "cell_type": "code",
   "execution_count": 0,
   "metadata": {
    "colab": {
     "base_uri": "https://localhost:8080/",
     "height": 85
    },
    "colab_type": "code",
    "id": "SEoG4Phhp3FI",
    "outputId": "200509c7-2488-4769-8bd3-5501f0a83370",
    "scrolled": true
   },
   "outputs": [
    {
     "name": "stdout",
     "output_type": "stream",
     "text": [
      "(1000, 20)\n",
      "(203, 20)\n",
      "(1000, 20)\n",
      "(969, 20)\n"
     ]
    }
   ],
   "source": [
    "print(df.shape)\n",
    "# Dropping not an option: too much data lost\n",
    "print(df.dropna().shape)\n",
    "#no data points withh all values missing\n",
    "print(df.dropna(how='all').shape)\n",
    "# ?? maybe it makes sense to remove data points with many missing things\n",
    "print(df.dropna(subset=['purpose', 'foreign_worker', 'employment_since'], \n",
    "                how='all').shape)\n",
    "# print(df.purpose.value_counts(dropna=False))"
   ]
  },
  {
   "cell_type": "markdown",
   "metadata": {
    "colab_type": "text",
    "id": "SXaEDsNrp3FK"
   },
   "source": [
    "## 2. Data Pre-Processing"
   ]
  },
  {
   "cell_type": "markdown",
   "metadata": {
    "colab_type": "text",
    "id": "YICKwHobp3FL"
   },
   "source": [
    "### 2.1 Feature Representation"
   ]
  },
  {
   "cell_type": "markdown",
   "metadata": {
    "colab_type": "text",
    "id": "xZwA9Xj6p3FN"
   },
   "source": [
    "#### 2.1.1 Numerical"
   ]
  },
  {
   "cell_type": "code",
   "execution_count": 0,
   "metadata": {
    "colab": {},
    "colab_type": "code",
    "id": "x0FBkGw2p3FN"
   },
   "outputs": [],
   "source": [
    "# Ranges of values \n",
    "def display_range(df, numerical):\n",
    "    for pos in range(len(numerical)):\n",
    "        print(f'{numerical[pos]} : {df[numerical[pos]].min()} - \\\n",
    "              {df[numerical[pos]].max()}')"
   ]
  },
  {
   "cell_type": "code",
   "execution_count": 0,
   "metadata": {
    "colab": {
     "base_uri": "https://localhost:8080/",
     "height": 136
    },
    "colab_type": "code",
    "id": "v_OefjRSp3FP",
    "outputId": "92298075-4ed4-45ad-f82a-d1b7d926c839",
    "scrolled": true
   },
   "outputs": [
    {
     "name": "stdout",
     "output_type": "stream",
     "text": [
      "duration : 4 -               72\n",
      "credit_amount : 5.521460917862246 -               9.82140944150052\n",
      "installment_rate : 1 -               4\n",
      "residence_since : 1 -               4\n",
      "age : 19 -               75\n",
      "number_of_credits : 1 -               4\n",
      "people_to_maintain : 1 -               2\n"
     ]
    }
   ],
   "source": [
    "display_range(df, numerical)"
   ]
  },
  {
   "cell_type": "code",
   "execution_count": 0,
   "metadata": {
    "colab": {
     "base_uri": "https://localhost:8080/",
     "height": 941
    },
    "colab_type": "code",
    "id": "F2Dr_Unyp3FS",
    "outputId": "dff1793c-5ee8-4f4f-ed64-c17383069516"
   },
   "outputs": [
    {
     "data": {
      "text/plain": [
       "array([[<matplotlib.axes._subplots.AxesSubplot object at 0x7f5c25520860>,\n",
       "        <matplotlib.axes._subplots.AxesSubplot object at 0x7f5c25545f98>,\n",
       "        <matplotlib.axes._subplots.AxesSubplot object at 0x7f5c23cf0550>],\n",
       "       [<matplotlib.axes._subplots.AxesSubplot object at 0x7f5c23c97ac8>,\n",
       "        <matplotlib.axes._subplots.AxesSubplot object at 0x7f5c23cca080>,\n",
       "        <matplotlib.axes._subplots.AxesSubplot object at 0x7f5c23c705f8>],\n",
       "       [<matplotlib.axes._subplots.AxesSubplot object at 0x7f5c23c19b70>,\n",
       "        <matplotlib.axes._subplots.AxesSubplot object at 0x7f5c23c4a160>,\n",
       "        <matplotlib.axes._subplots.AxesSubplot object at 0x7f5c23c4a198>]],\n",
       "      dtype=object)"
      ]
     },
     "execution_count": 16,
     "metadata": {
      "tags": []
     },
     "output_type": "execute_result"
    },
    {
     "data": {
      "image/png": "[encoded data removed]",
      "text/plain": [
       "<Figure size 720x936 with 9 Axes>"
      ]
     },
     "metadata": {
      "tags": []
     },
     "output_type": "display_data"
    }
   ],
   "source": [
    "# As we see, the scales are very different, so we will have to normalize data\n",
    "df.hist(figsize = (10,13))"
   ]
  },
  {
   "cell_type": "code",
   "execution_count": 0,
   "metadata": {
    "colab": {},
    "colab_type": "code",
    "id": "hSy02RBdp3FW",
    "scrolled": true
   },
   "outputs": [],
   "source": [
    "# Normalize all numerical attributes\n",
    "def zscore(x):\n",
    "    #assert isinstance(x,np.ndarray), \"x must be a numpy array\"\n",
    "    return (x-np.mean(x)) / np.std(x)"
   ]
  },
  {
   "cell_type": "code",
   "execution_count": 0,
   "metadata": {
    "colab": {
     "base_uri": "https://localhost:8080/",
     "height": 224
    },
    "colab_type": "code",
    "id": "o7sEQSDBp3FY",
    "outputId": "fbd98571-0165-4523-cb30-9dc346e019f0"
   },
   "outputs": [
    {
     "data": {
      "text/html": [
       "<div>\n",
       "<style scoped>\n",
       "    .dataframe tbody tr th:only-of-type {\n",
       "        vertical-align: middle;\n",
       "    }\n",
       "\n",
       "    .dataframe tbody tr th {\n",
       "        vertical-align: top;\n",
       "    }\n",
       "\n",
       "    .dataframe thead th {\n",
       "        text-align: right;\n",
       "    }\n",
       "</style>\n",
       "<table border=\"1\" class=\"dataframe\">\n",
       "  <thead>\n",
       "    <tr style=\"text-align: right;\">\n",
       "      <th></th>\n",
       "      <th>account_status</th>\n",
       "      <th>duration</th>\n",
       "      <th>credit_history</th>\n",
       "      <th>purpose</th>\n",
       "      <th>credit_amount</th>\n",
       "      <th>savings_account</th>\n",
       "      <th>employment_since</th>\n",
       "      <th>installment_rate</th>\n",
       "      <th>personal_status_sex</th>\n",
       "      <th>guarantors</th>\n",
       "      <th>residence_since</th>\n",
       "      <th>property</th>\n",
       "      <th>age</th>\n",
       "      <th>other_installment_plans</th>\n",
       "      <th>housing</th>\n",
       "      <th>number_of_credits</th>\n",
       "      <th>job</th>\n",
       "      <th>people_to_maintain</th>\n",
       "      <th>phone</th>\n",
       "      <th>foreign_worker</th>\n",
       "    </tr>\n",
       "  </thead>\n",
       "  <tbody>\n",
       "    <tr>\n",
       "      <th>0</th>\n",
       "      <td>A14</td>\n",
       "      <td>1.252574</td>\n",
       "      <td>A32</td>\n",
       "      <td>NaN</td>\n",
       "      <td>7.740230</td>\n",
       "      <td>A63</td>\n",
       "      <td>NaN</td>\n",
       "      <td>0.918477</td>\n",
       "      <td>A93</td>\n",
       "      <td>A101</td>\n",
       "      <td>1.046987</td>\n",
       "      <td>A123</td>\n",
       "      <td>0.303788</td>\n",
       "      <td>A143</td>\n",
       "      <td>A152</td>\n",
       "      <td>-0.704926</td>\n",
       "      <td>A173</td>\n",
       "      <td>-0.428290</td>\n",
       "      <td>-0.823318</td>\n",
       "      <td>NaN</td>\n",
       "    </tr>\n",
       "    <tr>\n",
       "      <th>1</th>\n",
       "      <td>A12</td>\n",
       "      <td>-0.240857</td>\n",
       "      <td>A32</td>\n",
       "      <td>A46</td>\n",
       "      <td>7.122060</td>\n",
       "      <td>A65</td>\n",
       "      <td>A73</td>\n",
       "      <td>0.918477</td>\n",
       "      <td>A93</td>\n",
       "      <td>A101</td>\n",
       "      <td>1.046987</td>\n",
       "      <td>A124</td>\n",
       "      <td>2.238742</td>\n",
       "      <td>A143</td>\n",
       "      <td>A153</td>\n",
       "      <td>-0.704926</td>\n",
       "      <td>NaN</td>\n",
       "      <td>-0.428290</td>\n",
       "      <td>-0.823318</td>\n",
       "      <td>1.0</td>\n",
       "    </tr>\n",
       "    <tr>\n",
       "      <th>2</th>\n",
       "      <td>A13</td>\n",
       "      <td>0.256953</td>\n",
       "      <td>A32</td>\n",
       "      <td>A40</td>\n",
       "      <td>6.853299</td>\n",
       "      <td>A61</td>\n",
       "      <td>A74</td>\n",
       "      <td>0.918477</td>\n",
       "      <td>A93</td>\n",
       "      <td>A101</td>\n",
       "      <td>0.140505</td>\n",
       "      <td>A124</td>\n",
       "      <td>0.215835</td>\n",
       "      <td>A141</td>\n",
       "      <td>A153</td>\n",
       "      <td>-0.704926</td>\n",
       "      <td>NaN</td>\n",
       "      <td>2.334869</td>\n",
       "      <td>-0.823318</td>\n",
       "      <td>NaN</td>\n",
       "    </tr>\n",
       "    <tr>\n",
       "      <th>3</th>\n",
       "      <td>A14</td>\n",
       "      <td>-0.489762</td>\n",
       "      <td>A33</td>\n",
       "      <td>A43</td>\n",
       "      <td>7.298445</td>\n",
       "      <td>A61</td>\n",
       "      <td>A73</td>\n",
       "      <td>0.918477</td>\n",
       "      <td>A94</td>\n",
       "      <td>A101</td>\n",
       "      <td>0.140505</td>\n",
       "      <td>A121</td>\n",
       "      <td>-0.223927</td>\n",
       "      <td>A141</td>\n",
       "      <td>A152</td>\n",
       "      <td>1.027079</td>\n",
       "      <td>A173</td>\n",
       "      <td>-0.428290</td>\n",
       "      <td>-0.823318</td>\n",
       "      <td>1.0</td>\n",
       "    </tr>\n",
       "    <tr>\n",
       "      <th>4</th>\n",
       "      <td>A14</td>\n",
       "      <td>0.256953</td>\n",
       "      <td>A32</td>\n",
       "      <td>A40</td>\n",
       "      <td>7.329750</td>\n",
       "      <td>A64</td>\n",
       "      <td>A74</td>\n",
       "      <td>0.918477</td>\n",
       "      <td>A92</td>\n",
       "      <td>A101</td>\n",
       "      <td>0.140505</td>\n",
       "      <td>A123</td>\n",
       "      <td>-0.135974</td>\n",
       "      <td>A143</td>\n",
       "      <td>A152</td>\n",
       "      <td>-0.704926</td>\n",
       "      <td>A173</td>\n",
       "      <td>2.334869</td>\n",
       "      <td>1.214598</td>\n",
       "      <td>1.0</td>\n",
       "    </tr>\n",
       "  </tbody>\n",
       "</table>\n",
       "</div>"
      ],
      "text/plain": [
       "  account_status  duration  ...     phone foreign_worker\n",
       "0            A14  1.252574  ... -0.823318            NaN\n",
       "1            A12 -0.240857  ... -0.823318            1.0\n",
       "2            A13  0.256953  ... -0.823318            NaN\n",
       "3            A14 -0.489762  ... -0.823318            1.0\n",
       "4            A14  0.256953  ...  1.214598            1.0\n",
       "\n",
       "[5 rows x 20 columns]"
      ]
     },
     "execution_count": 18,
     "metadata": {
      "tags": []
     },
     "output_type": "execute_result"
    }
   ],
   "source": [
    "df = df.apply(lambda x: zscore(x) if x.dtype == 'int64' else x)\n",
    "df.head()"
   ]
  },
  {
   "cell_type": "code",
   "execution_count": 0,
   "metadata": {
    "colab": {
     "base_uri": "https://localhost:8080/",
     "height": 136
    },
    "colab_type": "code",
    "id": "CgGNMLJwp3Fa",
    "outputId": "20e7b214-e69d-4ff2-88f8-4c549d98ccf1"
   },
   "outputs": [
    {
     "name": "stdout",
     "output_type": "stream",
     "text": [
      "duration : -1.4024146328950455 -               4.239435632552691\n",
      "credit_amount : 5.521460917862246 -               9.82140944150052\n",
      "installment_rate : -1.7645135849361222 -               0.9184771676276725\n",
      "residence_since : -1.6724592395536915 -               1.0469866784197903\n",
      "age : -1.4552613021409855 -               3.4700761159597757\n",
      "number_of_credits : -0.704925998389089 -               4.491088731751615\n",
      "people_to_maintain : -0.4282895663715421 -               2.3348689263480837\n"
     ]
    }
   ],
   "source": [
    "display_range(df, numerical)"
   ]
  },
  {
   "cell_type": "code",
   "execution_count": 0,
   "metadata": {
    "colab": {
     "base_uri": "https://localhost:8080/",
     "height": 941
    },
    "colab_type": "code",
    "id": "nfQff5GHp3Fc",
    "outputId": "74de51a8-5a33-4804-cbfc-34b2f26b65e9"
   },
   "outputs": [
    {
     "data": {
      "text/plain": [
       "array([[<matplotlib.axes._subplots.AxesSubplot object at 0x7f5c23956748>,\n",
       "        <matplotlib.axes._subplots.AxesSubplot object at 0x7f5c23931630>,\n",
       "        <matplotlib.axes._subplots.AxesSubplot object at 0x7f5c238da978>],\n",
       "       [<matplotlib.axes._subplots.AxesSubplot object at 0x7f5c23902ef0>,\n",
       "        <matplotlib.axes._subplots.AxesSubplot object at 0x7f5c238b24a8>,\n",
       "        <matplotlib.axes._subplots.AxesSubplot object at 0x7f5c23859a20>],\n",
       "       [<matplotlib.axes._subplots.AxesSubplot object at 0x7f5c23884f98>,\n",
       "        <matplotlib.axes._subplots.AxesSubplot object at 0x7f5c23834588>,\n",
       "        <matplotlib.axes._subplots.AxesSubplot object at 0x7f5c238345c0>]],\n",
       "      dtype=object)"
      ]
     },
     "execution_count": 20,
     "metadata": {
      "tags": []
     },
     "output_type": "execute_result"
    },
    {
     "data": {
      "image/png": "[encoded data removed]",
      "text/plain": [
       "<Figure size 720x936 with 9 Axes>"
      ]
     },
     "metadata": {
      "tags": []
     },
     "output_type": "display_data"
    }
   ],
   "source": [
    "df.hist(figsize = (10,13))"
   ]
  },
  {
   "cell_type": "markdown",
   "metadata": {
    "colab_type": "text",
    "id": "K91mr0S5p3Ff"
   },
   "source": [
    "#### 2.1.2 Categorical\n"
   ]
  },
  {
   "cell_type": "code",
   "execution_count": 0,
   "metadata": {
    "colab": {},
    "colab_type": "code",
    "id": "jVOHsRnjp3Fg"
   },
   "outputs": [],
   "source": [
    "# Cols without missing values = X, with missing values become y one by one"
   ]
  },
  {
   "cell_type": "code",
   "execution_count": 0,
   "metadata": {
    "colab": {
     "base_uri": "https://localhost:8080/",
     "height": 255
    },
    "colab_type": "code",
    "id": "PsBYxU69p3Fj",
    "outputId": "78612a96-4ebd-4cb9-8846-15c07fc39b85"
   },
   "outputs": [
    {
     "data": {
      "text/plain": [
       "account_status              4\n",
       "credit_history              5\n",
       "purpose                    10\n",
       "savings_account             5\n",
       "employment_since            5\n",
       "personal_status_sex         4\n",
       "guarantors                  3\n",
       "property                    4\n",
       "other_installment_plans     3\n",
       "housing                     3\n",
       "job                         4\n",
       "phone                       2\n",
       "foreign_worker              2\n",
       "dtype: int64"
      ]
     },
     "execution_count": 22,
     "metadata": {
      "tags": []
     },
     "output_type": "execute_result"
    }
   ],
   "source": [
    "# Show how many unique categorical values we have: useful for one-hot encoding\n",
    "df[categorical].nunique()"
   ]
  },
  {
   "cell_type": "code",
   "execution_count": 0,
   "metadata": {
    "colab": {
     "base_uri": "https://localhost:8080/",
     "height": 221
    },
    "colab_type": "code",
    "id": "QND4PsTkp3Fl",
    "outputId": "3a5f26ef-ee60-498d-c382-3c1886e81dd8"
   },
   "outputs": [
    {
     "name": "stdout",
     "output_type": "stream",
     "text": [
      "Unique categorical values:\n",
      "account_status : ['A14' 'A12' 'A13' 'A11']\n",
      "credit_history : ['A32' 'A33' 'A34' 'A30' 'A31']\n",
      "purpose : [nan 'A46' 'A40' 'A43' 'A41' 'A42' 'A49' 'A410' 'A45' 'A48' 'A44']\n",
      "savings_account : ['A63' 'A65' 'A61' 'A64' 'A62']\n",
      "employment_since : [nan 'A73' 'A74' 'A75' 'A72' 'A71']\n",
      "personal_status_sex : ['A93' 'A94' 'A92' 'A91']\n",
      "guarantors : ['A101' 'A102' 'A103']\n",
      "property : ['A123' 'A124' 'A121' 'A122']\n",
      "other_installment_plans : ['A143' 'A141' 'A142']\n",
      "housing : ['A152' 'A153' 'A151']\n",
      "job : ['A173' nan 'A174' 'A172' 'A171']\n"
     ]
    }
   ],
   "source": [
    "# Feature representation\n",
    "\n",
    "print(\"Unique categorical values:\")\n",
    "for att in df.select_dtypes(include=[object]):\n",
    "    print(att,\":\", df[att].unique())\n",
    "    \n",
    "# We will have to represent features differently "
   ]
  },
  {
   "cell_type": "code",
   "execution_count": 0,
   "metadata": {
    "colab": {},
    "colab_type": "code",
    "id": "mNuGy9blp3Fo"
   },
   "outputs": [],
   "source": [
    "def str_to_num(df):\n",
    "    ''' Encodes nominal features to numeric features \n",
    "    return: data frame with all-numeric features, a dict to decode '''\n",
    "    \n",
    "\n",
    "    # create a new df with categorical features only, encoded as numbers\n",
    "    categorical, numerical = categorical_numerical_split(df)\n",
    "    \n",
    "    enc = LabelEncoder()\n",
    "    df_encoded = df[categorical].apply(lambda x: enc.fit_transform(x))\n",
    "\n",
    "    df_encoded_concat = pd.concat([df_encoded, df[numerical]], axis=1)\n",
    "    \n",
    "    # Create a dict to decode numeric values\n",
    "    d = defaultdict()\n",
    "    for col_name in df[categorical]:\n",
    "        # e.g.: account_status_A14 :  3\n",
    "        for unique_str_val, unique_num_val in zip(\n",
    "            df[col_name].unique(), df_encoded[col_name].unique()):\n",
    "                d[col_name + '_' + unique_str_val] = unique_num_val\n",
    "                \n",
    "    \n",
    "    return df_encoded_concat , d\n"
   ]
  },
  {
   "cell_type": "code",
   "execution_count": 0,
   "metadata": {
    "colab": {
     "base_uri": "https://localhost:8080/",
     "height": 544
    },
    "colab_type": "code",
    "id": "gngY4Gt4p3Fq",
    "outputId": "ee972ea1-c7ae-467d-c1b5-de4c994e96a1",
    "scrolled": true
   },
   "outputs": [
    {
     "name": "stdout",
     "output_type": "stream",
     "text": [
      "account_status_A14 :  3\n",
      "account_status_A12 :  1\n",
      "account_status_A13 :  2\n",
      "account_status_A11 :  0\n",
      "credit_history_A32 :  2\n",
      "credit_history_A33 :  3\n",
      "credit_history_A34 :  4\n",
      "credit_history_A30 :  0\n",
      "credit_history_A31 :  1\n",
      "savings_account_A63 :  2\n",
      "savings_account_A65 :  4\n",
      "savings_account_A61 :  0\n",
      "savings_account_A64 :  3\n",
      "savings_account_A62 :  1\n",
      "personal_status_sex_A93 :  2\n",
      "personal_status_sex_A94 :  3\n",
      "personal_status_sex_A92 :  1\n",
      "personal_status_sex_A91 :  0\n",
      "guarantors_A101 :  0\n",
      "guarantors_A102 :  1\n",
      "guarantors_A103 :  2\n",
      "property_A123 :  2\n",
      "property_A124 :  3\n",
      "property_A121 :  0\n",
      "property_A122 :  1\n",
      "other_installment_plans_A143 :  2\n",
      "other_installment_plans_A141 :  0\n",
      "other_installment_plans_A142 :  1\n",
      "housing_A152 :  1\n",
      "housing_A153 :  2\n",
      "housing_A151 :  0\n"
     ]
    }
   ],
   "source": [
    "df_X_enc, df_X_enc_dict = str_to_num(df_X)\n",
    "\n",
    "# Print out new numericaly encoded features\n",
    "for k,v in df_X_enc_dict.items():\n",
    "    print(k, ': ', v)\n"
   ]
  },
  {
   "cell_type": "code",
   "execution_count": 0,
   "metadata": {
    "colab": {
     "base_uri": "https://localhost:8080/",
     "height": 34
    },
    "colab_type": "code",
    "id": "Ua5AxLr3p3Fs",
    "outputId": "351806cf-1567-4522-96a5-122712eb2cab"
   },
   "outputs": [
    {
     "name": "stdout",
     "output_type": "stream",
     "text": [
      "(1000, 16)\n"
     ]
    }
   ],
   "source": [
    "# Make sure there are still 16 feature\n",
    "print(df_X_enc.shape)"
   ]
  },
  {
   "cell_type": "code",
   "execution_count": 0,
   "metadata": {
    "colab": {},
    "colab_type": "code",
    "id": "1nGyEpg5p3Fu"
   },
   "outputs": [],
   "source": [
    "def to_one_hot(df, verbose=False):\n",
    "    '''Encodes specified columns of a dataframe as one-hot vectors\n",
    "    \n",
    "    df: dataframe \n",
    "    to_onehot: list of columns to encode\n",
    "    \n",
    "    Returns encoded df\n",
    "    '''\n",
    "    \n",
    "    categorical, numerical = categorical_numerical_split(df)\n",
    "    \n",
    "    # 1-hot encoding for the categorical variables\n",
    "    df_only_one_hot = pd.get_dummies(df[categorical])\n",
    "    \n",
    "    if verbose == True:\n",
    "        print(f'new 1-hot-encoded variables:\\n {list(df_only_one_hot.columns)}')\n",
    "    \n",
    "    # Concatenate numerical and categorical data\n",
    "    df_X_onehot = pd.concat([df[numerical], df_only_one_hot], axis = 1)\n",
    "    \n",
    "    if verbose == True:\n",
    "        print(f'Shape: {df_X_onehot.shape}')\n",
    "        df_X_onehot.head()\n",
    "    \n",
    "    return df_X_onehot"
   ]
  },
  {
   "cell_type": "code",
   "execution_count": 0,
   "metadata": {
    "colab": {
     "base_uri": "https://localhost:8080/",
     "height": 88
    },
    "colab_type": "code",
    "id": "GWbC-1cEp3Fv",
    "outputId": "7653a3a6-8702-4094-92d8-2a2ddebace6d",
    "scrolled": true
   },
   "outputs": [
    {
     "name": "stdout",
     "output_type": "stream",
     "text": [
      "new 1-hot-encoded variables:\n",
      " ['account_status_A11', 'account_status_A12', 'account_status_A13', 'account_status_A14', 'credit_history_A30', 'credit_history_A31', 'credit_history_A32', 'credit_history_A33', 'credit_history_A34', 'savings_account_A61', 'savings_account_A62', 'savings_account_A63', 'savings_account_A64', 'savings_account_A65', 'personal_status_sex_A91', 'personal_status_sex_A92', 'personal_status_sex_A93', 'personal_status_sex_A94', 'guarantors_A101', 'guarantors_A102', 'guarantors_A103', 'property_A121', 'property_A122', 'property_A123', 'property_A124', 'other_installment_plans_A141', 'other_installment_plans_A142', 'other_installment_plans_A143', 'housing_A151', 'housing_A152', 'housing_A153']\n",
      "Shape: (1000, 39)\n"
     ]
    }
   ],
   "source": [
    "# Fatures that shoud be encoded for X_train\n",
    "df_X_onehot = to_one_hot(df_X, verbose=True)"
   ]
  },
  {
   "cell_type": "markdown",
   "metadata": {
    "colab_type": "text",
    "id": "0ib5Gmwap3Fy"
   },
   "source": [
    "### How balanced is the dataset?"
   ]
  },
  {
   "cell_type": "code",
   "execution_count": 0,
   "metadata": {
    "colab": {
     "base_uri": "https://localhost:8080/",
     "height": 333
    },
    "colab_type": "code",
    "id": "34uy-WYEp3F2",
    "outputId": "3ace7211-ce00-4ba5-97d2-cc0f8e35d3e7",
    "scrolled": false
   },
   "outputs": [
    {
     "name": "stdout",
     "output_type": "stream",
     "text": [
      "1    700\n",
      "0    300\n",
      "Name: creditworthy, dtype: int64\n"
     ]
    },
    {
     "data": {
      "text/plain": [
       "<matplotlib.axes._subplots.AxesSubplot at 0x7f5c23722160>"
      ]
     },
     "execution_count": 29,
     "metadata": {
      "tags": []
     },
     "output_type": "execute_result"
    },
    {
     "data": {
      "image/png": "[encoded data removed]",
      "text/plain": [
       "<Figure size 432x288 with 1 Axes>"
      ]
     },
     "metadata": {
      "tags": []
     },
     "output_type": "display_data"
    }
   ],
   "source": [
    "# 1 = good, trustworthy\n",
    "# 0 = bad, Not trustworthy\n",
    "print(label.value_counts())\n",
    "\n",
    "label.value_counts().plot(kind='bar', label= 'Target Values')\n",
    "# There are more than twice as many creditworthy examples"
   ]
  },
  {
   "cell_type": "markdown",
   "metadata": {
    "colab_type": "text",
    "id": "P4h9ctGMp3F4"
   },
   "source": [
    "### Balancing the Dataset  \n",
    "1. Oversampling: It is the process of generating synthetic data that tries   \n",
    "to randomly generate a sample of the attributes from observations in the minority class.   \n",
    "The most common technique is called SMOTE (Synthetic Minority Over-sampling Technique).   \n",
    "In simple terms, it looks at the feature space for the minority class data points   \n",
    "and considers its k nearest neighbours.\n",
    "\n",
    "[CBHK2002]\t(1, 2) N. V. Chawla, K. W. Bowyer, L. O.Hall, W. P. Kegelmeyer,   \n",
    "“SMOTE: synthetic minority over-sampling technique,” Journal of artificial intelligence research,   \n",
    "16, 321-357, 2002."
   ]
  },
  {
   "cell_type": "code",
   "execution_count": 0,
   "metadata": {
    "colab": {},
    "colab_type": "code",
    "id": "ry7uh4_-p3F4"
   },
   "outputs": [],
   "source": [
    "def balance_data(df,label):\n",
    "    sm = SMOTE(sampling_strategy='minority', random_state=7)\n",
    "\n",
    "    # Fit the model to generate the data.\n",
    "    cols = df.columns\n",
    "    df, label = sm.fit_sample(df, label)\n",
    "    df = pd.DataFrame(df)\n",
    "    label = pd.Series(label)\n",
    "\n",
    "    df.columns = cols\n",
    "    return df,label"
   ]
  },
  {
   "cell_type": "code",
   "execution_count": 0,
   "metadata": {
    "colab": {
     "base_uri": "https://localhost:8080/",
     "height": 333
    },
    "colab_type": "code",
    "id": "-GpvonaKp3F7",
    "outputId": "4431b914-84a1-40ef-cb12-7776cad0c779",
    "scrolled": true
   },
   "outputs": [
    {
     "name": "stdout",
     "output_type": "stream",
     "text": [
      "1    700\n",
      "0    700\n",
      "dtype: int64\n"
     ]
    },
    {
     "data": {
      "text/plain": [
       "<matplotlib.axes._subplots.AxesSubplot at 0x7f5c234ccf98>"
      ]
     },
     "execution_count": 31,
     "metadata": {
      "tags": []
     },
     "output_type": "execute_result"
    },
    {
     "data": {
      "image/png": "[encoded data removed]",
      "text/plain": [
       "<Figure size 432x288 with 1 Axes>"
      ]
     },
     "metadata": {
      "tags": []
     },
     "output_type": "display_data"
    }
   ],
   "source": [
    "label_orig = label\n",
    "df_X_enc, label_enc = balance_data(df_X_enc,label_orig)\n",
    "df_X_onehot, label_onehot = balance_data(df_X_onehot, label_orig)\n",
    "\n",
    "# 1 = good, trustworthy\n",
    "# 0 = bad, Not trustworthy\n",
    "print(label_enc.value_counts())\n",
    "\n",
    "label_enc.value_counts().plot(kind='bar', label= 'Target Values')\n",
    "# There are more than twice as many creditworthy examples"
   ]
  },
  {
   "cell_type": "code",
   "execution_count": 0,
   "metadata": {
    "colab": {
     "base_uri": "https://localhost:8080/",
     "height": 350
    },
    "colab_type": "code",
    "id": "Yq7eieuAp3F-",
    "outputId": "cfd098b7-1e56-4038-d546-29a37ea31572",
    "scrolled": true
   },
   "outputs": [
    {
     "name": "stdout",
     "output_type": "stream",
     "text": [
      "1    700\n",
      "0    700\n",
      "dtype: int64\n",
      "(1400, 39)\n"
     ]
    },
    {
     "data": {
      "text/plain": [
       "<matplotlib.axes._subplots.AxesSubplot at 0x7f5c2359f9e8>"
      ]
     },
     "execution_count": 32,
     "metadata": {
      "tags": []
     },
     "output_type": "execute_result"
    },
    {
     "data": {
      "image/png": "[encoded data removed]",
      "text/plain": [
       "<Figure size 432x288 with 1 Axes>"
      ]
     },
     "metadata": {
      "tags": []
     },
     "output_type": "display_data"
    }
   ],
   "source": [
    "print(label_enc.value_counts())\n",
    "\n",
    "print(df_X_onehot.shape)\n",
    "label_onehot.value_counts().plot(kind='bar', label= 'Target Values')"
   ]
  },
  {
   "cell_type": "markdown",
   "metadata": {
    "colab_type": "text",
    "id": "djmyR5Wip3GB"
   },
   "source": [
    "### Evaluation"
   ]
  },
  {
   "cell_type": "markdown",
   "metadata": {
    "colab_type": "text",
    "id": "Sd3ojCVpp3GC"
   },
   "source": [
    "Aim: how many people out of those who thought werr trustworthy, were actually trustworthy\n",
    "\n",
    "Aim: reduce the number of false positives, to increase precision  \n",
    "Note: A model that produces no false positives has a precision of 1.0.\n",
    "\n",
    "![]()"
   ]
  },
  {
   "cell_type": "code",
   "execution_count": 0,
   "metadata": {
    "colab": {},
    "colab_type": "code",
    "id": "ebnaVbDlp3GD"
   },
   "outputs": [],
   "source": [
    "# Function for evaluation reports\n",
    "def cross_validate(clf, X_train, y_train, metrics=['precision', 'accuracy']):\n",
    "    ''' 10-fold Cross Validation on training and validation data \n",
    "        Nothing to return '''\n",
    "\n",
    "    for metric in metrics: \n",
    "        scores = cross_val_score(clf, X_train, y_train, cv=10, scoring=metric)\n",
    "        \n",
    "        # The mean score and standard deviation of the score estimate\n",
    "        print(\"Cross Validation %s: %0.2f (+/- %0.2f)\" % (\n",
    "            metric, scores.mean(), scores.std()))\n",
    "    \n",
    "    return \n",
    "\n",
    "def train(clf, X_train, y_train):\n",
    "    '''Fits classifier'''\n",
    "    print(f'Training a {clf.__class__.__name__}')\n",
    "    print(f'with a training set size of {len(X_train)}')\n",
    "    clf.fit(X_train, y_train)\n",
    "    return clf\n",
    "\n",
    "\n",
    "def predict(clf, X_test):    \n",
    "    ''' Predict on unseen test data \n",
    "        Return predicted labels '''\n",
    "    y_pred = clf.predict(X_test)\n",
    "    return y_pred\n",
    "\n",
    "\n",
    "def evaluate_test(y_test, y_pred):\n",
    "    '''Evaluate on Precision and Accuracy'''\n",
    "    print(f'Test Precision Score: {precision_score(y_test, y_pred)}')\n",
    "    print(f'Test Accuracy Score: {accuracy_score(y_test, y_pred)}')\n",
    "    \n",
    "    tn, fp, fn, tp = confusion_matrix(y_test, y_pred).ravel()\n",
    "    print(f'Test Confusion Matrix: \\n {confusion_matrix(y_test, y_pred)}')\n",
    "    print(f'Number of False Positives: {fp}')\n",
    "    \n",
    "    return \n",
    "\n",
    "def train_predict(clf, X_train, y_train, X_test, y_test=None):\n",
    "    # Train the classifier\n",
    "    clf = train(clf, X_train, y_train)\n",
    "    \n",
    "    # Predict labes\n",
    "    y_pred = predict(clf, X_test)\n",
    "    \n",
    "    return y_pred"
   ]
  },
  {
   "cell_type": "markdown",
   "metadata": {
    "colab_type": "text",
    "id": "3OB9meOlp3GE"
   },
   "source": [
    "### Random Forest"
   ]
  },
  {
   "cell_type": "markdown",
   "metadata": {
    "colab_type": "text",
    "id": "cs798Abcp3GE"
   },
   "source": [
    "Random forest classifier creates a set of decision trees from randomly selected   \n",
    "subset of training set. It then aggregates the votes from different decision trees   \n",
    "to decide the final class of the test object.\n",
    "Each non-leaf node in this tree is a decision maker.   \n",
    "Each node carries out a specific test to determine where to go next."
   ]
  },
  {
   "cell_type": "code",
   "execution_count": 0,
   "metadata": {
    "colab": {
     "base_uri": "https://localhost:8080/",
     "height": 391
    },
    "colab_type": "code",
    "id": "c7J0w4uOp3GF",
    "outputId": "214a7f73-21c8-453e-a5d5-2de493f9e9dc",
    "scrolled": false
   },
   "outputs": [
    {
     "name": "stdout",
     "output_type": "stream",
     "text": [
      "\n",
      " Numerically Encoded Features: \n",
      "(1400, 16)\n",
      "Training a RandomForestClassifier\n",
      "with a training set size of 1050\n",
      "Test Precision Score: 0.88\n",
      "Test Accuracy Score: 0.8628571428571429\n",
      "Test Confusion Matrix: \n",
      " [[148  21]\n",
      " [ 27 154]]\n",
      "Number of False Positives: 21\n",
      "\n",
      " One-hot Encoded Features\n",
      "(1400, 39)\n",
      "Training a RandomForestClassifier\n",
      "with a training set size of 1050\n",
      "Test Precision Score: 0.8385416666666666\n",
      "Test Accuracy Score: 0.8542857142857143\n",
      "Test Confusion Matrix: \n",
      " [[138  31]\n",
      " [ 20 161]]\n",
      "Number of False Positives: 31\n"
     ]
    }
   ],
   "source": [
    "# Benchmark With One Hot and Labelencoder:\n",
    "\n",
    "df_Xs = [df_X_enc, df_X_onehot]\n",
    "labels = [label_enc, label_onehot]\n",
    "names = ['Numerically Encoded Features: ', 'One-hot Encoded Features']\n",
    "\n",
    "for df_X_encoded, lab, name in zip(df_Xs, labels, names):\n",
    "    print('\\n', name)\n",
    "    print(df_X_encoded.shape)\n",
    "    # Spliting X and y into train and test version\n",
    "    X_train, X_test, y_train, y_test = train_test_split(\n",
    "        df_X_encoded, lab, test_size = 0.25, random_state=4)\n",
    "\n",
    "    clf = RandomForestClassifier(n_estimators=100, random_state=33)\n",
    "    y_pred = train_predict(clf, X_train, y_train, X_test, y_test)\n",
    "    evaluate_test(y_test, y_pred)"
   ]
  },
  {
   "cell_type": "code",
   "execution_count": 0,
   "metadata": {
    "colab": {},
    "colab_type": "code",
    "id": "7sU5xjdPp3GH"
   },
   "outputs": [],
   "source": [
    "# Random Forest: Grid_Search\n",
    "\n",
    "def grid_search(model, param_grid, X_train, y_train, scoring='precision'): \n",
    "    grid_search = GridSearchCV(model, param_grid=param_grid, cv=5, \n",
    "                               scoring=scoring, verbose=1)\n",
    "    grid_search.fit(X_train, y_train)\n",
    "    \n",
    "    print(f'Best Score: {grid_search.best_score_}')\n",
    "    print(f'Best Params: {grid_search.best_params_}')\n",
    "    \n",
    "    return grid_search.best_estimator_\n",
    "\n",
    "\n",
    "def randomforestclf_grid_search(X_train, y_train, X_test, y_test):\n",
    "    \n",
    "    num_f = X_train.shape[1]\n",
    "    num_f_less = int(num_f - (num_f/6))\n",
    "    \n",
    "    #Seting the Hyper Parameters\n",
    "    param_grid = {\"max_depth\": [3, 5, 7, 10, 20, None],\n",
    "              \"n_estimators\":[1, 10, 50, 150],\n",
    "            #defalut “auto”: max_features=sqrt(n_features)\n",
    "              \"max_features\": [1, 10, num_f_less, num_f, \"auto\"], \n",
    "              \"criterion\" : ['gini','entropy']}\n",
    "\n",
    "    #Creating the classifier\n",
    "    model = RandomForestClassifier(random_state=33)\n",
    "\n",
    "    best_estim = grid_search(model, param_grid, X_train, y_train)\n",
    "\n",
    "    return best_estim"
   ]
  },
  {
   "cell_type": "markdown",
   "metadata": {
    "colab_type": "text",
    "id": "maYE0MB-p3GN"
   },
   "source": [
    "**Gini**\n",
    "\n",
    "* Favors larger partitions. \n",
    "*  Uses squared proportion of classes.  \n",
    "* Perfectly classified, Gini Index would be zero.  \n",
    "* We want a variable split that has a low Gini Index.\n",
    "\n",
    "![](data/gini.png)\n",
    "\n",
    "\n",
    "**Entropy**\n",
    "\n",
    "* Favors splits with small counts but many unique values.\n",
    "* Weights probability of class by log(base=2) of the class probability\n",
    "* A smaller value of Entropy is better.  That makes the difference between the parent node’s entropy larger\n",
    "* Information Gain is the Entropy of the parent node minus the entropy of the child nodes.\n",
    "\n",
    "![](data/entropy.png)\n",
    "\n",
    "\n"
   ]
  },
  {
   "cell_type": "markdown",
   "metadata": {
    "colab_type": "text",
    "id": "8LpY_7pzp3GN"
   },
   "source": [
    "### Handling missing Values"
   ]
  },
  {
   "cell_type": "code",
   "execution_count": 0,
   "metadata": {
    "colab": {
     "base_uri": "https://localhost:8080/",
     "height": 204
    },
    "colab_type": "code",
    "id": "oUXsEGgFp3GO",
    "outputId": "ebad1af7-44dc-4cd7-80f1-04c7b91c4d7a"
   },
   "outputs": [
    {
     "data": {
      "text/html": [
       "<div>\n",
       "<style scoped>\n",
       "    .dataframe tbody tr th:only-of-type {\n",
       "        vertical-align: middle;\n",
       "    }\n",
       "\n",
       "    .dataframe tbody tr th {\n",
       "        vertical-align: top;\n",
       "    }\n",
       "\n",
       "    .dataframe thead th {\n",
       "        text-align: right;\n",
       "    }\n",
       "</style>\n",
       "<table border=\"1\" class=\"dataframe\">\n",
       "  <thead>\n",
       "    <tr style=\"text-align: right;\">\n",
       "      <th></th>\n",
       "      <th>purpose</th>\n",
       "      <th>employment_since</th>\n",
       "      <th>job</th>\n",
       "      <th>foreign_worker</th>\n",
       "    </tr>\n",
       "  </thead>\n",
       "  <tbody>\n",
       "    <tr>\n",
       "      <th>0</th>\n",
       "      <td>NaN</td>\n",
       "      <td>NaN</td>\n",
       "      <td>A173</td>\n",
       "      <td>NaN</td>\n",
       "    </tr>\n",
       "    <tr>\n",
       "      <th>1</th>\n",
       "      <td>A46</td>\n",
       "      <td>A73</td>\n",
       "      <td>NaN</td>\n",
       "      <td>1.0</td>\n",
       "    </tr>\n",
       "    <tr>\n",
       "      <th>2</th>\n",
       "      <td>A40</td>\n",
       "      <td>A74</td>\n",
       "      <td>NaN</td>\n",
       "      <td>NaN</td>\n",
       "    </tr>\n",
       "    <tr>\n",
       "      <th>3</th>\n",
       "      <td>A43</td>\n",
       "      <td>A73</td>\n",
       "      <td>A173</td>\n",
       "      <td>1.0</td>\n",
       "    </tr>\n",
       "    <tr>\n",
       "      <th>4</th>\n",
       "      <td>A40</td>\n",
       "      <td>A74</td>\n",
       "      <td>A173</td>\n",
       "      <td>1.0</td>\n",
       "    </tr>\n",
       "  </tbody>\n",
       "</table>\n",
       "</div>"
      ],
      "text/plain": [
       "  purpose employment_since   job  foreign_worker\n",
       "0     NaN              NaN  A173             NaN\n",
       "1     A46              A73   NaN             1.0\n",
       "2     A40              A74   NaN             NaN\n",
       "3     A43              A73  A173             1.0\n",
       "4     A40              A74  A173             1.0"
      ]
     },
     "execution_count": 36,
     "metadata": {
      "tags": []
     },
     "output_type": "execute_result"
    }
   ],
   "source": [
    "# Three Nominal values and one numeric 1/0 value\n",
    "df[missing_columns].head()"
   ]
  },
  {
   "cell_type": "code",
   "execution_count": 0,
   "metadata": {
    "colab": {},
    "colab_type": "code",
    "id": "c5kyLpVYp3GY",
    "scrolled": true
   },
   "outputs": [],
   "source": [
    "def encode_target_var(y_train, method = 'categorical', verbose=False):\n",
    "    ''' Encode the y label with a specified method''' \n",
    "    \n",
    "    if method == 'categorical':\n",
    "        enc = LabelEncoder()\n",
    "        y_train = enc.fit_transform(y_train)\n",
    "        if verbose: \n",
    "            print('\\nCategorical encoding of y label. Classes: ', \n",
    "                  list(enc.classes_))\n",
    "    elif method == 'one-hot':\n",
    "        enc = LabelBinarizer(neg_label=0, pos_label=1, sparse_output=False)\n",
    "        y_train = enc.fit_transform(y_train)\n",
    "        print(y_train)\n",
    "        if verbose: \n",
    "            print('One-hot-encoding of y label. Classes: {}', \n",
    "                  list(enc.classes_))\n",
    "    elif method == 'none':\n",
    "        pass\n",
    "        \n",
    "    return y_train\n",
    "\n",
    "\n",
    "def split_data_missing_vals(df, df_X, target_col, verbose=False):\n",
    "    ''' Split data into training and test datasets. \n",
    "    Test data: missing value in column,\n",
    "    train data: existing data  \n",
    "    \n",
    "    Return 1) x_train with y column in it\n",
    "        2) x_train withought y_column\n",
    "        3) y_train\n",
    "        4) x_test'''\n",
    "    \n",
    "    concat_df_target_col = pd.concat([df_X, df[target_col]], axis=1)\n",
    "\n",
    "    #Select only the rows where the target label is NaN\n",
    "    X_test = concat_df_target_col[(\n",
    "        concat_df_target_col[target_col].isna())]\n",
    "    # original: df with target column in it\n",
    "    X_train_with_target = concat_df_target_col[(\n",
    "        concat_df_target_col[target_col].notna())]\n",
    "\n",
    "    # Separate the y label\n",
    "    y_train = X_train_with_target[target_col]\n",
    "\n",
    "    # Remove the y column from the df\n",
    "    X_test = X_test.drop([target_col], axis=1)\n",
    "    X_train = X_train_with_target.drop([target_col], axis=1)\n",
    "    \n",
    "    if verbose:\n",
    "        print('Numer of test data points: ', X_test.shape[0])\n",
    "        print('Numer of train data points: ', X_train_orig.shape[0])\n",
    "    \n",
    "\n",
    "    return X_train_with_target, X_train, y_train, X_test\n",
    "\n"
   ]
  },
  {
   "cell_type": "code",
   "execution_count": 0,
   "metadata": {
    "colab": {},
    "colab_type": "code",
    "id": "eKsmcHVip3Gd",
    "scrolled": true
   },
   "outputs": [],
   "source": [
    "def compare_classifiers(classifiers, classifier_names, missing_columns, \\\n",
    "                        df_with_na, df_train, verbose=False):\n",
    "\n",
    "    for col in missing_columns:\n",
    "        print('\\n================================= \\n')\n",
    "        print(f'Linear Classification for featuren \"{col}\"')\n",
    "\n",
    "        # Split data. Test data: missing value in column, train data: existing \n",
    "        X_train_with_target, X_train, y_train, X_test = split_data_missing_vals(\n",
    "            df_with_na, df_train, col)\n",
    "\n",
    "        for clf, name in zip(classifiers, classifier_names): \n",
    "            print(f'\\nClassifier: {name} \\n')\n",
    "            \n",
    "            cross_validate(clf, X_train, y_train, metrics=['accuracy', 'f1_micro'])\n",
    "    return"
   ]
  },
  {
   "cell_type": "code",
   "execution_count": 0,
   "metadata": {
    "colab": {
     "base_uri": "https://localhost:8080/",
     "height": 1000
    },
    "colab_type": "code",
    "id": "CXvlNOw9p3Gf",
    "outputId": "17aa035c-a7b0-4686-8309-c9260abcf254",
    "scrolled": true
   },
   "outputs": [
    {
     "name": "stdout",
     "output_type": "stream",
     "text": [
      "\n",
      "================================= \n",
      "\n",
      "Linear Classification for featuren \"purpose\"\n",
      "\n",
      "Classifier: SGDClassifier \n",
      "\n",
      "Cross Validation accuracy: 0.27 (+/- 0.04)\n",
      "Cross Validation f1_micro: 0.20 (+/- 0.09)\n",
      "\n",
      "Classifier: RidgeClassifier \n",
      "\n",
      "Cross Validation accuracy: 0.34 (+/- 0.06)\n",
      "Cross Validation f1_micro: 0.34 (+/- 0.06)\n",
      "\n",
      "Classifier: LogisticRegression \n",
      "\n",
      "Cross Validation accuracy: 0.35 (+/- 0.04)\n",
      "Cross Validation f1_micro: 0.35 (+/- 0.04)\n",
      "\n",
      "================================= \n",
      "\n",
      "Linear Classification for featuren \"employment_since\"\n",
      "\n",
      "Classifier: SGDClassifier \n",
      "\n",
      "Cross Validation accuracy: 0.30 (+/- 0.09)\n",
      "Cross Validation f1_micro: 0.29 (+/- 0.07)\n",
      "\n",
      "Classifier: RidgeClassifier \n",
      "\n",
      "Cross Validation accuracy: 0.39 (+/- 0.05)\n",
      "Cross Validation f1_micro: 0.39 (+/- 0.05)\n",
      "\n",
      "Classifier: LogisticRegression \n",
      "\n",
      "Cross Validation accuracy: 0.39 (+/- 0.05)\n",
      "Cross Validation f1_micro: 0.39 (+/- 0.05)\n",
      "\n",
      "================================= \n",
      "\n",
      "Linear Classification for featuren \"job\"\n",
      "\n",
      "Classifier: SGDClassifier \n",
      "\n",
      "Cross Validation accuracy: 0.49 (+/- 0.17)\n",
      "Cross Validation f1_micro: 0.56 (+/- 0.14)\n",
      "\n",
      "Classifier: RidgeClassifier \n",
      "\n",
      "Cross Validation accuracy: 0.64 (+/- 0.03)\n",
      "Cross Validation f1_micro: 0.64 (+/- 0.03)\n",
      "\n",
      "Classifier: LogisticRegression \n",
      "\n",
      "Cross Validation accuracy: 0.63 (+/- 0.03)\n",
      "Cross Validation f1_micro: 0.63 (+/- 0.03)\n",
      "\n",
      "================================= \n",
      "\n",
      "Linear Classification for featuren \"foreign_worker\"\n",
      "\n",
      "Classifier: SGDClassifier \n",
      "\n",
      "Cross Validation accuracy: 0.87 (+/- 0.18)\n",
      "Cross Validation f1_micro: 0.95 (+/- 0.01)\n",
      "\n",
      "Classifier: RidgeClassifier \n",
      "\n",
      "Cross Validation accuracy: 0.96 (+/- 0.01)\n",
      "Cross Validation f1_micro: 0.96 (+/- 0.01)\n",
      "\n",
      "Classifier: LogisticRegression \n",
      "\n",
      "Cross Validation accuracy: 0.95 (+/- 0.01)\n",
      "Cross Validation f1_micro: 0.95 (+/- 0.01)\n"
     ]
    }
   ],
   "source": [
    "# Inherently multiclass: RidgeClassifier()\n",
    "# Multiclass as One-Vs-All: SGDClassifier(), PassiveAggressiveClassifier()\n",
    "# https://scikit-learn.org/stable/modules/multiclass.html\n",
    "\n",
    "classifiers = [SGDClassifier(max_iter=1000, tol=1e-3), RidgeClassifier(), \n",
    "               LogisticRegression(solver='lbfgs')]\n",
    "classifier_names = ['SGDClassifier', 'RidgeClassifier', 'LogisticRegression']\n",
    "missing_columns = ['purpose', 'employment_since', 'job', 'foreign_worker']\n",
    "\n",
    "compare_classifiers(classifiers, classifier_names, missing_columns, df, df_X_onehot)"
   ]
  },
  {
   "cell_type": "markdown",
   "metadata": {
    "colab_type": "text",
    "id": "ZmxIhGr4p3Gh"
   },
   "source": [
    "Only classification of \"foreign_worker\" performs well enough to use it to fill the missing values."
   ]
  },
  {
   "cell_type": "code",
   "execution_count": 0,
   "metadata": {
    "colab": {},
    "colab_type": "code",
    "id": "mWlCnNi6p3Gh"
   },
   "outputs": [],
   "source": [
    "def predict_column(clf, df_with_na, df_train, col): \n",
    "    ''' Args: \n",
    "    clf: classifier used for prediction\n",
    "    data: dataframe\n",
    "    col: name of column to predict\n",
    "    \n",
    "    Return 1) predicted column\n",
    "            2) dataframe with inserted predicted column'''\n",
    "    \n",
    "    # Split data. Test data: missing value in column, train data: existing data \n",
    "    X_train_with_target, X_train, y_train, X_test = split_data_missing_vals(\n",
    "            df_with_na, df_train, col)\n",
    "    \n",
    "    y_pred = train_predict(clf, X_train, y_train, X_test)\n",
    "\n",
    "    # Fill only the NAs with predicted values\n",
    "    X_test[col] = y_pred\n",
    "    \n",
    "    # Concat training and test rows\n",
    "    df_filled = pd.concat([X_train_with_target, X_test], axis=0)\n",
    "    #sort them back to original order\n",
    "    df_filled = df_filled.sort_index()\n",
    "    return df_filled[col]\n",
    "    "
   ]
  },
  {
   "cell_type": "code",
   "execution_count": 0,
   "metadata": {
    "colab": {},
    "colab_type": "code",
    "id": "ZfcDe_hPp3Gj"
   },
   "outputs": [],
   "source": [
    "#create DF with filled cols\n",
    "filled_cols = pd.DataFrame()"
   ]
  },
  {
   "cell_type": "code",
   "execution_count": 0,
   "metadata": {
    "colab": {
     "base_uri": "https://localhost:8080/",
     "height": 51
    },
    "colab_type": "code",
    "id": "wepz1vC8p3Gk",
    "outputId": "7a53a251-0836-4e5a-c60d-f5c3cdf53c8e"
   },
   "outputs": [
    {
     "name": "stdout",
     "output_type": "stream",
     "text": [
      "Training a RidgeClassifier\n",
      "with a training set size of 640\n"
     ]
    }
   ],
   "source": [
    "# predict a Foreign Worker column\n",
    "col_foreign_w = predict_column(\n",
    "    RidgeClassifier(), df, df_X_onehot, \"foreign_worker\")\n",
    "\n",
    "#Add Foreign Worker column to the Filled_cols df\n",
    "filled_cols['foreign_worker_filled'] = col_foreign_w\n",
    "\n",
    "#Remove it from missing vals\n",
    "missing_columns.remove('foreign_worker')"
   ]
  },
  {
   "cell_type": "code",
   "execution_count": 0,
   "metadata": {
    "colab": {
     "base_uri": "https://localhost:8080/",
     "height": 153
    },
    "colab_type": "code",
    "id": "rfTjqdrNp3Gn",
    "outputId": "8f3f0c84-8bf0-4015-aa10-ddae473d77ae"
   },
   "outputs": [
    {
     "name": "stdout",
     "output_type": "stream",
     "text": [
      "(1400, 40)\n",
      "(1400, 17)\n"
     ]
    },
    {
     "data": {
      "text/plain": [
       "Index(['account_status', 'credit_history', 'savings_account',\n",
       "       'personal_status_sex', 'guarantors', 'property',\n",
       "       'other_installment_plans', 'housing', 'duration', 'credit_amount',\n",
       "       'installment_rate', 'residence_since', 'age', 'number_of_credits',\n",
       "       'people_to_maintain', 'phone', 'foreign_worker_filled'],\n",
       "      dtype='object')"
      ]
     },
     "execution_count": 43,
     "metadata": {
      "tags": []
     },
     "output_type": "execute_result"
    }
   ],
   "source": [
    "#Add Foreign Worker column to df_X\n",
    "df_X_onehot = (pd.concat([df_X_onehot, filled_cols], axis=1))\n",
    "df_X_enc = (pd.concat([df_X_enc, filled_cols], axis=1))\n",
    "print(df_X_onehot.shape)\n",
    "print(df_X_enc.shape)\n",
    "df_X_enc.columns"
   ]
  },
  {
   "cell_type": "code",
   "execution_count": 0,
   "metadata": {
    "colab": {
     "base_uri": "https://localhost:8080/",
     "height": 153
    },
    "colab_type": "code",
    "id": "GqiHe5O_p3Gp",
    "outputId": "4baa8487-8d62-4f25-dd17-dc49a29563bd"
   },
   "outputs": [
    {
     "name": "stdout",
     "output_type": "stream",
     "text": [
      "Training a RandomForestClassifier\n",
      "with a training set size of 1050\n",
      "Test Precision Score: 0.8628571428571429\n",
      "Test Accuracy Score: 0.8457142857142858\n",
      "Test Confusion Matrix: \n",
      " [[145  24]\n",
      " [ 30 151]]\n",
      "Number of False Positives: 24\n"
     ]
    }
   ],
   "source": [
    "# Thy the classifier with additional feature\n",
    "X_train, X_test, y_train, y_test = train_test_split(\n",
    "    df_X_enc, label_enc, test_size = 0.25, random_state=4)\n",
    "\n",
    "clf = RandomForestClassifier(n_estimators=100)\n",
    "y_pred = train_predict(clf, X_train, y_train, X_test, y_test)\n",
    "evaluate_test(y_test, y_pred)"
   ]
  },
  {
   "cell_type": "markdown",
   "metadata": {
    "colab_type": "text",
    "id": "0FsTQdD5p3Gs"
   },
   "source": [
    "Foreign Worker didn't seem to help. But let's look at feature importance. "
   ]
  },
  {
   "cell_type": "code",
   "execution_count": 0,
   "metadata": {
    "colab": {},
    "colab_type": "code",
    "id": "qtjP9FX5p3HU"
   },
   "outputs": [],
   "source": [
    "def display_feature_importance(trained_clf):\n",
    "\n",
    "    # Print the name and gini importance of each feature\n",
    "    importances = trained_clf.feature_importances_\n",
    "    print(f'\\n Feature Importance, sums up to 1:')\n",
    "    for feature in zip(X_train.columns, importances):\n",
    "        print(feature)\n",
    "        \n",
    "    # Visualise Feature Importance:\n",
    "    indices = np.argsort(trained_clf.feature_importances_)\n",
    "    plt.figure(figsize=(10,8))\n",
    "    plt.title('Feature Importances')\n",
    "    plt.barh(range(len(indices)), importances[indices], color='g', align='center')\n",
    "    plt.yticks(range(len(indices)), [X_train.columns[i] for i in indices])\n",
    "    plt.xlabel('Relative Importance')\n",
    "    plt.show()\n",
    "    \n",
    "    return "
   ]
  },
  {
   "cell_type": "code",
   "execution_count": 0,
   "metadata": {
    "colab": {
     "base_uri": "https://localhost:8080/",
     "height": 836
    },
    "colab_type": "code",
    "id": "TB1cU4jrp3HW",
    "outputId": "6f1d983c-3b56-4e88-a020-abd3831b6a9a"
   },
   "outputs": [
    {
     "name": "stdout",
     "output_type": "stream",
     "text": [
      "\n",
      " Feature Importance, sums up to 1:\n",
      "('account_status', 0.18639244942273717)\n",
      "('credit_history', 0.08302739901423467)\n",
      "('savings_account', 0.05817668195095355)\n",
      "('personal_status_sex', 0.052330909252245046)\n",
      "('guarantors', 0.020147128832030462)\n",
      "('property', 0.05988728325895602)\n",
      "('other_installment_plans', 0.0362091151296847)\n",
      "('housing', 0.02894733063859592)\n",
      "('duration', 0.09826014476677042)\n",
      "('credit_amount', 0.10828372910885115)\n",
      "('installment_rate', 0.04919830693458418)\n",
      "('residence_since', 0.05287616913693729)\n",
      "('age', 0.09431278649547427)\n",
      "('number_of_credits', 0.029291844992607275)\n",
      "('people_to_maintain', 0.013866772534585015)\n",
      "('phone', 0.026463256999932145)\n",
      "('foreign_worker_filled', 0.0023286915308206786)\n"
     ]
    },
    {
     "data": {
      "image/png": "[encoded data removed]",
      "text/plain": [
       "<Figure size 720x576 with 1 Axes>"
      ]
     },
     "metadata": {
      "tags": []
     },
     "output_type": "display_data"
    }
   ],
   "source": [
    "# Add foreign Worker feature to classification\n",
    "display_feature_importance(clf)"
   ]
  },
  {
   "cell_type": "markdown",
   "metadata": {
    "colab_type": "text",
    "id": "gwpCkQhCp3HY"
   },
   "source": [
    "## Feature Engineering\n",
    "\n"
   ]
  },
  {
   "cell_type": "code",
   "execution_count": 0,
   "metadata": {
    "colab": {},
    "colab_type": "code",
    "id": "xIhsPDSHp3HZ"
   },
   "outputs": [],
   "source": [
    "def replace_features(df, col_name, replace_to):\n",
    "    old_enc = list(df[col_name].unique())\n",
    "    old_enc.remove(np.nan)\n",
    "    old_enc = sorted(old_enc)\n",
    "\n",
    "    # change to \"emplayed for more than\"\n",
    "    new_enc = replace_to\n",
    "    df_new_enc = df.replace(old_enc, new_enc)\n",
    "    return df_new_enc\n",
    "\n",
    "def compare_replaced_features(df, col_name, exchange_dict,\n",
    "                         classifiers, classifier_names, df_X_onehot):\n",
    "\n",
    "    \n",
    "    for k,v in exchange_dict.items():\n",
    "        print('\\n\\n', k)\n",
    "        df_enc = replace_features(df, col_name, v)\n",
    "        compare_classifiers(classifiers, classifier_names, [col_name], df_enc, \n",
    "                        df_X_onehot)\n",
    "        \n",
    "    return\n",
    "\n"
   ]
  },
  {
   "cell_type": "markdown",
   "metadata": {
    "colab_type": "raw",
    "id": "iMDRMwLhp3Ha"
   },
   "source": [
    "Missing: Purpose - 17.3%. \n",
    "Employment since - 49.6%. job - 0.23%.  \n",
    "foreign worker - 36%. \n",
    "\n",
    "Attribute 17: (qualitative) \n",
    "Job \n",
    "A171 : unemployed/ unskilled - non-resident \n",
    "A172 : unskilled - resident \n",
    "A173 : skilled employee / official \n",
    "A174 : management/ self-employed/ \n",
    "highly qualified employee/ officer \n",
    "\n",
    "An idea: replace by numerical ordered representation. To score this attribute."
   ]
  },
  {
   "cell_type": "code",
   "execution_count": 0,
   "metadata": {
    "colab": {
     "base_uri": "https://localhost:8080/",
     "height": 1000
    },
    "colab_type": "code",
    "id": "a-m1FBjDp3Ha",
    "outputId": "ea056d3c-4e62-4638-c4f4-fb88c5a9904d",
    "scrolled": true
   },
   "outputs": [
    {
     "name": "stdout",
     "output_type": "stream",
     "text": [
      "\n",
      "\n",
      " Ordinal from 0 to 3\n",
      "\n",
      "================================= \n",
      "\n",
      "Linear Classification for featuren \"job\"\n",
      "\n",
      "Classifier: SGDClassifier \n",
      "\n",
      "Cross Validation accuracy: 0.53 (+/- 0.12)\n",
      "Cross Validation f1_micro: 0.47 (+/- 0.16)\n",
      "\n",
      "Classifier: RidgeClassifier \n",
      "\n",
      "Cross Validation accuracy: 0.64 (+/- 0.03)\n",
      "Cross Validation f1_micro: 0.64 (+/- 0.03)\n",
      "\n",
      "Classifier: LogisticRegression \n",
      "\n",
      "Cross Validation accuracy: 0.64 (+/- 0.04)\n",
      "Cross Validation f1_micro: 0.64 (+/- 0.04)\n",
      "\n",
      "\n",
      " unemployed/ unskilled = 0, other = 1\n",
      "\n",
      "================================= \n",
      "\n",
      "Linear Classification for featuren \"job\"\n",
      "\n",
      "Classifier: SGDClassifier \n",
      "\n",
      "Cross Validation accuracy: 0.67 (+/- 0.21)\n",
      "Cross Validation f1_micro: 0.71 (+/- 0.17)\n",
      "\n",
      "Classifier: RidgeClassifier \n",
      "\n",
      "Cross Validation accuracy: 0.80 (+/- 0.02)\n",
      "Cross Validation f1_micro: 0.80 (+/- 0.02)\n",
      "\n",
      "Classifier: LogisticRegression \n",
      "\n",
      "Cross Validation accuracy: 0.79 (+/- 0.02)\n",
      "Cross Validation f1_micro: 0.79 (+/- 0.02)\n",
      "\n",
      "\n",
      " unemployed = 0, else = 1\n",
      "\n",
      "================================= \n",
      "\n",
      "Linear Classification for featuren \"job\"\n",
      "\n",
      "Classifier: SGDClassifier \n",
      "\n",
      "Cross Validation accuracy: 0.98 (+/- 0.01)\n",
      "Cross Validation f1_micro: 0.98 (+/- 0.01)\n",
      "\n",
      "Classifier: RidgeClassifier \n",
      "\n",
      "Cross Validation accuracy: 0.98 (+/- 0.01)\n",
      "Cross Validation f1_micro: 0.98 (+/- 0.01)\n",
      "\n",
      "Classifier: LogisticRegression \n",
      "\n",
      "Cross Validation accuracy: 0.98 (+/- 0.01)\n",
      "Cross Validation f1_micro: 0.98 (+/- 0.01)\n"
     ]
    }
   ],
   "source": [
    "job_replace_to = {\n",
    "        'Ordinal from 0 to 3' : [0, 1, 2, 3],\n",
    "        'unemployed/ unskilled = 0, other = 1' : [0, 0, 1, 1],\n",
    "        'unemployed = 0, else = 1' : [0, 1, 1, 1]\n",
    "    }\n",
    "\n",
    "compare_replaced_features(df, 'job', job_replace_to,\n",
    "                         classifiers, classifier_names, df_X_onehot)"
   ]
  },
  {
   "cell_type": "markdown",
   "metadata": {
    "colab_type": "text",
    "id": "OfSEmx-Pp3Hc"
   },
   "source": [
    "LinearSVC(multi_class=\"crammer_singer\" for job:   \n",
    "\n",
    "Cross Validation accuracy: 0.64 (+/- 0.03)   \n",
    "Cross Validation f1_micro: 0.64 (+/- 0.03)"
   ]
  },
  {
   "cell_type": "markdown",
   "metadata": {
    "colab_type": "text",
    "id": "RzYVFLiHp3Hc"
   },
   "source": [
    "Great! Binarising the feature helps to classify between unemployed / employed. Now the column can be predicted and added to the data."
   ]
  },
  {
   "cell_type": "code",
   "execution_count": 0,
   "metadata": {
    "colab": {},
    "colab_type": "code",
    "id": "y7XYNTAWp3Hd"
   },
   "outputs": [],
   "source": [
    "df_job = replace_features(df, \"job\", [0, 1, 1, 1])"
   ]
  },
  {
   "cell_type": "code",
   "execution_count": 0,
   "metadata": {
    "colab": {},
    "colab_type": "code",
    "id": "d3LWuXIHp3He"
   },
   "outputs": [],
   "source": [
    "def ridge_grid_search(df_with_na, df_X, target_col):\n",
    "    \n",
    "    _, X_train, y_train, X_test = split_data_missing_vals(\n",
    "        df_with_na, df_X, target_col)\n",
    "\n",
    "    # prepare a range of alpha values to test\n",
    "    params = {'solver': ['auto', 'svd', 'lsqr'],\n",
    "             'alpha': [1,0.1,0.01,0.001,0.0001,0]}\n",
    "    # create and fit a ridge regression model, testing each alpha\n",
    "    model = RidgeClassifier()\n",
    "    \n",
    "    # optimised by cross-validated grid-search over a parameter grid.\n",
    "    grid = GridSearchCV(estimator=model, param_grid=params)\n",
    "    grid.fit(X_train, y_train)\n",
    "    # summarize the results of the grid search\n",
    "    print(f'Best Score: {grid.best_score_}')\n",
    "    print(f'Best alpha: {grid.best_estimator_.alpha}')\n",
    "    print(f'Best solver: {grid.best_estimator_.solver}')\n",
    "    \n",
    "    return grid.best_estimator_"
   ]
  },
  {
   "cell_type": "code",
   "execution_count": 0,
   "metadata": {
    "colab": {
     "base_uri": "https://localhost:8080/",
     "height": 102
    },
    "colab_type": "code",
    "id": "DvihrMs7p3Hf",
    "outputId": "0007cf5d-22f2-4235-9818-b643a8e51156"
   },
   "outputs": [
    {
     "name": "stdout",
     "output_type": "stream",
     "text": [
      "Best Score: 0.9791666666666666\n",
      "Best alpha: 1\n",
      "Best solver: auto\n",
      "Training a RidgeClassifier\n",
      "with a training set size of 768\n"
     ]
    }
   ],
   "source": [
    "clf = ridge_grid_search(df_job, df_X_onehot, 'job')\n",
    "\n",
    "col_job = predict_column(\n",
    "    clf, df_job, df_X_enc, \"job\")\n",
    "filled_cols['job_filled'] = col_job\n",
    "missing_columns.remove('job')\n",
    "\n",
    "df_X_onehot = (pd.concat([df_X_onehot, filled_cols['job_filled']], axis=1))\n",
    "df_X_enc = (pd.concat([df_X_enc, col_job], axis=1))"
   ]
  },
  {
   "cell_type": "markdown",
   "metadata": {
    "colab_type": "text",
    "id": "BJ5r_oNwp3Hh"
   },
   "source": [
    "_Random Forest with Foreign Worker and Job_\n"
   ]
  },
  {
   "cell_type": "code",
   "execution_count": 0,
   "metadata": {
    "colab": {
     "base_uri": "https://localhost:8080/",
     "height": 989
    },
    "colab_type": "code",
    "id": "r-fPDTvzp3Hh",
    "outputId": "4b74952a-517d-4350-e3d9-35364ac8829c",
    "scrolled": true
   },
   "outputs": [
    {
     "name": "stdout",
     "output_type": "stream",
     "text": [
      "Training a RandomForestClassifier\n",
      "with a training set size of 1050\n",
      "Test Precision Score: 0.7954545454545454\n",
      "Test Accuracy Score: 0.7857142857142857\n",
      "Test Confusion Matrix: \n",
      " [[135  36]\n",
      " [ 39 140]]\n",
      "Number of False Positives: 36\n",
      "\n",
      " Feature Importance, sums up to 1:\n",
      "('account_status', 0.19580865866155894)\n",
      "('credit_history', 0.08112986819859155)\n",
      "('savings_account', 0.07553658560830899)\n",
      "('personal_status_sex', 0.037647376370388355)\n",
      "('guarantors', 0.03137861522621598)\n",
      "('property', 0.059937259362780826)\n",
      "('other_installment_plans', 0.03861374384399807)\n",
      "('housing', 0.03199048905598765)\n",
      "('duration', 0.07686720509128445)\n",
      "('credit_amount', 0.08448229087881612)\n",
      "('installment_rate', 0.05519631167887636)\n",
      "('residence_since', 0.05026563744550979)\n",
      "('age', 0.10527191360563885)\n",
      "('number_of_credits', 0.025472693395757584)\n",
      "('people_to_maintain', 0.011158649529461512)\n",
      "('phone', 0.03358375315238285)\n",
      "('foreign_worker_filled', 0.0036488009317384947)\n",
      "('job', 0.002010147962703627)\n"
     ]
    },
    {
     "data": {
      "image/png": "[encoded data removed]",
      "text/plain": [
       "<Figure size 720x576 with 1 Axes>"
      ]
     },
     "metadata": {
      "tags": []
     },
     "output_type": "display_data"
    }
   ],
   "source": [
    "# Add foreign Worker feature to classification\n",
    "# Thry the classifier with additional feature\n",
    "X_train, X_test, y_train, y_test = train_test_split(\n",
    "    df_X_enc, label_enc, test_size = 0.25)\n",
    "\n",
    "clf = RandomForestClassifier()\n",
    "y_pred = train_predict(clf, X_train, y_train, X_test, y_test)\n",
    "evaluate_test(y_test, y_pred)\n",
    "display_feature_importance(clf)"
   ]
  },
  {
   "cell_type": "markdown",
   "metadata": {
    "colab_type": "text",
    "id": "Okf8huREp3Hj"
   },
   "source": [
    "### Employment Since"
   ]
  },
  {
   "cell_type": "code",
   "execution_count": 0,
   "metadata": {
    "colab": {
     "base_uri": "https://localhost:8080/",
     "height": 1000
    },
    "colab_type": "code",
    "id": "LeFAExVQp3Hj",
    "outputId": "763716ea-ee94-497d-bc16-7cfdec295c9e",
    "scrolled": true
   },
   "outputs": [
    {
     "name": "stdout",
     "output_type": "stream",
     "text": [
      "\n",
      "\n",
      " Employed at least n years\n",
      "\n",
      "================================= \n",
      "\n",
      "Linear Classification for featuren \"employment_since\"\n",
      "\n",
      "Classifier: SGDClassifier \n",
      "\n",
      "Cross Validation accuracy: 0.45 (+/- 0.11)\n",
      "Cross Validation f1_micro: 0.44 (+/- 0.08)\n",
      "\n",
      "Classifier: RidgeClassifier \n",
      "\n",
      "Cross Validation accuracy: 0.57 (+/- 0.06)\n",
      "Cross Validation f1_micro: 0.57 (+/- 0.06)\n",
      "\n",
      "Classifier: LogisticRegression \n",
      "\n",
      "Cross Validation accuracy: 0.55 (+/- 0.05)\n",
      "Cross Validation f1_micro: 0.55 (+/- 0.05)\n",
      "\n",
      "\n",
      " Employed at most n years\n",
      "\n",
      "================================= \n",
      "\n",
      "Linear Classification for featuren \"employment_since\"\n",
      "\n",
      "Classifier: SGDClassifier \n",
      "\n",
      "Cross Validation accuracy: 0.30 (+/- 0.06)\n",
      "Cross Validation f1_micro: 0.32 (+/- 0.07)\n",
      "\n",
      "Classifier: RidgeClassifier \n",
      "\n",
      "Cross Validation accuracy: 0.39 (+/- 0.06)\n",
      "Cross Validation f1_micro: 0.39 (+/- 0.06)\n",
      "\n",
      "Classifier: LogisticRegression \n",
      "\n",
      "Cross Validation accuracy: 0.40 (+/- 0.05)\n",
      "Cross Validation f1_micro: 0.40 (+/- 0.05)\n",
      "\n",
      "\n",
      " Employed more than a year\n",
      "\n",
      "================================= \n",
      "\n",
      "Linear Classification for featuren \"employment_since\"\n",
      "\n",
      "Classifier: SGDClassifier \n",
      "\n",
      "Cross Validation accuracy: 0.62 (+/- 0.17)\n",
      "Cross Validation f1_micro: 0.67 (+/- 0.14)\n",
      "\n",
      "Classifier: RidgeClassifier \n",
      "\n",
      "Cross Validation accuracy: 0.77 (+/- 0.03)\n",
      "Cross Validation f1_micro: 0.77 (+/- 0.03)\n",
      "\n",
      "Classifier: LogisticRegression \n",
      "\n",
      "Cross Validation accuracy: 0.76 (+/- 0.04)\n",
      "Cross Validation f1_micro: 0.76 (+/- 0.04)\n",
      "\n",
      "\n",
      " Employed more than 4 years\n",
      "\n",
      "================================= \n",
      "\n",
      "Linear Classification for featuren \"employment_since\"\n",
      "\n",
      "Classifier: SGDClassifier \n",
      "\n",
      "Cross Validation accuracy: 0.56 (+/- 0.08)\n",
      "Cross Validation f1_micro: 0.59 (+/- 0.08)\n",
      "\n",
      "Classifier: RidgeClassifier \n",
      "\n",
      "Cross Validation accuracy: 0.65 (+/- 0.07)\n",
      "Cross Validation f1_micro: 0.65 (+/- 0.07)\n",
      "\n",
      "Classifier: LogisticRegression \n",
      "\n",
      "Cross Validation accuracy: 0.66 (+/- 0.06)\n",
      "Cross Validation f1_micro: 0.66 (+/- 0.06)\n",
      "\n",
      "\n",
      " Employed more than 7 years\n",
      "\n",
      "================================= \n",
      "\n",
      "Linear Classification for featuren \"employment_since\"\n",
      "\n",
      "Classifier: SGDClassifier \n",
      "\n",
      "Cross Validation accuracy: 0.59 (+/- 0.08)\n",
      "Cross Validation f1_micro: 0.59 (+/- 0.05)\n",
      "\n",
      "Classifier: RidgeClassifier \n",
      "\n",
      "Cross Validation accuracy: 0.65 (+/- 0.07)\n",
      "Cross Validation f1_micro: 0.65 (+/- 0.07)\n",
      "\n",
      "Classifier: LogisticRegression \n",
      "\n",
      "Cross Validation accuracy: 0.66 (+/- 0.06)\n",
      "Cross Validation f1_micro: 0.66 (+/- 0.06)\n"
     ]
    }
   ],
   "source": [
    "empl_since_replace_to = {\n",
    "        'Employed at least n years' : [0, 1, 1, 4, 7],\n",
    "        'Employed at most n years' : [0, 1, 4, 7, 50],\n",
    "        'Employed more than a year' : [0, 0, 1, 1, 1],\n",
    "        'Employed more than 4 years' : [0, 0, 0, 1, 1],\n",
    "        'Employed more than 7 years' : [0, 0, 0, 1, 1]\n",
    "    }\n",
    "\n",
    "compare_replaced_features(df, 'employment_since', empl_since_replace_to,\n",
    "                         classifiers, classifier_names, df_X_onehot)"
   ]
  },
  {
   "cell_type": "markdown",
   "metadata": {
    "colab_type": "text",
    "id": "5QQjNtMGp3Hm"
   },
   "source": [
    "Employed more than a year\n",
    "Cross Validation accuracy: 0.77 (+/- 0.02)\n",
    "Cross Validation f1_micro: 0.70 (+/- 0.13)"
   ]
  },
  {
   "cell_type": "code",
   "execution_count": 0,
   "metadata": {
    "colab": {
     "base_uri": "https://localhost:8080/",
     "height": 102
    },
    "colab_type": "code",
    "id": "j5jPn7i4p3Hm",
    "outputId": "1184cf78-2efd-49bd-ef5e-51b391d6d214"
   },
   "outputs": [
    {
     "name": "stdout",
     "output_type": "stream",
     "text": [
      "Best Score: 0.7718253968253969\n",
      "Best alpha: 0.1\n",
      "Best solver: auto\n",
      "Training a RidgeClassifier\n",
      "with a training set size of 504\n"
     ]
    }
   ],
   "source": [
    "df_empl_since = replace_features(df, 'employment_since', [0, 0, 1, 1, 1])\n",
    "\n",
    "clf = ridge_grid_search(df_empl_since, df_X_onehot, 'employment_since')\n",
    "\n",
    "col_empl_since = predict_column(\n",
    "    clf, df_empl_since, df_X_onehot, 'employment_since')\n",
    "filled_cols['employment_since_filled'] = col_empl_since\n",
    "missing_columns.remove('employment_since')\n",
    "\n",
    "\n",
    "df_X_onehot = (pd.concat([df_X_onehot, col_empl_since], axis=1))\n",
    "df_X_enc = (pd.concat([df_X_enc, col_empl_since], axis=1))"
   ]
  },
  {
   "cell_type": "code",
   "execution_count": 0,
   "metadata": {
    "colab": {
     "base_uri": "https://localhost:8080/",
     "height": 34
    },
    "colab_type": "code",
    "id": "7Q6DNFt4p3Ho",
    "outputId": "39d4e0a4-dd96-417d-9d40-416b67c21a93"
   },
   "outputs": [
    {
     "data": {
      "text/plain": [
       "(1400, 19)"
      ]
     },
     "execution_count": 55,
     "metadata": {
      "tags": []
     },
     "output_type": "execute_result"
    }
   ],
   "source": [
    "df_X_enc.shape"
   ]
  },
  {
   "cell_type": "code",
   "execution_count": 0,
   "metadata": {
    "colab": {
     "base_uri": "https://localhost:8080/",
     "height": 1000
    },
    "colab_type": "code",
    "id": "TGeAQzmpp3Hp",
    "outputId": "50bc56fb-a219-4ac1-c341-0b9bd1eed77b",
    "scrolled": true
   },
   "outputs": [
    {
     "name": "stdout",
     "output_type": "stream",
     "text": [
      "Training a RandomForestClassifier\n",
      "with a training set size of 1050\n",
      "Test Precision Score: 0.8143712574850299\n",
      "Test Accuracy Score: 0.78\n",
      "Test Confusion Matrix: \n",
      " [[137  31]\n",
      " [ 46 136]]\n",
      "Number of False Positives: 31\n",
      "\n",
      " Feature Importance, sums up to 1:\n",
      "('account_status', 0.19853730578457357)\n",
      "('credit_history', 0.06711585570733654)\n",
      "('savings_account', 0.05895450206700509)\n",
      "('personal_status_sex', 0.0543810277461637)\n",
      "('guarantors', 0.027983739016029616)\n",
      "('property', 0.0699153805039744)\n",
      "('other_installment_plans', 0.03965385510677194)\n",
      "('housing', 0.027324124003565972)\n",
      "('duration', 0.08393468480726814)\n",
      "('credit_amount', 0.08608082615357265)\n",
      "('installment_rate', 0.05241301909449259)\n",
      "('residence_since', 0.05721860418303378)\n",
      "('age', 0.08214251380333783)\n",
      "('number_of_credits', 0.0339606407120749)\n",
      "('people_to_maintain', 0.011923623302593658)\n",
      "('phone', 0.027837633135850436)\n",
      "('foreign_worker_filled', 0.0009000711716038727)\n",
      "('job', 0.0029931083192334517)\n",
      "('employment_since', 0.016729485381517657)\n"
     ]
    },
    {
     "data": {
      "image/png": "[encoded data removed]",
      "text/plain": [
       "<Figure size 720x576 with 1 Axes>"
      ]
     },
     "metadata": {
      "tags": []
     },
     "output_type": "display_data"
    }
   ],
   "source": [
    "# Foreign, Job, Empl_since\n",
    "# Add foreign Worker feature to classification\n",
    "# Thry the classifier with additional feature\n",
    "X_train, X_test, y_train, y_test = train_test_split(\n",
    "    df_X_enc, label_enc, test_size = 0.25)\n",
    "\n",
    "clf = RandomForestClassifier()\n",
    "y_pred = train_predict(clf, X_train, y_train, X_test, y_test)\n",
    "evaluate_test(y_test, y_pred)\n",
    "display_feature_importance(clf)"
   ]
  },
  {
   "cell_type": "markdown",
   "metadata": {
    "colab_type": "text",
    "id": "aWOexU9jp3Hq"
   },
   "source": [
    "*Purpose*"
   ]
  },
  {
   "cell_type": "code",
   "execution_count": 0,
   "metadata": {
    "colab": {
     "base_uri": "https://localhost:8080/",
     "height": 374
    },
    "colab_type": "code",
    "id": "m-ZiwPWUp3Hr",
    "outputId": "b5d67fd0-cab0-4439-f954-472c177937c5"
   },
   "outputs": [
    {
     "name": "stdout",
     "output_type": "stream",
     "text": [
      "Number of non-na values:  827\n",
      "[nan 'A46' 'A40' 'A43' 'A41' 'A42' 'A49' 'A410' 'A45' 'A48' 'A44']\n",
      "\n",
      "================================= \n",
      "\n",
      "Linear Classification for featuren \"purpose\"\n",
      "\n",
      "Classifier: SGDClassifier \n",
      "\n",
      "Cross Validation accuracy: 0.23 (+/- 0.05)\n",
      "Cross Validation f1_micro: 0.26 (+/- 0.05)\n",
      "\n",
      "Classifier: RidgeClassifier \n",
      "\n",
      "Cross Validation accuracy: 0.35 (+/- 0.06)\n",
      "Cross Validation f1_micro: 0.35 (+/- 0.06)\n",
      "\n",
      "Classifier: LogisticRegression \n",
      "\n",
      "Cross Validation accuracy: 0.35 (+/- 0.04)\n",
      "Cross Validation f1_micro: 0.35 (+/- 0.04)\n"
     ]
    }
   ],
   "source": [
    "#The are many features available. \n",
    "print('Number of non-na values: ', df['purpose'].count())\n",
    "print(df['purpose'].unique())\n",
    "\n",
    "col_purpose = df['purpose'].fillna('missing')\n",
    "col_purpose = encode_target_var(col_purpose, method = 'onehot')\n",
    "pd.Series(col_purpose).unique()\n",
    "\n",
    "compare_classifiers(classifiers, classifier_names, missing_columns, df, df_X_onehot)"
   ]
  },
  {
   "cell_type": "code",
   "execution_count": 0,
   "metadata": {
    "colab": {
     "base_uri": "https://localhost:8080/",
     "height": 51
    },
    "colab_type": "code",
    "id": "pARaVZMjp3Hs",
    "outputId": "0c877462-8d37-42b0-9305-7281d9bc3b34"
   },
   "outputs": [
    {
     "name": "stdout",
     "output_type": "stream",
     "text": [
      "(1400, 19)\n"
     ]
    },
    {
     "data": {
      "text/plain": [
       "(1400, 42)"
      ]
     },
     "execution_count": 58,
     "metadata": {
      "tags": []
     },
     "output_type": "execute_result"
    }
   ],
   "source": [
    "# make sure that the filled df has the right size\n",
    "print(df_X_enc.shape)\n",
    "df_X_onehot.shape"
   ]
  },
  {
   "cell_type": "markdown",
   "metadata": {
    "colab_type": "text",
    "id": "8qN0E7irp3Hu"
   },
   "source": [
    "### Correlation Matrix between features"
   ]
  },
  {
   "cell_type": "code",
   "execution_count": 0,
   "metadata": {
    "colab": {
     "base_uri": "https://localhost:8080/",
     "height": 718
    },
    "colab_type": "code",
    "id": "8V2nRprKp3Hv",
    "outputId": "fe01fe8f-86e4-4727-aac9-5d8a0f3a45a7"
   },
   "outputs": [
    {
     "data": {
      "image/png": "[encoded data removed]",
      "text/plain": [
       "<Figure size 720x720 with 2 Axes>"
      ]
     },
     "metadata": {
      "tags": []
     },
     "output_type": "display_data"
    }
   ],
   "source": [
    "def plot_corr_matrix(df):\n",
    "    # Sample figsize in inches\n",
    "    fig, ax = plt.subplots(figsize=(10,10))         \n",
    "    # Imbalanced DataFrame Correlation\n",
    "    corr = df.corr()\n",
    "    sns.heatmap(corr, cmap='YlGnBu', annot_kws={'size':30}, ax=ax)\n",
    "    ax.set_title(\"Correlation Matrix\", fontsize=14)\n",
    "    plt.show()\n",
    "    return\n",
    "\n",
    "plot_corr_matrix(df_X_enc)"
   ]
  },
  {
   "cell_type": "code",
   "execution_count": 0,
   "metadata": {
    "colab": {
     "base_uri": "https://localhost:8080/",
     "height": 1000
    },
    "colab_type": "code",
    "id": "QLSKJVEcp3Hx",
    "outputId": "8ec33f08-e669-4621-d3c3-d3812373eeb7"
   },
   "outputs": [
    {
     "name": "stdout",
     "output_type": "stream",
     "text": [
      "Fitting 5 folds for each of 240 candidates, totalling 1200 fits\n"
     ]
    },
    {
     "name": "stderr",
     "output_type": "stream",
     "text": [
      "[Parallel(n_jobs=1)]: Using backend SequentialBackend with 1 concurrent workers.\n",
      "[Parallel(n_jobs=1)]: Done 1200 out of 1200 | elapsed:  2.3min finished\n"
     ]
    },
    {
     "name": "stdout",
     "output_type": "stream",
     "text": [
      "Best Score: 0.8276970368300781\n",
      "Best Params: {'criterion': 'gini', 'max_depth': 7, 'max_features': 'auto', 'n_estimators': 150}\n",
      "Training a RandomForestClassifier\n",
      "with a training set size of 1050\n",
      "Test Precision Score: 0.8280254777070064\n",
      "Test Accuracy Score: 0.8228571428571428\n",
      "Test Confusion Matrix: \n",
      " [[158  27]\n",
      " [ 35 130]]\n",
      "Number of False Positives: 27\n",
      "\n",
      " Feature Importance, sums up to 1:\n",
      "('account_status', 0.2596601833199632)\n",
      "('credit_history', 0.0922060000261552)\n",
      "('savings_account', 0.07310958403196847)\n",
      "('personal_status_sex', 0.0487581211774384)\n",
      "('guarantors', 0.021140286001931585)\n",
      "('property', 0.06650477882830368)\n",
      "('other_installment_plans', 0.038757020998018706)\n",
      "('housing', 0.028740591650196674)\n",
      "('duration', 0.07530786223614155)\n",
      "('credit_amount', 0.06955945964144647)\n",
      "('installment_rate', 0.04912597026754274)\n",
      "('residence_since', 0.04603516201904251)\n",
      "('age', 0.0530372037103083)\n",
      "('number_of_credits', 0.024402907790854522)\n",
      "('people_to_maintain', 0.00907969647652538)\n",
      "('phone', 0.028568383143837684)\n",
      "('foreign_worker_filled', 0.002140197249095244)\n",
      "('job', 0.0014105691082879266)\n",
      "('employment_since', 0.012456022322941846)\n"
     ]
    },
    {
     "data": {
      "image/png": "[encoded data removed]",
      "text/plain": [
       "<Figure size 720x576 with 1 Axes>"
      ]
     },
     "metadata": {
      "tags": []
     },
     "output_type": "display_data"
    }
   ],
   "source": [
    "# Foreign, Job, Empl_since\n",
    "# Add foreign Worker feature to classification\n",
    "# Thry the classifier with additional feature\n",
    "X_train, X_test, y_train, y_test = train_test_split(\n",
    "    df_X_enc, label_enc, test_size = 0.25)\n",
    "\n",
    "clf = randomforestclf_grid_search(X_train, y_train, X_test, y_test)\n",
    "\n",
    "y_pred = train_predict(clf, X_train, y_train, X_test, y_test)\n",
    "evaluate_test(y_test, y_pred)\n",
    "display_feature_importance(clf)\n"
   ]
  },
  {
   "cell_type": "code",
   "execution_count": 0,
   "metadata": {
    "colab": {
     "base_uri": "https://localhost:8080/",
     "height": 751
    },
    "colab_type": "code",
    "id": "YHB8plJv3P6e",
    "outputId": "2eb2ba9d-2b4c-4bc1-deb1-f782fd74149e"
   },
   "outputs": [
    {
     "name": "stdout",
     "output_type": "stream",
     "text": [
      "Training a RandomForestClassifier\n",
      "with a training set size of 1050\n",
      "Test Precision Score: 0.7604790419161677\n",
      "Test Accuracy Score: 0.7742857142857142\n",
      "Test Confusion Matrix: \n",
      " [[144  40]\n",
      " [ 39 127]]\n",
      "Number of False Positives: 40\n",
      "\n",
      " Feature Importance, sums up to 1:\n",
      "('account_status', 0.371407477124783)\n",
      "('savings_account', 0.15560468826124257)\n",
      "('credit_history', 0.18208160006459068)\n",
      "('duration', 0.2909062345493838)\n"
     ]
    },
    {
     "data": {
      "image/png": "[encoded data removed]",
      "text/plain": [
       "<Figure size 720x576 with 1 Axes>"
      ]
     },
     "metadata": {
      "tags": []
     },
     "output_type": "display_data"
    }
   ],
   "source": [
    "X_train, X_test, y_train, y_test = train_test_split(\n",
    "    df_X_enc[['account_status', 'savings_account', 'credit_history', 'duration']],\n",
    "    label_enc, test_size = 0.25)\n",
    "\n",
    "clf = RandomForestClassifier()\n",
    "\n",
    "y_pred = train_predict(clf, X_train, y_train, X_test, y_test)\n",
    "evaluate_test(y_test, y_pred)\n",
    "display_feature_importance(clf)"
   ]
  },
  {
   "cell_type": "code",
   "execution_count": 0,
   "metadata": {
    "colab": {},
    "colab_type": "code",
    "id": "4oZ_Y1JHp3Hy"
   },
   "outputs": [],
   "source": [
    "def plot_confusion_matrix(y_true, y_pred, classes,\n",
    "                          normalize=False,\n",
    "                          title=None,\n",
    "                          cmap=plt.cm.Blues):\n",
    "    \"\"\"\n",
    "    This function prints and plots the confusion matrix.\n",
    "    Normalization by class can be applied by setting `normalize=True`.\n",
    "    This kind of normalization can be interesting in case of class\n",
    "    imbalance to have a more visual interpretation of \n",
    "    which class is being misclassified.\n",
    "    \"\"\"\n",
    "    if not title:\n",
    "        if normalize:\n",
    "            title = 'Normalized confusion matrix'\n",
    "        else:\n",
    "            title = 'Confusion matrix, without normalization'\n",
    "\n",
    "    # Compute confusion matrix\n",
    "    cm = confusion_matrix(y_true, y_pred)\n",
    "    # Only use the labels that appear in the data\n",
    "    classes = classes[unique_labels(y_true, y_pred)]\n",
    "\n",
    "    if normalize:\n",
    "        cm = cm.astype('float') / cm.sum(axis=1)[:, np.newaxis]\n",
    "        print(\"\\nNormalized confusion matrix\")\n",
    "    else:\n",
    "        print('Confusion matrix, without normalization')\n",
    "\n",
    "    print(cm)\n",
    "\n",
    "    fig, ax = plt.subplots()\n",
    "    im = ax.imshow(cm, interpolation='nearest', cmap=cmap)\n",
    "    ax.figure.colorbar(im, ax=ax)\n",
    "    # We want to show all ticks...\n",
    "    ax.set(xticks=np.arange(cm.shape[1]),\n",
    "           yticks=np.arange(cm.shape[0]),\n",
    "           # ... and label them with the respective list entries\n",
    "           xticklabels=classes, yticklabels=classes,\n",
    "           title=title,\n",
    "           ylabel='True label',\n",
    "           xlabel='Predicted label')\n",
    "\n",
    "    # Rotate the tick labels and set their alignment.\n",
    "    plt.setp(ax.get_xticklabels(), rotation=45, ha=\"right\",\n",
    "             rotation_mode=\"anchor\")\n",
    "\n",
    "    # Loop over data dimensions and create text annotations.\n",
    "    fmt = '.2f' if normalize else 'd'\n",
    "    thresh = cm.max() / 2.\n",
    "    for i in range(cm.shape[0]):\n",
    "        for j in range(cm.shape[1]):\n",
    "            ax.text(j, i, format(cm[i, j], fmt),\n",
    "                    ha=\"center\", va=\"center\",\n",
    "                    color=\"white\" if cm[i, j] > thresh else \"black\")\n",
    "    fig.tight_layout()\n",
    "    return ax"
   ]
  },
  {
   "cell_type": "code",
   "execution_count": 0,
   "metadata": {
    "colab": {},
    "colab_type": "code",
    "id": "1WciYGQA4-gb"
   },
   "outputs": [],
   "source": [
    "X_train, X_test, y_train, y_test = train_test_split(\n",
    "    df_X_enc, label_enc, test_size = 0.25)"
   ]
  },
  {
   "cell_type": "code",
   "execution_count": 0,
   "metadata": {
    "colab": {
     "base_uri": "https://localhost:8080/",
     "height": 713
    },
    "colab_type": "code",
    "id": "hQ_1Cd5Qp3H0",
    "outputId": "7e300056-7614-433b-e160-3dd10a9507e5"
   },
   "outputs": [
    {
     "name": "stdout",
     "output_type": "stream",
     "text": [
      "Confusion matrix, without normalization\n",
      "[[ 80  92]\n",
      " [103  75]]\n",
      "\n",
      "Normalized confusion matrix\n",
      "[[0.46511628 0.53488372]\n",
      " [0.57865169 0.42134831]]\n"
     ]
    },
    {
     "data": {
      "text/plain": [
       "<matplotlib.axes._subplots.AxesSubplot at 0x7f5c22fc4b70>"
      ]
     },
     "execution_count": 64,
     "metadata": {
      "tags": []
     },
     "output_type": "execute_result"
    },
    {
     "data": {
      "image/png": "[encoded data removed]",
      "text/plain": [
       "<Figure size 432x288 with 2 Axes>"
      ]
     },
     "metadata": {
      "tags": []
     },
     "output_type": "display_data"
    },
    {
     "data": {
      "image/png": "[encoded data removed]",
      "text/plain": [
       "<Figure size 432x288 with 2 Axes>"
      ]
     },
     "metadata": {
      "tags": []
     },
     "output_type": "display_data"
    }
   ],
   "source": [
    "plot_confusion_matrix(list(y_test), list(y_pred), np.array([0, 1]))\n",
    "plot_confusion_matrix(list(y_test), list(y_pred), np.array([0, 1]), normalize=True)"
   ]
  },
  {
   "cell_type": "code",
   "execution_count": 0,
   "metadata": {
    "colab": {},
    "colab_type": "code",
    "id": "stFlbNmnp3H1"
   },
   "outputs": [],
   "source": [
    "def try_other_classifier(clf, X_train, y_train, X_test, y_test):\n",
    "    y_pred = train_predict(clf, X_train, y_train, X_test, y_test)\n",
    "    evaluate_test(y_test, y_pred)\n",
    "    plot_confusion_matrix(list(y_test), list(y_pred), np.array([0, 1]))\n",
    "    plot_confusion_matrix(list(y_test), list(y_pred), np.array([0, 1]), normalize=True)"
   ]
  },
  {
   "cell_type": "code",
   "execution_count": 0,
   "metadata": {
    "colab": {
     "base_uri": "https://localhost:8080/",
     "height": 832
    },
    "colab_type": "code",
    "id": "e-CY4JdKp3H2",
    "outputId": "aa0d06fe-6c10-481c-b82b-00957d1ec64d"
   },
   "outputs": [
    {
     "name": "stdout",
     "output_type": "stream",
     "text": [
      "Training a SVC\n",
      "with a training set size of 1050\n",
      "Test Precision Score: 0.8993288590604027\n",
      "Test Accuracy Score: 0.8314285714285714\n",
      "Test Confusion Matrix: \n",
      " [[157  15]\n",
      " [ 44 134]]\n",
      "Number of False Positives: 15\n",
      "Confusion matrix, without normalization\n",
      "[[157  15]\n",
      " [ 44 134]]\n",
      "\n",
      "Normalized confusion matrix\n",
      "[[0.9127907  0.0872093 ]\n",
      " [0.24719101 0.75280899]]\n"
     ]
    },
    {
     "data": {
      "image/png": "[encoded data removed]",
      "text/plain": [
       "<Figure size 432x288 with 2 Axes>"
      ]
     },
     "metadata": {
      "tags": []
     },
     "output_type": "display_data"
    },
    {
     "data": {
      "image/png": "[encoded data removed]",
      "text/plain": [
       "<Figure size 432x288 with 2 Axes>"
      ]
     },
     "metadata": {
      "tags": []
     },
     "output_type": "display_data"
    }
   ],
   "source": [
    "clf_svm = SVC(random_state = 9, kernel='rbf')\n",
    "try_other_classifier(clf_svm, X_train, y_train, X_test, y_test)"
   ]
  },
  {
   "cell_type": "code",
   "execution_count": 0,
   "metadata": {
    "colab": {
     "base_uri": "https://localhost:8080/",
     "height": 832
    },
    "colab_type": "code",
    "id": "8dXyY8gHp3H4",
    "outputId": "4c718925-8b6f-4233-ddad-0a0ac6672399"
   },
   "outputs": [
    {
     "name": "stdout",
     "output_type": "stream",
     "text": [
      "Training a SVC\n",
      "with a training set size of 1050\n",
      "Test Precision Score: 0.8012820512820513\n",
      "Test Accuracy Score: 0.76\n",
      "Test Confusion Matrix: \n",
      " [[141  31]\n",
      " [ 53 125]]\n",
      "Number of False Positives: 31\n",
      "Confusion matrix, without normalization\n",
      "[[141  31]\n",
      " [ 53 125]]\n",
      "\n",
      "Normalized confusion matrix\n",
      "[[0.81976744 0.18023256]\n",
      " [0.29775281 0.70224719]]\n"
     ]
    },
    {
     "data": {
      "image/png": "[encoded data removed]",
      "text/plain": [
       "<Figure size 432x288 with 2 Axes>"
      ]
     },
     "metadata": {
      "tags": []
     },
     "output_type": "display_data"
    },
    {
     "data": {
      "image/png": "[encoded data removed]",
      "text/plain": [
       "<Figure size 432x288 with 2 Axes>"
      ]
     },
     "metadata": {
      "tags": []
     },
     "output_type": "display_data"
    }
   ],
   "source": [
    "clf_svm = SVC(random_state = 9, kernel='linear')\n",
    "try_other_classifier(clf_svm, X_train, y_train, X_test, y_test)"
   ]
  },
  {
   "cell_type": "code",
   "execution_count": 0,
   "metadata": {
    "colab": {
     "base_uri": "https://localhost:8080/",
     "height": 832
    },
    "colab_type": "code",
    "id": "YpZAhqk1p3H7",
    "outputId": "cd4926d1-9a93-4bba-c043-58e2c19f96dc"
   },
   "outputs": [
    {
     "name": "stdout",
     "output_type": "stream",
     "text": [
      "Training a LogisticRegression\n",
      "with a training set size of 1050\n",
      "Test Precision Score: 0.80625\n",
      "Test Accuracy Score: 0.7714285714285715\n",
      "Test Confusion Matrix: \n",
      " [[141  31]\n",
      " [ 49 129]]\n",
      "Number of False Positives: 31\n",
      "Confusion matrix, without normalization\n",
      "[[141  31]\n",
      " [ 49 129]]\n",
      "\n",
      "Normalized confusion matrix\n",
      "[[0.81976744 0.18023256]\n",
      " [0.2752809  0.7247191 ]]\n"
     ]
    },
    {
     "data": {
      "image/png": "[encoded data removed]",
      "text/plain": [
       "<Figure size 432x288 with 2 Axes>"
      ]
     },
     "metadata": {
      "tags": []
     },
     "output_type": "display_data"
    },
    {
     "data": {
      "image/png": "[encoded data removed]",
      "text/plain": [
       "<Figure size 432x288 with 2 Axes>"
      ]
     },
     "metadata": {
      "tags": []
     },
     "output_type": "display_data"
    }
   ],
   "source": [
    "clf_log_reg = LogisticRegression()\n",
    "try_other_classifier(clf_log_reg, X_train, y_train, X_test, y_test)"
   ]
  },
  {
   "cell_type": "code",
   "execution_count": 0,
   "metadata": {
    "colab": {
     "base_uri": "https://localhost:8080/",
     "height": 832
    },
    "colab_type": "code",
    "id": "jG_q7dwAp3H8",
    "outputId": "f058d09e-0e48-4d37-b660-07f2fa9d04b4",
    "scrolled": false
   },
   "outputs": [
    {
     "name": "stdout",
     "output_type": "stream",
     "text": [
      "Training a ExtraTreesClassifier\n",
      "with a training set size of 1050\n",
      "Test Precision Score: 0.934640522875817\n",
      "Test Accuracy Score: 0.8714285714285714\n",
      "Test Confusion Matrix: \n",
      " [[162  10]\n",
      " [ 35 143]]\n",
      "Number of False Positives: 10\n",
      "Confusion matrix, without normalization\n",
      "[[162  10]\n",
      " [ 35 143]]\n",
      "\n",
      "Normalized confusion matrix\n",
      "[[0.94186047 0.05813953]\n",
      " [0.19662921 0.80337079]]\n"
     ]
    },
    {
     "data": {
      "image/png": "[encoded data removed]",
      "text/plain": [
       "<Figure size 432x288 with 2 Axes>"
      ]
     },
     "metadata": {
      "tags": []
     },
     "output_type": "display_data"
    },
    {
     "data": {
      "image/png": "[encoded data removed]",
      "text/plain": [
       "<Figure size 432x288 with 2 Axes>"
      ]
     },
     "metadata": {
      "tags": []
     },
     "output_type": "display_data"
    }
   ],
   "source": [
    "clf_extra = ExtraTreesClassifier()\n",
    "try_other_classifier(clf_extra, X_train, y_train, X_test, y_test)"
   ]
  }
 ],
 "metadata": {
  "colab": {
   "collapsed_sections": [],
   "name": "FinalProject.ipynb",
   "provenance": []
  },
  "jupytext": {
   "formats": "ipynb,md"
  },
  "kernelspec": {
   "display_name": "Python 3",
   "language": "python",
   "name": "python3"
  },
  "language_info": {
   "codemirror_mode": {
    "name": "ipython",
    "version": 3
   },
   "file_extension": ".py",
   "mimetype": "text/x-python",
   "name": "python",
   "nbconvert_exporter": "python",
   "pygments_lexer": "ipython3",
   "version": "3.7.3"
  }
 },
 "nbformat": 4,
 "nbformat_minor": 2
}
