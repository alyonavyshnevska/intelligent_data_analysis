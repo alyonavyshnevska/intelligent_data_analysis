{
 "cells": [
  {
   "cell_type": "code",
   "execution_count": 90,
   "metadata": {},
   "outputs": [],
   "source": [
    "# Imports\n",
    "import numpy as np\n",
    "import pandas as pd\n",
    "from collections import Counter, defaultdict\n",
    "\n",
    "#visual\n",
    "import seaborn as sns \n",
    "import matplotlib.pyplot as plt\n",
    "import missingno as mno\n",
    "\n",
    "#learning\n",
    "from sklearn import linear_model\n",
    "from sklearn.preprocessing import OneHotEncoder, LabelEncoder, LabelBinarizer\n",
    "from sklearn.tree import DecisionTreeClassifier\n",
    "from sklearn.ensemble import RandomForestClassifier, ExtraTreesClassifier\n",
    "from sklearn.model_selection import train_test_split, cross_val_score, GridSearchCV\n",
    "from sklearn.metrics import precision_score, accuracy_score, confusion_matrix\n",
    "from sklearn.utils.multiclass import unique_labels\n",
    "from sklearn.linear_model import SGDClassifier, RidgeClassifier, PassiveAggressiveClassifier, \\\n",
    "BayesianRidge, LogisticRegression\n",
    "from sklearn.svm import LinearSVC, SVC\n",
    "from sklearn.gaussian_process import GaussianProcessClassifier\n",
    "from sklearn.gaussian_process.kernels import RBF\n",
    "\n",
    "\n",
    "# import warnings filter\n",
    "from warnings import simplefilter\n",
    "# ignore all future warnings\n",
    "simplefilter(action='ignore', category=FutureWarning)\n",
    "\n",
    "import warnings\n",
    "warnings.filterwarnings('ignore') \n",
    "\n",
    "%matplotlib inline"
   ]
  },
  {
   "cell_type": "markdown",
   "metadata": {},
   "source": [
    "## Getting to Know the Data"
   ]
  },
  {
   "cell_type": "code",
   "execution_count": 2,
   "metadata": {},
   "outputs": [
    {
     "data": {
      "text/plain": [
       "(1000, 21)"
      ]
     },
     "execution_count": 2,
     "metadata": {},
     "output_type": "execute_result"
    }
   ],
   "source": [
    "# Loading data as pandas dataframe\n",
    "\n",
    "# Naming the columns with attributes they represent\n",
    "names = ['account_status', 'duration', 'credit_history',\n",
    "             'purpose', 'credit_amount', 'savings_account', 'employment_since',\n",
    "             'installment_rate', 'personal_status_sex', 'guarantors', \n",
    "             'residence_since', 'property', 'age', 'other_installment_plans',\n",
    "             'housing', 'number_of_credits', 'job', 'people_to_maintain',\n",
    "             'phone', 'foreign_worker', 'creditworthy']\n",
    "\n",
    "df = pd.read_csv('data/kredit.dat', header=None, sep=\"\\t\", names=names)\n",
    "# df = pd.read_csv('data/einkommen.train.txt', header=None, sep=\",\")\n",
    "df.shape"
   ]
  },
  {
   "cell_type": "code",
   "execution_count": 3,
   "metadata": {},
   "outputs": [
    {
     "data": {
      "text/plain": [
       "(1000, 20)"
      ]
     },
     "execution_count": 3,
     "metadata": {},
     "output_type": "execute_result"
    }
   ],
   "source": [
    "# Last column is the target variable\n",
    "df.creditworthy.replace([1,2], [1,0], inplace=True)\n",
    "label = df['creditworthy']\n",
    "df = df.drop(columns=['creditworthy'])\n",
    "df.shape"
   ]
  },
  {
   "cell_type": "code",
   "execution_count": 4,
   "metadata": {
    "scrolled": true
   },
   "outputs": [
    {
     "name": "stdout",
     "output_type": "stream",
     "text": [
      "Number of data points: 1000\n",
      "Number of Attributes: 20\n"
     ]
    },
    {
     "data": {
      "text/html": [
       "<div>\n",
       "<style scoped>\n",
       "    .dataframe tbody tr th:only-of-type {\n",
       "        vertical-align: middle;\n",
       "    }\n",
       "\n",
       "    .dataframe tbody tr th {\n",
       "        vertical-align: top;\n",
       "    }\n",
       "\n",
       "    .dataframe thead th {\n",
       "        text-align: right;\n",
       "    }\n",
       "</style>\n",
       "<table border=\"1\" class=\"dataframe\">\n",
       "  <thead>\n",
       "    <tr style=\"text-align: right;\">\n",
       "      <th></th>\n",
       "      <th>account_status</th>\n",
       "      <th>duration</th>\n",
       "      <th>credit_history</th>\n",
       "      <th>purpose</th>\n",
       "      <th>credit_amount</th>\n",
       "      <th>savings_account</th>\n",
       "      <th>employment_since</th>\n",
       "      <th>installment_rate</th>\n",
       "      <th>personal_status_sex</th>\n",
       "      <th>guarantors</th>\n",
       "      <th>residence_since</th>\n",
       "      <th>property</th>\n",
       "      <th>age</th>\n",
       "      <th>other_installment_plans</th>\n",
       "      <th>housing</th>\n",
       "      <th>number_of_credits</th>\n",
       "      <th>job</th>\n",
       "      <th>people_to_maintain</th>\n",
       "      <th>phone</th>\n",
       "      <th>foreign_worker</th>\n",
       "    </tr>\n",
       "  </thead>\n",
       "  <tbody>\n",
       "    <tr>\n",
       "      <th>0</th>\n",
       "      <td>A14</td>\n",
       "      <td>36</td>\n",
       "      <td>A32</td>\n",
       "      <td>?</td>\n",
       "      <td>2299</td>\n",
       "      <td>A63</td>\n",
       "      <td>?</td>\n",
       "      <td>4</td>\n",
       "      <td>A93</td>\n",
       "      <td>A101</td>\n",
       "      <td>4</td>\n",
       "      <td>A123</td>\n",
       "      <td>39</td>\n",
       "      <td>A143</td>\n",
       "      <td>A152</td>\n",
       "      <td>1</td>\n",
       "      <td>A173</td>\n",
       "      <td>1</td>\n",
       "      <td>A191</td>\n",
       "      <td>?</td>\n",
       "    </tr>\n",
       "    <tr>\n",
       "      <th>1</th>\n",
       "      <td>A12</td>\n",
       "      <td>18</td>\n",
       "      <td>A32</td>\n",
       "      <td>A46</td>\n",
       "      <td>1239</td>\n",
       "      <td>A65</td>\n",
       "      <td>A73</td>\n",
       "      <td>4</td>\n",
       "      <td>A93</td>\n",
       "      <td>A101</td>\n",
       "      <td>4</td>\n",
       "      <td>A124</td>\n",
       "      <td>61</td>\n",
       "      <td>A143</td>\n",
       "      <td>A153</td>\n",
       "      <td>1</td>\n",
       "      <td>?</td>\n",
       "      <td>1</td>\n",
       "      <td>A191</td>\n",
       "      <td>A201</td>\n",
       "    </tr>\n",
       "    <tr>\n",
       "      <th>2</th>\n",
       "      <td>A13</td>\n",
       "      <td>24</td>\n",
       "      <td>A32</td>\n",
       "      <td>A40</td>\n",
       "      <td>947</td>\n",
       "      <td>A61</td>\n",
       "      <td>A74</td>\n",
       "      <td>4</td>\n",
       "      <td>A93</td>\n",
       "      <td>A101</td>\n",
       "      <td>3</td>\n",
       "      <td>A124</td>\n",
       "      <td>38</td>\n",
       "      <td>A141</td>\n",
       "      <td>A153</td>\n",
       "      <td>1</td>\n",
       "      <td>?</td>\n",
       "      <td>2</td>\n",
       "      <td>A191</td>\n",
       "      <td>?</td>\n",
       "    </tr>\n",
       "    <tr>\n",
       "      <th>3</th>\n",
       "      <td>A14</td>\n",
       "      <td>15</td>\n",
       "      <td>A33</td>\n",
       "      <td>A43</td>\n",
       "      <td>1478</td>\n",
       "      <td>A61</td>\n",
       "      <td>A73</td>\n",
       "      <td>4</td>\n",
       "      <td>A94</td>\n",
       "      <td>A101</td>\n",
       "      <td>3</td>\n",
       "      <td>A121</td>\n",
       "      <td>33</td>\n",
       "      <td>A141</td>\n",
       "      <td>A152</td>\n",
       "      <td>2</td>\n",
       "      <td>A173</td>\n",
       "      <td>1</td>\n",
       "      <td>A191</td>\n",
       "      <td>A201</td>\n",
       "    </tr>\n",
       "    <tr>\n",
       "      <th>4</th>\n",
       "      <td>A14</td>\n",
       "      <td>24</td>\n",
       "      <td>A32</td>\n",
       "      <td>A40</td>\n",
       "      <td>1525</td>\n",
       "      <td>A64</td>\n",
       "      <td>A74</td>\n",
       "      <td>4</td>\n",
       "      <td>A92</td>\n",
       "      <td>A101</td>\n",
       "      <td>3</td>\n",
       "      <td>A123</td>\n",
       "      <td>34</td>\n",
       "      <td>A143</td>\n",
       "      <td>A152</td>\n",
       "      <td>1</td>\n",
       "      <td>A173</td>\n",
       "      <td>2</td>\n",
       "      <td>A192</td>\n",
       "      <td>A201</td>\n",
       "    </tr>\n",
       "  </tbody>\n",
       "</table>\n",
       "</div>"
      ],
      "text/plain": [
       "  account_status  duration credit_history purpose  credit_amount  \\\n",
       "0            A14        36            A32       ?           2299   \n",
       "1            A12        18            A32     A46           1239   \n",
       "2            A13        24            A32     A40            947   \n",
       "3            A14        15            A33     A43           1478   \n",
       "4            A14        24            A32     A40           1525   \n",
       "\n",
       "  savings_account employment_since  installment_rate personal_status_sex  \\\n",
       "0             A63                ?                 4                 A93   \n",
       "1             A65              A73                 4                 A93   \n",
       "2             A61              A74                 4                 A93   \n",
       "3             A61              A73                 4                 A94   \n",
       "4             A64              A74                 4                 A92   \n",
       "\n",
       "  guarantors  residence_since property  age other_installment_plans housing  \\\n",
       "0       A101                4     A123   39                    A143    A152   \n",
       "1       A101                4     A124   61                    A143    A153   \n",
       "2       A101                3     A124   38                    A141    A153   \n",
       "3       A101                3     A121   33                    A141    A152   \n",
       "4       A101                3     A123   34                    A143    A152   \n",
       "\n",
       "   number_of_credits   job  people_to_maintain phone foreign_worker  \n",
       "0                  1  A173                   1  A191              ?  \n",
       "1                  1     ?                   1  A191           A201  \n",
       "2                  1     ?                   2  A191              ?  \n",
       "3                  2  A173                   1  A191           A201  \n",
       "4                  1  A173                   2  A192           A201  "
      ]
     },
     "execution_count": 4,
     "metadata": {},
     "output_type": "execute_result"
    }
   ],
   "source": [
    "# Getting familiar with data\n",
    "\n",
    "print(f'Number of data points: {df.shape[0]}')\n",
    "print(f'Number of Attributes: {df.shape[1]}')\n",
    "df.head(5)"
   ]
  },
  {
   "cell_type": "code",
   "execution_count": 5,
   "metadata": {},
   "outputs": [
    {
     "name": "stdout",
     "output_type": "stream",
     "text": [
      "account_status             object\n",
      "duration                    int64\n",
      "credit_history             object\n",
      "purpose                    object\n",
      "credit_amount               int64\n",
      "savings_account            object\n",
      "employment_since           object\n",
      "installment_rate            int64\n",
      "personal_status_sex        object\n",
      "guarantors                 object\n",
      "residence_since             int64\n",
      "property                   object\n",
      "age                         int64\n",
      "other_installment_plans    object\n",
      "housing                    object\n",
      "number_of_credits           int64\n",
      "job                        object\n",
      "people_to_maintain          int64\n",
      "phone                      object\n",
      "foreign_worker             object\n",
      "dtype: object\n",
      "Categorical features:\n",
      "['account_status', 'credit_history', 'purpose', 'savings_account', 'employment_since', 'personal_status_sex', 'guarantors', 'property', 'other_installment_plans', 'housing', 'job', 'phone', 'foreign_worker']\n",
      "\n",
      "Numerical features:\n",
      "['duration', 'credit_amount', 'installment_rate', 'residence_since', 'age', 'number_of_credits', 'people_to_maintain']\n"
     ]
    }
   ],
   "source": [
    "print(df.dtypes)\n",
    "\n",
    "# As we see above: 2 data types\n",
    "# Features will be treated separately\n",
    "\n",
    "categorical = [att for att in df.columns if df[att].dtype == 'object']\n",
    "numerical = [att for att in df.columns if df[att].dtype == 'int64']\n",
    "\n",
    "print(f'Categorical features:\\n{categorical}\\n')\n",
    "print(f'Numerical features:\\n{numerical}')"
   ]
  },
  {
   "cell_type": "markdown",
   "metadata": {},
   "source": [
    "### How balanced is the dataset?"
   ]
  },
  {
   "cell_type": "code",
   "execution_count": 6,
   "metadata": {
    "scrolled": true
   },
   "outputs": [
    {
     "name": "stdout",
     "output_type": "stream",
     "text": [
      "1    700\n",
      "0    300\n",
      "Name: creditworthy, dtype: int64\n"
     ]
    }
   ],
   "source": [
    "# 1 = good, trustworthy\n",
    "# 0 = bad, Not trustworthy\n",
    "print(label.value_counts())\n",
    "\n",
    "# label.value_counts().plot(kind='bar', label= 'Target Values')\n",
    "# There are more than twice as many creditworthy examples\n",
    "\n",
    "# As we see, the scales are very different, so we will have to normalize the data\n",
    "# df.hist(figsize = (20,13))"
   ]
  },
  {
   "cell_type": "markdown",
   "metadata": {},
   "source": [
    "Problematic: It is more important for us to recognise the untrustworthy, but we have less data for them"
   ]
  },
  {
   "cell_type": "code",
   "execution_count": 7,
   "metadata": {},
   "outputs": [],
   "source": [
    "# Change a yes/no categorical varibable into numeric one\n",
    "df.replace('A201', 1, inplace=True)\n",
    "df.replace('A202', 0, inplace=True)\n",
    "df.replace('A191', 0, inplace=True)\n",
    "df.replace('A192', 1, inplace=True)\n",
    "\n",
    "#Rescale\n",
    "df.credit_amount = np.log(df.credit_amount)"
   ]
  },
  {
   "cell_type": "code",
   "execution_count": 8,
   "metadata": {},
   "outputs": [
    {
     "name": "stdout",
     "output_type": "stream",
     "text": [
      "\n",
      "duration : 4 - 72\n",
      "credit_amount : 5.521460917862246 - 9.82140944150052\n",
      "installment_rate : 1 - 4\n",
      "residence_since : 1 - 4\n",
      "age : 19 - 75\n",
      "number_of_credits : 1 - 4\n",
      "people_to_maintain : 1 - 2\n"
     ]
    }
   ],
   "source": [
    "# Ranges of values \n",
    "print()\n",
    "for pos in range(len(numerical)):\n",
    "    print(f'{numerical[pos]} : {df[numerical[pos]].min()} - {df[numerical[pos]].max()}')"
   ]
  },
  {
   "cell_type": "markdown",
   "metadata": {},
   "source": [
    "### 2.2 Handling Missing Values"
   ]
  },
  {
   "cell_type": "markdown",
   "metadata": {},
   "source": [
    "NaN in Pandas:\n",
    "1. Nan != NaN (whereas None == None)  \n",
    "2. When summing data, NaN values will be treated as zero.   \n",
    "If the data are all NA, the result will be 0.  \n",
    "\n"
   ]
  },
  {
   "cell_type": "code",
   "execution_count": 9,
   "metadata": {
    "scrolled": true
   },
   "outputs": [],
   "source": [
    "# For more convenient operations for missing values, replace ? with NaN\n",
    "# As we see, there are too many missing values to remove these points from the dataset\n",
    "df.replace(\"?\", np.nan, inplace=True)"
   ]
  },
  {
   "cell_type": "code",
   "execution_count": 10,
   "metadata": {
    "scrolled": false
   },
   "outputs": [
    {
     "name": "stdout",
     "output_type": "stream",
     "text": [
      "Number of Missing Values:\n",
      "\n",
      "account_status               0\n",
      "duration                     0\n",
      "credit_history               0\n",
      "purpose                    173\n",
      "credit_amount                0\n",
      "savings_account              0\n",
      "employment_since           496\n",
      "installment_rate             0\n",
      "personal_status_sex          0\n",
      "guarantors                   0\n",
      "residence_since              0\n",
      "property                     0\n",
      "age                          0\n",
      "other_installment_plans      0\n",
      "housing                      0\n",
      "number_of_credits            0\n",
      "job                        232\n",
      "people_to_maintain           0\n",
      "phone                        0\n",
      "foreign_worker             360\n",
      "dtype: int64\n"
     ]
    }
   ],
   "source": [
    "print(f'Number of Missing Values:\\n\\n{df.isnull().sum()}')"
   ]
  },
  {
   "cell_type": "code",
   "execution_count": 11,
   "metadata": {},
   "outputs": [
    {
     "name": "stdout",
     "output_type": "stream",
     "text": [
      "(1000, 20)\n",
      "(1000, 16)\n"
     ]
    },
    {
     "data": {
      "text/html": [
       "<div>\n",
       "<style scoped>\n",
       "    .dataframe tbody tr th:only-of-type {\n",
       "        vertical-align: middle;\n",
       "    }\n",
       "\n",
       "    .dataframe tbody tr th {\n",
       "        vertical-align: top;\n",
       "    }\n",
       "\n",
       "    .dataframe thead th {\n",
       "        text-align: right;\n",
       "    }\n",
       "</style>\n",
       "<table border=\"1\" class=\"dataframe\">\n",
       "  <thead>\n",
       "    <tr style=\"text-align: right;\">\n",
       "      <th></th>\n",
       "      <th>account_status</th>\n",
       "      <th>duration</th>\n",
       "      <th>credit_history</th>\n",
       "      <th>credit_amount</th>\n",
       "      <th>savings_account</th>\n",
       "      <th>installment_rate</th>\n",
       "      <th>personal_status_sex</th>\n",
       "      <th>guarantors</th>\n",
       "      <th>residence_since</th>\n",
       "      <th>property</th>\n",
       "      <th>age</th>\n",
       "      <th>other_installment_plans</th>\n",
       "      <th>housing</th>\n",
       "      <th>number_of_credits</th>\n",
       "      <th>people_to_maintain</th>\n",
       "      <th>phone</th>\n",
       "    </tr>\n",
       "  </thead>\n",
       "  <tbody>\n",
       "    <tr>\n",
       "      <th>0</th>\n",
       "      <td>A14</td>\n",
       "      <td>36</td>\n",
       "      <td>A32</td>\n",
       "      <td>7.740230</td>\n",
       "      <td>A63</td>\n",
       "      <td>4</td>\n",
       "      <td>A93</td>\n",
       "      <td>A101</td>\n",
       "      <td>4</td>\n",
       "      <td>A123</td>\n",
       "      <td>39</td>\n",
       "      <td>A143</td>\n",
       "      <td>A152</td>\n",
       "      <td>1</td>\n",
       "      <td>1</td>\n",
       "      <td>0</td>\n",
       "    </tr>\n",
       "    <tr>\n",
       "      <th>1</th>\n",
       "      <td>A12</td>\n",
       "      <td>18</td>\n",
       "      <td>A32</td>\n",
       "      <td>7.122060</td>\n",
       "      <td>A65</td>\n",
       "      <td>4</td>\n",
       "      <td>A93</td>\n",
       "      <td>A101</td>\n",
       "      <td>4</td>\n",
       "      <td>A124</td>\n",
       "      <td>61</td>\n",
       "      <td>A143</td>\n",
       "      <td>A153</td>\n",
       "      <td>1</td>\n",
       "      <td>1</td>\n",
       "      <td>0</td>\n",
       "    </tr>\n",
       "    <tr>\n",
       "      <th>2</th>\n",
       "      <td>A13</td>\n",
       "      <td>24</td>\n",
       "      <td>A32</td>\n",
       "      <td>6.853299</td>\n",
       "      <td>A61</td>\n",
       "      <td>4</td>\n",
       "      <td>A93</td>\n",
       "      <td>A101</td>\n",
       "      <td>3</td>\n",
       "      <td>A124</td>\n",
       "      <td>38</td>\n",
       "      <td>A141</td>\n",
       "      <td>A153</td>\n",
       "      <td>1</td>\n",
       "      <td>2</td>\n",
       "      <td>0</td>\n",
       "    </tr>\n",
       "    <tr>\n",
       "      <th>3</th>\n",
       "      <td>A14</td>\n",
       "      <td>15</td>\n",
       "      <td>A33</td>\n",
       "      <td>7.298445</td>\n",
       "      <td>A61</td>\n",
       "      <td>4</td>\n",
       "      <td>A94</td>\n",
       "      <td>A101</td>\n",
       "      <td>3</td>\n",
       "      <td>A121</td>\n",
       "      <td>33</td>\n",
       "      <td>A141</td>\n",
       "      <td>A152</td>\n",
       "      <td>2</td>\n",
       "      <td>1</td>\n",
       "      <td>0</td>\n",
       "    </tr>\n",
       "    <tr>\n",
       "      <th>4</th>\n",
       "      <td>A14</td>\n",
       "      <td>24</td>\n",
       "      <td>A32</td>\n",
       "      <td>7.329750</td>\n",
       "      <td>A64</td>\n",
       "      <td>4</td>\n",
       "      <td>A92</td>\n",
       "      <td>A101</td>\n",
       "      <td>3</td>\n",
       "      <td>A123</td>\n",
       "      <td>34</td>\n",
       "      <td>A143</td>\n",
       "      <td>A152</td>\n",
       "      <td>1</td>\n",
       "      <td>2</td>\n",
       "      <td>1</td>\n",
       "    </tr>\n",
       "  </tbody>\n",
       "</table>\n",
       "</div>"
      ],
      "text/plain": [
       "  account_status  duration credit_history  credit_amount savings_account  \\\n",
       "0            A14        36            A32       7.740230             A63   \n",
       "1            A12        18            A32       7.122060             A65   \n",
       "2            A13        24            A32       6.853299             A61   \n",
       "3            A14        15            A33       7.298445             A61   \n",
       "4            A14        24            A32       7.329750             A64   \n",
       "\n",
       "   installment_rate personal_status_sex guarantors  residence_since property  \\\n",
       "0                 4                 A93       A101                4     A123   \n",
       "1                 4                 A93       A101                4     A124   \n",
       "2                 4                 A93       A101                3     A124   \n",
       "3                 4                 A94       A101                3     A121   \n",
       "4                 4                 A92       A101                3     A123   \n",
       "\n",
       "   age other_installment_plans housing  number_of_credits  people_to_maintain  \\\n",
       "0   39                    A143    A152                  1                   1   \n",
       "1   61                    A143    A153                  1                   1   \n",
       "2   38                    A141    A153                  1                   2   \n",
       "3   33                    A141    A152                  2                   1   \n",
       "4   34                    A143    A152                  1                   2   \n",
       "\n",
       "   phone  \n",
       "0      0  \n",
       "1      0  \n",
       "2      0  \n",
       "3      0  \n",
       "4      1  "
      ]
     },
     "execution_count": 11,
     "metadata": {},
     "output_type": "execute_result"
    }
   ],
   "source": [
    "missing_columns = ['purpose', 'employment_since', 'job', 'foreign_worker']\n",
    "# create df without columns where there are NA\n",
    "df_X = df.dropna(axis=1, how='any')\n",
    "print(df.shape)\n",
    "print(df_X.shape)\n",
    "df_X.head()"
   ]
  },
  {
   "cell_type": "code",
   "execution_count": 12,
   "metadata": {},
   "outputs": [
    {
     "data": {
      "text/plain": [
       "purpose             0.173\n",
       "employment_since    0.496\n",
       "job                 0.232\n",
       "foreign_worker      0.360\n",
       "dtype: float64"
      ]
     },
     "execution_count": 12,
     "metadata": {},
     "output_type": "execute_result"
    }
   ],
   "source": [
    "# Percentage of missing values\n",
    "df[missing_columns].isnull().sum()/len(df)"
   ]
  },
  {
   "cell_type": "markdown",
   "metadata": {},
   "source": [
    "Purpose - 17.3%.   \n",
    "Employment since - 49.6%  \n",
    "job - 0.23%.   \n",
    "foreign worker - 36%. "
   ]
  },
  {
   "cell_type": "markdown",
   "metadata": {},
   "source": [
    "?? Drop Employment_since all together?"
   ]
  },
  {
   "cell_type": "code",
   "execution_count": 13,
   "metadata": {},
   "outputs": [
    {
     "data": {
      "text/plain": [
       "<matplotlib.axes._subplots.AxesSubplot at 0x1a25891278>"
      ]
     },
     "execution_count": 13,
     "metadata": {},
     "output_type": "execute_result"
    },
    {
     "data": {
      "image/png": "[encoded data removed]",
      "text/plain": [
       "<Figure size 1440x432 with 2 Axes>"
      ]
     },
     "metadata": {
      "needs_background": "dark"
     },
     "output_type": "display_data"
    }
   ],
   "source": [
    "mno.matrix(df, figsize = (20, 6))"
   ]
  },
  {
   "cell_type": "code",
   "execution_count": 14,
   "metadata": {
    "scrolled": true
   },
   "outputs": [],
   "source": [
    "# Check out data points where purpose is missing\n",
    "#df[df.purpose.isnull()]"
   ]
  },
  {
   "cell_type": "code",
   "execution_count": 15,
   "metadata": {},
   "outputs": [
    {
     "data": {
      "text/plain": [
       "account_status              4\n",
       "credit_history              5\n",
       "purpose                    10\n",
       "savings_account             5\n",
       "employment_since            5\n",
       "personal_status_sex         4\n",
       "guarantors                  3\n",
       "property                    4\n",
       "other_installment_plans     3\n",
       "housing                     3\n",
       "job                         4\n",
       "phone                       2\n",
       "foreign_worker              2\n",
       "dtype: int64"
      ]
     },
     "execution_count": 15,
     "metadata": {},
     "output_type": "execute_result"
    }
   ],
   "source": [
    "# Show how many unique categorical values we have: useful for one-hot encoding\n",
    "df[categorical].nunique()"
   ]
  },
  {
   "cell_type": "code",
   "execution_count": 16,
   "metadata": {},
   "outputs": [
    {
     "data": {
      "text/html": [
       "<div>\n",
       "<style scoped>\n",
       "    .dataframe tbody tr th:only-of-type {\n",
       "        vertical-align: middle;\n",
       "    }\n",
       "\n",
       "    .dataframe tbody tr th {\n",
       "        vertical-align: top;\n",
       "    }\n",
       "\n",
       "    .dataframe thead th {\n",
       "        text-align: right;\n",
       "    }\n",
       "</style>\n",
       "<table border=\"1\" class=\"dataframe\">\n",
       "  <thead>\n",
       "    <tr style=\"text-align: right;\">\n",
       "      <th>credit_history</th>\n",
       "      <th>A30</th>\n",
       "      <th>A31</th>\n",
       "      <th>A32</th>\n",
       "      <th>A33</th>\n",
       "      <th>A34</th>\n",
       "    </tr>\n",
       "    <tr>\n",
       "      <th>creditworthy</th>\n",
       "      <th></th>\n",
       "      <th></th>\n",
       "      <th></th>\n",
       "      <th></th>\n",
       "      <th></th>\n",
       "    </tr>\n",
       "  </thead>\n",
       "  <tbody>\n",
       "    <tr>\n",
       "      <th>0</th>\n",
       "      <td>25</td>\n",
       "      <td>28</td>\n",
       "      <td>169</td>\n",
       "      <td>28</td>\n",
       "      <td>50</td>\n",
       "    </tr>\n",
       "    <tr>\n",
       "      <th>1</th>\n",
       "      <td>15</td>\n",
       "      <td>21</td>\n",
       "      <td>361</td>\n",
       "      <td>60</td>\n",
       "      <td>243</td>\n",
       "    </tr>\n",
       "  </tbody>\n",
       "</table>\n",
       "</div>"
      ],
      "text/plain": [
       "credit_history  A30  A31  A32  A33  A34\n",
       "creditworthy                           \n",
       "0                25   28  169   28   50\n",
       "1                15   21  361   60  243"
      ]
     },
     "execution_count": 16,
     "metadata": {},
     "output_type": "execute_result"
    }
   ],
   "source": [
    "pd.crosstab(label, df['credit_history'])"
   ]
  },
  {
   "cell_type": "markdown",
   "metadata": {},
   "source": [
    "There are many options we could consider when replacing a missing value, for example:\n",
    "\n",
    "- A constant value that has meaning within the domain, such as 0, distinct from all other values.  \n",
    "- A value from another randomly selected record.  \n",
    "- A mean, median or mode value for the column.  \n",
    "- A value estimated by another predictive model. "
   ]
  },
  {
   "cell_type": "markdown",
   "metadata": {},
   "source": [
    "Imputation with Regression\n",
    "This is an imputation technique that uses information from the observed data to replace the missing values with predicted values from a regression model. The major drawback of using this method is that it reduces variability and overestimates the model fit and correlation coefficient."
   ]
  },
  {
   "cell_type": "markdown",
   "metadata": {},
   "source": [
    "Prediction model is one of the sophisticated method for handling missing data. Here, we create a predictive model to estimate values that will substitute the missing data.  In this case, we divide our data set into two sets: One set with no missing values for the variable and another one with missing values. First data set become training data set of the model while second data set with missing values is test data set and variable with missing values is treated as target variable. Next, we create a model to predict target variable based on other attributes of the training data set and populate missing values of test data set."
   ]
  },
  {
   "cell_type": "code",
   "execution_count": 17,
   "metadata": {},
   "outputs": [
    {
     "name": "stdout",
     "output_type": "stream",
     "text": [
      "(1000, 20)\n",
      "(203, 20)\n",
      "(1000, 20)\n",
      "(969, 20)\n"
     ]
    }
   ],
   "source": [
    "print(df.shape)\n",
    "# Dropping not an option: too much data lost\n",
    "print(df.dropna().shape)\n",
    "#no data points withh all values missing\n",
    "print(df.dropna(how='all').shape)\n",
    "# ?? maybe it makes sense to remove data points with many missing things\n",
    "print(df.dropna(subset=['purpose', 'foreign_worker', 'employment_since'], how='all').shape)\n",
    "# print(df.purpose.value_counts(dropna=False))"
   ]
  },
  {
   "cell_type": "markdown",
   "metadata": {},
   "source": [
    "## 2. Data Pre-Processing"
   ]
  },
  {
   "cell_type": "markdown",
   "metadata": {},
   "source": [
    "### 2.1 Feature Representation"
   ]
  },
  {
   "cell_type": "markdown",
   "metadata": {},
   "source": [
    "#### 2.1.1 Numerical"
   ]
  },
  {
   "cell_type": "code",
   "execution_count": 18,
   "metadata": {
    "scrolled": true
   },
   "outputs": [
    {
     "data": {
      "text/html": [
       "<div>\n",
       "<style scoped>\n",
       "    .dataframe tbody tr th:only-of-type {\n",
       "        vertical-align: middle;\n",
       "    }\n",
       "\n",
       "    .dataframe tbody tr th {\n",
       "        vertical-align: top;\n",
       "    }\n",
       "\n",
       "    .dataframe thead th {\n",
       "        text-align: right;\n",
       "    }\n",
       "</style>\n",
       "<table border=\"1\" class=\"dataframe\">\n",
       "  <thead>\n",
       "    <tr style=\"text-align: right;\">\n",
       "      <th></th>\n",
       "      <th>account_status</th>\n",
       "      <th>duration</th>\n",
       "      <th>credit_history</th>\n",
       "      <th>credit_amount</th>\n",
       "      <th>savings_account</th>\n",
       "      <th>installment_rate</th>\n",
       "      <th>personal_status_sex</th>\n",
       "      <th>guarantors</th>\n",
       "      <th>residence_since</th>\n",
       "      <th>property</th>\n",
       "      <th>age</th>\n",
       "      <th>other_installment_plans</th>\n",
       "      <th>housing</th>\n",
       "      <th>number_of_credits</th>\n",
       "      <th>people_to_maintain</th>\n",
       "      <th>phone</th>\n",
       "    </tr>\n",
       "  </thead>\n",
       "  <tbody>\n",
       "    <tr>\n",
       "      <th>0</th>\n",
       "      <td>A14</td>\n",
       "      <td>1.252574</td>\n",
       "      <td>A32</td>\n",
       "      <td>7.740230</td>\n",
       "      <td>A63</td>\n",
       "      <td>0.918477</td>\n",
       "      <td>A93</td>\n",
       "      <td>A101</td>\n",
       "      <td>1.046987</td>\n",
       "      <td>A123</td>\n",
       "      <td>0.303788</td>\n",
       "      <td>A143</td>\n",
       "      <td>A152</td>\n",
       "      <td>-0.704926</td>\n",
       "      <td>-0.428290</td>\n",
       "      <td>-0.823318</td>\n",
       "    </tr>\n",
       "    <tr>\n",
       "      <th>1</th>\n",
       "      <td>A12</td>\n",
       "      <td>-0.240857</td>\n",
       "      <td>A32</td>\n",
       "      <td>7.122060</td>\n",
       "      <td>A65</td>\n",
       "      <td>0.918477</td>\n",
       "      <td>A93</td>\n",
       "      <td>A101</td>\n",
       "      <td>1.046987</td>\n",
       "      <td>A124</td>\n",
       "      <td>2.238742</td>\n",
       "      <td>A143</td>\n",
       "      <td>A153</td>\n",
       "      <td>-0.704926</td>\n",
       "      <td>-0.428290</td>\n",
       "      <td>-0.823318</td>\n",
       "    </tr>\n",
       "    <tr>\n",
       "      <th>2</th>\n",
       "      <td>A13</td>\n",
       "      <td>0.256953</td>\n",
       "      <td>A32</td>\n",
       "      <td>6.853299</td>\n",
       "      <td>A61</td>\n",
       "      <td>0.918477</td>\n",
       "      <td>A93</td>\n",
       "      <td>A101</td>\n",
       "      <td>0.140505</td>\n",
       "      <td>A124</td>\n",
       "      <td>0.215835</td>\n",
       "      <td>A141</td>\n",
       "      <td>A153</td>\n",
       "      <td>-0.704926</td>\n",
       "      <td>2.334869</td>\n",
       "      <td>-0.823318</td>\n",
       "    </tr>\n",
       "    <tr>\n",
       "      <th>3</th>\n",
       "      <td>A14</td>\n",
       "      <td>-0.489762</td>\n",
       "      <td>A33</td>\n",
       "      <td>7.298445</td>\n",
       "      <td>A61</td>\n",
       "      <td>0.918477</td>\n",
       "      <td>A94</td>\n",
       "      <td>A101</td>\n",
       "      <td>0.140505</td>\n",
       "      <td>A121</td>\n",
       "      <td>-0.223927</td>\n",
       "      <td>A141</td>\n",
       "      <td>A152</td>\n",
       "      <td>1.027079</td>\n",
       "      <td>-0.428290</td>\n",
       "      <td>-0.823318</td>\n",
       "    </tr>\n",
       "    <tr>\n",
       "      <th>4</th>\n",
       "      <td>A14</td>\n",
       "      <td>0.256953</td>\n",
       "      <td>A32</td>\n",
       "      <td>7.329750</td>\n",
       "      <td>A64</td>\n",
       "      <td>0.918477</td>\n",
       "      <td>A92</td>\n",
       "      <td>A101</td>\n",
       "      <td>0.140505</td>\n",
       "      <td>A123</td>\n",
       "      <td>-0.135974</td>\n",
       "      <td>A143</td>\n",
       "      <td>A152</td>\n",
       "      <td>-0.704926</td>\n",
       "      <td>2.334869</td>\n",
       "      <td>1.214598</td>\n",
       "    </tr>\n",
       "  </tbody>\n",
       "</table>\n",
       "</div>"
      ],
      "text/plain": [
       "  account_status  duration credit_history  credit_amount savings_account  \\\n",
       "0            A14  1.252574            A32       7.740230             A63   \n",
       "1            A12 -0.240857            A32       7.122060             A65   \n",
       "2            A13  0.256953            A32       6.853299             A61   \n",
       "3            A14 -0.489762            A33       7.298445             A61   \n",
       "4            A14  0.256953            A32       7.329750             A64   \n",
       "\n",
       "   installment_rate personal_status_sex guarantors  residence_since property  \\\n",
       "0          0.918477                 A93       A101         1.046987     A123   \n",
       "1          0.918477                 A93       A101         1.046987     A124   \n",
       "2          0.918477                 A93       A101         0.140505     A124   \n",
       "3          0.918477                 A94       A101         0.140505     A121   \n",
       "4          0.918477                 A92       A101         0.140505     A123   \n",
       "\n",
       "        age other_installment_plans housing  number_of_credits  \\\n",
       "0  0.303788                    A143    A152          -0.704926   \n",
       "1  2.238742                    A143    A153          -0.704926   \n",
       "2  0.215835                    A141    A153          -0.704926   \n",
       "3 -0.223927                    A141    A152           1.027079   \n",
       "4 -0.135974                    A143    A152          -0.704926   \n",
       "\n",
       "   people_to_maintain     phone  \n",
       "0           -0.428290 -0.823318  \n",
       "1           -0.428290 -0.823318  \n",
       "2            2.334869 -0.823318  \n",
       "3           -0.428290 -0.823318  \n",
       "4            2.334869  1.214598  "
      ]
     },
     "execution_count": 18,
     "metadata": {},
     "output_type": "execute_result"
    }
   ],
   "source": [
    "# Normalize all numerical attributes\n",
    "def zscore(x):\n",
    "    #assert isinstance(x,np.ndarray), \"x must be a numpy array\"\n",
    "    return (x-np.mean(x)) / np.std(x)\n",
    "\n",
    "df = df.apply(lambda x: zscore(x) if x.dtype == 'int64' else x)\n",
    "df_X_normalized = df_X.apply(lambda x: zscore(x) if x.dtype == 'int64' else x)\n",
    "# df.hist(figsize = (20,13))\n",
    "df_X_normalized.head()"
   ]
  },
  {
   "cell_type": "markdown",
   "metadata": {},
   "source": [
    "#### 2.1.2 Categorical\n"
   ]
  },
  {
   "cell_type": "code",
   "execution_count": 19,
   "metadata": {},
   "outputs": [],
   "source": [
    "# Columns without missing values = X, columns with missing values become y one by one"
   ]
  },
  {
   "cell_type": "code",
   "execution_count": 20,
   "metadata": {},
   "outputs": [],
   "source": [
    "def str_to_num(df):\n",
    "\n",
    "    # create a new df with categorical features only, encoded as numbers\n",
    "    categorical = [att for att in df.columns if df[att].dtype == 'object']\n",
    "    numerical = [att for att in df.columns if df[att].dtype == 'int64']\n",
    "    enc = LabelEncoder()\n",
    "    df_encoded = df[categorical].apply(lambda x: enc.fit_transform(x))\n",
    "#     df[categorical].apply(lambda x: print(x.unique()))\n",
    "    df_encoded = df_encoded[categorical].apply(lambda x: enc.fit_transform(x))\n",
    "#     df_encoded[categorical].apply(lambda x: print(x.unique()))\n",
    "\n",
    "    df_encoded_concat = pd.concat([df_encoded, df[numerical]], axis=1)\n",
    "    \n",
    "    # Create a dict to decode numeric values\n",
    "    d = defaultdict()\n",
    "    for col_name in df[categorical]:\n",
    "        print(col_name)\n",
    "        # e.g.: account_status_A14 :  3\n",
    "        for unique_str_val, unique_num_val in zip(\n",
    "            df[col_name].unique(), df_encoded[col_name].unique()):\n",
    "                d[col_name + '_' + unique_str_val] = unique_num_val\n",
    "                \n",
    "#         d[col_name] = df_encoded[]\n",
    "    \n",
    "    return df_encoded_concat, d\n"
   ]
  },
  {
   "cell_type": "code",
   "execution_count": 21,
   "metadata": {},
   "outputs": [
    {
     "name": "stdout",
     "output_type": "stream",
     "text": [
      "account_status\n",
      "credit_history\n",
      "savings_account\n",
      "personal_status_sex\n",
      "guarantors\n",
      "property\n",
      "other_installment_plans\n",
      "housing\n",
      "account_status_A14 :  3\n",
      "account_status_A12 :  1\n",
      "account_status_A13 :  2\n",
      "account_status_A11 :  0\n",
      "credit_history_A32 :  2\n",
      "credit_history_A33 :  3\n",
      "credit_history_A34 :  4\n",
      "credit_history_A30 :  0\n",
      "credit_history_A31 :  1\n",
      "savings_account_A63 :  2\n",
      "savings_account_A65 :  4\n",
      "savings_account_A61 :  0\n",
      "savings_account_A64 :  3\n",
      "savings_account_A62 :  1\n",
      "personal_status_sex_A93 :  2\n",
      "personal_status_sex_A94 :  3\n",
      "personal_status_sex_A92 :  1\n",
      "personal_status_sex_A91 :  0\n",
      "guarantors_A101 :  0\n",
      "guarantors_A102 :  1\n",
      "guarantors_A103 :  2\n",
      "property_A123 :  2\n",
      "property_A124 :  3\n",
      "property_A121 :  0\n",
      "property_A122 :  1\n",
      "other_installment_plans_A143 :  2\n",
      "other_installment_plans_A141 :  0\n",
      "other_installment_plans_A142 :  1\n",
      "housing_A152 :  1\n",
      "housing_A153 :  2\n",
      "housing_A151 :  0\n"
     ]
    }
   ],
   "source": [
    "df_X_enc, df_X_enc_dict = str_to_num(df_X)\n",
    "df_X_enc\n",
    "for k,v in df_X_enc_dict.items():\n",
    "    print(k, ': ', v)"
   ]
  },
  {
   "cell_type": "code",
   "execution_count": 22,
   "metadata": {},
   "outputs": [
    {
     "name": "stdout",
     "output_type": "stream",
     "text": [
      "Unique categorical values:\n",
      "account_status : ['A14' 'A12' 'A13' 'A11']\n",
      "credit_history : ['A32' 'A33' 'A34' 'A30' 'A31']\n",
      "purpose : [nan 'A46' 'A40' 'A43' 'A41' 'A42' 'A49' 'A410' 'A45' 'A48' 'A44']\n",
      "savings_account : ['A63' 'A65' 'A61' 'A64' 'A62']\n",
      "employment_since : [nan 'A73' 'A74' 'A75' 'A72' 'A71']\n",
      "personal_status_sex : ['A93' 'A94' 'A92' 'A91']\n",
      "guarantors : ['A101' 'A102' 'A103']\n",
      "property : ['A123' 'A124' 'A121' 'A122']\n",
      "other_installment_plans : ['A143' 'A141' 'A142']\n",
      "housing : ['A152' 'A153' 'A151']\n",
      "job : ['A173' nan 'A174' 'A172' 'A171']\n"
     ]
    }
   ],
   "source": [
    "# Feature representation\n",
    "\n",
    "print(\"Unique categorical values:\")\n",
    "for att in df.select_dtypes(include=[object]):\n",
    "    print(att,\":\", df[att].unique())\n",
    "    \n",
    "# We will have to represent features differently "
   ]
  },
  {
   "cell_type": "code",
   "execution_count": 23,
   "metadata": {
    "scrolled": true
   },
   "outputs": [
    {
     "data": {
      "text/plain": [
       "['account_status',\n",
       " 'credit_history',\n",
       " 'savings_account',\n",
       " 'personal_status_sex',\n",
       " 'guarantors',\n",
       " 'property',\n",
       " 'other_installment_plans',\n",
       " 'housing',\n",
       " 'phone']"
      ]
     },
     "execution_count": 23,
     "metadata": {},
     "output_type": "execute_result"
    }
   ],
   "source": [
    "# which nominal columns to encode as onehot vectors for impution: \n",
    "# inly nominal categories without missing values\n",
    "to_onehot = [el for el in categorical if el not in missing_columns]\n",
    "to_onehot"
   ]
  },
  {
   "cell_type": "code",
   "execution_count": 24,
   "metadata": {
    "scrolled": true
   },
   "outputs": [
    {
     "name": "stdout",
     "output_type": "stream",
     "text": [
      "new 1-hot-encoded variables: ['phone', 'account_status_A11', 'account_status_A12', 'account_status_A13', 'account_status_A14', 'credit_history_A30', 'credit_history_A31', 'credit_history_A32', 'credit_history_A33', 'credit_history_A34', 'savings_account_A61', 'savings_account_A62', 'savings_account_A63', 'savings_account_A64', 'savings_account_A65', 'personal_status_sex_A91', 'personal_status_sex_A92', 'personal_status_sex_A93', 'personal_status_sex_A94', 'guarantors_A101', 'guarantors_A102', 'guarantors_A103', 'property_A121', 'property_A122', 'property_A123', 'property_A124', 'other_installment_plans_A141', 'other_installment_plans_A142', 'other_installment_plans_A143', 'housing_A151', 'housing_A152', 'housing_A153']\n"
     ]
    }
   ],
   "source": [
    "# print(f'old categorical variables: {categorical} \\n')\n",
    "# 1-hot encoding for the categorical variables\n",
    "df_only_one_hot = pd.get_dummies(df[to_onehot])\n",
    "print('new 1-hot-encoded variables: {}'.format(list(df_only_one_hot.columns)))\n",
    "# we get rid of the redundant columns:\n",
    "# df_one_hot.drop(labels=[''], axis=1, inplace=True)"
   ]
  },
  {
   "cell_type": "code",
   "execution_count": 25,
   "metadata": {
    "scrolled": true
   },
   "outputs": [],
   "source": [
    "# Concatenate numerical and categorical data\n",
    "df_with_onehot = pd.concat([df[numerical], df_only_one_hot], axis = 1)"
   ]
  },
  {
   "cell_type": "code",
   "execution_count": 26,
   "metadata": {},
   "outputs": [
    {
     "data": {
      "text/plain": [
       "(1000, 39)"
      ]
     },
     "execution_count": 26,
     "metadata": {},
     "output_type": "execute_result"
    }
   ],
   "source": [
    "# train columns to use for impution\n",
    "df_with_onehot.shape"
   ]
  },
  {
   "cell_type": "code",
   "execution_count": 27,
   "metadata": {
    "scrolled": true
   },
   "outputs": [
    {
     "data": {
      "text/html": [
       "<div>\n",
       "<style scoped>\n",
       "    .dataframe tbody tr th:only-of-type {\n",
       "        vertical-align: middle;\n",
       "    }\n",
       "\n",
       "    .dataframe tbody tr th {\n",
       "        vertical-align: top;\n",
       "    }\n",
       "\n",
       "    .dataframe thead th {\n",
       "        text-align: right;\n",
       "    }\n",
       "</style>\n",
       "<table border=\"1\" class=\"dataframe\">\n",
       "  <thead>\n",
       "    <tr style=\"text-align: right;\">\n",
       "      <th></th>\n",
       "      <th>duration</th>\n",
       "      <th>credit_amount</th>\n",
       "      <th>installment_rate</th>\n",
       "      <th>residence_since</th>\n",
       "      <th>age</th>\n",
       "      <th>number_of_credits</th>\n",
       "      <th>people_to_maintain</th>\n",
       "      <th>phone</th>\n",
       "      <th>account_status_A11</th>\n",
       "      <th>account_status_A12</th>\n",
       "      <th>...</th>\n",
       "      <th>property_A121</th>\n",
       "      <th>property_A122</th>\n",
       "      <th>property_A123</th>\n",
       "      <th>property_A124</th>\n",
       "      <th>other_installment_plans_A141</th>\n",
       "      <th>other_installment_plans_A142</th>\n",
       "      <th>other_installment_plans_A143</th>\n",
       "      <th>housing_A151</th>\n",
       "      <th>housing_A152</th>\n",
       "      <th>housing_A153</th>\n",
       "    </tr>\n",
       "  </thead>\n",
       "  <tbody>\n",
       "    <tr>\n",
       "      <th>0</th>\n",
       "      <td>1.252574</td>\n",
       "      <td>7.740230</td>\n",
       "      <td>0.918477</td>\n",
       "      <td>1.046987</td>\n",
       "      <td>0.303788</td>\n",
       "      <td>-0.704926</td>\n",
       "      <td>-0.428290</td>\n",
       "      <td>-0.823318</td>\n",
       "      <td>0</td>\n",
       "      <td>0</td>\n",
       "      <td>...</td>\n",
       "      <td>0</td>\n",
       "      <td>0</td>\n",
       "      <td>1</td>\n",
       "      <td>0</td>\n",
       "      <td>0</td>\n",
       "      <td>0</td>\n",
       "      <td>1</td>\n",
       "      <td>0</td>\n",
       "      <td>1</td>\n",
       "      <td>0</td>\n",
       "    </tr>\n",
       "    <tr>\n",
       "      <th>1</th>\n",
       "      <td>-0.240857</td>\n",
       "      <td>7.122060</td>\n",
       "      <td>0.918477</td>\n",
       "      <td>1.046987</td>\n",
       "      <td>2.238742</td>\n",
       "      <td>-0.704926</td>\n",
       "      <td>-0.428290</td>\n",
       "      <td>-0.823318</td>\n",
       "      <td>0</td>\n",
       "      <td>1</td>\n",
       "      <td>...</td>\n",
       "      <td>0</td>\n",
       "      <td>0</td>\n",
       "      <td>0</td>\n",
       "      <td>1</td>\n",
       "      <td>0</td>\n",
       "      <td>0</td>\n",
       "      <td>1</td>\n",
       "      <td>0</td>\n",
       "      <td>0</td>\n",
       "      <td>1</td>\n",
       "    </tr>\n",
       "    <tr>\n",
       "      <th>2</th>\n",
       "      <td>0.256953</td>\n",
       "      <td>6.853299</td>\n",
       "      <td>0.918477</td>\n",
       "      <td>0.140505</td>\n",
       "      <td>0.215835</td>\n",
       "      <td>-0.704926</td>\n",
       "      <td>2.334869</td>\n",
       "      <td>-0.823318</td>\n",
       "      <td>0</td>\n",
       "      <td>0</td>\n",
       "      <td>...</td>\n",
       "      <td>0</td>\n",
       "      <td>0</td>\n",
       "      <td>0</td>\n",
       "      <td>1</td>\n",
       "      <td>1</td>\n",
       "      <td>0</td>\n",
       "      <td>0</td>\n",
       "      <td>0</td>\n",
       "      <td>0</td>\n",
       "      <td>1</td>\n",
       "    </tr>\n",
       "    <tr>\n",
       "      <th>3</th>\n",
       "      <td>-0.489762</td>\n",
       "      <td>7.298445</td>\n",
       "      <td>0.918477</td>\n",
       "      <td>0.140505</td>\n",
       "      <td>-0.223927</td>\n",
       "      <td>1.027079</td>\n",
       "      <td>-0.428290</td>\n",
       "      <td>-0.823318</td>\n",
       "      <td>0</td>\n",
       "      <td>0</td>\n",
       "      <td>...</td>\n",
       "      <td>1</td>\n",
       "      <td>0</td>\n",
       "      <td>0</td>\n",
       "      <td>0</td>\n",
       "      <td>1</td>\n",
       "      <td>0</td>\n",
       "      <td>0</td>\n",
       "      <td>0</td>\n",
       "      <td>1</td>\n",
       "      <td>0</td>\n",
       "    </tr>\n",
       "    <tr>\n",
       "      <th>4</th>\n",
       "      <td>0.256953</td>\n",
       "      <td>7.329750</td>\n",
       "      <td>0.918477</td>\n",
       "      <td>0.140505</td>\n",
       "      <td>-0.135974</td>\n",
       "      <td>-0.704926</td>\n",
       "      <td>2.334869</td>\n",
       "      <td>1.214598</td>\n",
       "      <td>0</td>\n",
       "      <td>0</td>\n",
       "      <td>...</td>\n",
       "      <td>0</td>\n",
       "      <td>0</td>\n",
       "      <td>1</td>\n",
       "      <td>0</td>\n",
       "      <td>0</td>\n",
       "      <td>0</td>\n",
       "      <td>1</td>\n",
       "      <td>0</td>\n",
       "      <td>1</td>\n",
       "      <td>0</td>\n",
       "    </tr>\n",
       "  </tbody>\n",
       "</table>\n",
       "<p>5 rows × 39 columns</p>\n",
       "</div>"
      ],
      "text/plain": [
       "   duration  credit_amount  installment_rate  residence_since       age  \\\n",
       "0  1.252574       7.740230          0.918477         1.046987  0.303788   \n",
       "1 -0.240857       7.122060          0.918477         1.046987  2.238742   \n",
       "2  0.256953       6.853299          0.918477         0.140505  0.215835   \n",
       "3 -0.489762       7.298445          0.918477         0.140505 -0.223927   \n",
       "4  0.256953       7.329750          0.918477         0.140505 -0.135974   \n",
       "\n",
       "   number_of_credits  people_to_maintain     phone  account_status_A11  \\\n",
       "0          -0.704926           -0.428290 -0.823318                   0   \n",
       "1          -0.704926           -0.428290 -0.823318                   0   \n",
       "2          -0.704926            2.334869 -0.823318                   0   \n",
       "3           1.027079           -0.428290 -0.823318                   0   \n",
       "4          -0.704926            2.334869  1.214598                   0   \n",
       "\n",
       "   account_status_A12  ...  property_A121  property_A122  property_A123  \\\n",
       "0                   0  ...              0              0              1   \n",
       "1                   1  ...              0              0              0   \n",
       "2                   0  ...              0              0              0   \n",
       "3                   0  ...              1              0              0   \n",
       "4                   0  ...              0              0              1   \n",
       "\n",
       "   property_A124  other_installment_plans_A141  other_installment_plans_A142  \\\n",
       "0              0                             0                             0   \n",
       "1              1                             0                             0   \n",
       "2              1                             1                             0   \n",
       "3              0                             1                             0   \n",
       "4              0                             0                             0   \n",
       "\n",
       "   other_installment_plans_A143  housing_A151  housing_A152  housing_A153  \n",
       "0                             1             0             1             0  \n",
       "1                             1             0             0             1  \n",
       "2                             0             0             0             1  \n",
       "3                             0             0             1             0  \n",
       "4                             1             0             1             0  \n",
       "\n",
       "[5 rows x 39 columns]"
      ]
     },
     "execution_count": 27,
     "metadata": {},
     "output_type": "execute_result"
    }
   ],
   "source": [
    "# Ready for Random Forest\n",
    "df_with_onehot.head()"
   ]
  },
  {
   "cell_type": "code",
   "execution_count": 28,
   "metadata": {},
   "outputs": [],
   "source": [
    "# these columns will be target values, one by one.\n",
    "# df[missing_columns].head()"
   ]
  },
  {
   "cell_type": "markdown",
   "metadata": {},
   "source": [
    "### Evaluation"
   ]
  },
  {
   "cell_type": "raw",
   "metadata": {},
   "source": [
    "8.  Cost Matrix  \n",
    "\n",
    "|        \t| 0_pred \t| 1_pred \t|\n",
    "|--------\t|--------\t|--------\t|\n",
    "| 0_true \t| 0      \t| 1      \t|\n",
    "| 1_true \t| 5      \t| 0      \t|\n",
    "\n",
    "(0 = not creditworthy,  1 = creditworthy)\n",
    "\n",
    "the rows represent the actual classification and the columns\n",
    "the predicted classification.\n",
    "\n",
    "It is worse to class a customer as good when they are bad (5), \n",
    "than it is to class a customer as bad when they are good (1).\n"
   ]
  },
  {
   "cell_type": "markdown",
   "metadata": {},
   "source": [
    "Aim: how many people out of those who thought werr trustworthy, were actually trustworthy\n",
    "\n",
    "Aim: reduce the FP number, to increase precision  \n",
    "Note: A model that produces no false positives has a precision of 1.0.\n",
    "\n",
    "![]()"
   ]
  },
  {
   "cell_type": "code",
   "execution_count": 29,
   "metadata": {},
   "outputs": [],
   "source": [
    "# Function for evaluation reports\n",
    "\n",
    "def evaluate(clf, X_train, y_train, metrics=['precision', 'accuracy']):\n",
    "    ''' 10-fold Cross Validation on training and validation data \n",
    "        Nothing to return '''\n",
    "\n",
    "#     metrics = ['precision', 'accuracy'] #, 'f1_micro'\n",
    "    for metric in metrics: \n",
    "        scores = cross_val_score(clf, X_train, y_train, cv=10, scoring=metric)\n",
    "        \n",
    "        # The mean score and standard deviation of the score estimate\n",
    "        print(\"Cross Validation %s: %0.2f (+/- %0.2f)\" % (metric, scores.mean(), scores.std()))\n",
    "    \n",
    "    return \n",
    "\n",
    "\n",
    "def predict(clf, X_train, y_train, X_test):    \n",
    "    ''' Predict on unseen test data \n",
    "        Return predicted labels '''\n",
    "    model = clf.fit(X_train, y_train)\n",
    "    y_pred = model.predict(X_test)\n",
    "\n",
    "    return y_pred\n",
    "\n",
    "def evaluate_test(y_pred, y_test):\n",
    "    print(f'Test Precision Score: {precision_score(y_test, y_pred)}')\n",
    "    print(f'Test Accuracy Score: {accuracy_score(y_test, y_pred)}')\n",
    "    return \n",
    "\n",
    "\n",
    "def plot_confusion_matrix(y_true, y_pred, classes,\n",
    "                          normalize=False,\n",
    "                          title=None,\n",
    "                          cmap=plt.cm.Blues):\n",
    "    \"\"\"\n",
    "    This function prints and plots the confusion matrix.\n",
    "    Normalization by class can be applied by setting `normalize=True`.\n",
    "    This kind of normalization can be interesting in case of class\n",
    "    imbalance to have a more visual interpretation of which class is being misclassified.\n",
    "    \"\"\"\n",
    "    if not title:\n",
    "        if normalize:\n",
    "            title = 'Normalized confusion matrix'\n",
    "        else:\n",
    "            title = 'Confusion matrix, without normalization'\n",
    "\n",
    "    # Compute confusion matrix\n",
    "    cm = confusion_matrix(y_true, y_pred)\n",
    "    # Only use the labels that appear in the data\n",
    "    classes = classes[unique_labels(y_true, y_pred)]\n",
    "\n",
    "    if normalize:\n",
    "        cm = cm.astype('float') / cm.sum(axis=1)[:, np.newaxis]\n",
    "        print(\"Normalized confusion matrix\")\n",
    "    else:\n",
    "        print('Confusion matrix, without normalization')\n",
    "\n",
    "    print(cm)\n",
    "\n",
    "    fig, ax = plt.subplots()\n",
    "    im = ax.imshow(cm, interpolation='nearest', cmap=cmap)\n",
    "    ax.figure.colorbar(im, ax=ax)\n",
    "    # We want to show all ticks...\n",
    "    ax.set(xticks=np.arange(cm.shape[1]),\n",
    "           yticks=np.arange(cm.shape[0]),\n",
    "           # ... and label them with the respective list entries\n",
    "           xticklabels=classes, yticklabels=classes,\n",
    "           title=title,\n",
    "           ylabel='True label',\n",
    "           xlabel='Predicted label')\n",
    "\n",
    "    # Rotate the tick labels and set their alignment.\n",
    "    plt.setp(ax.get_xticklabels(), rotation=45, ha=\"right\",\n",
    "             rotation_mode=\"anchor\")\n",
    "\n",
    "    # Loop over data dimensions and create text annotations.\n",
    "    fmt = '.2f' if normalize else 'd'\n",
    "    thresh = cm.max() / 2.\n",
    "    for i in range(cm.shape[0]):\n",
    "        for j in range(cm.shape[1]):\n",
    "            ax.text(j, i, format(cm[i, j], fmt),\n",
    "                    ha=\"center\", va=\"center\",\n",
    "                    color=\"white\" if cm[i, j] > thresh else \"black\")\n",
    "    fig.tight_layout()\n",
    "    return ax"
   ]
  },
  {
   "cell_type": "markdown",
   "metadata": {},
   "source": [
    "### Random Forest"
   ]
  },
  {
   "cell_type": "markdown",
   "metadata": {},
   "source": [
    "Random forest classifier creates a set of decision trees from randomly selected subset of training set. It then aggregates the votes from different decision trees to decide the final class of the test object."
   ]
  },
  {
   "cell_type": "code",
   "execution_count": 30,
   "metadata": {},
   "outputs": [],
   "source": [
    "def randomforestclf_benchmark(X_train, y_train, X_test, y_test):\n",
    "\n",
    "    print(\"RandomForestClassifier: Benchmark\")\n",
    "    \n",
    "    #Train and validate: Cross-validation\n",
    "    print(\"RandomForestClassifier\")\n",
    "    n_trees = [1,5,10,50,100]\n",
    "    \n",
    "    for num_of_trees in n_trees:\n",
    "        print(f'\\nRandom Forest with {num_of_trees} trees: ')\n",
    "        randomforest = RandomForestClassifier(n_estimators=num_of_trees)\n",
    "        evaluate(randomforest, X_train, y_train)\n",
    "        y_pred = predict(randomforest, X_train, y_train, X_test)\n",
    "        evaluate_test(y_pred, y_test)\n",
    "    \n",
    "#         tn, fp, fn, tp = confusion_matrix(y_test, y_pred).ravel()\n",
    "#         print(f'Test Confusion Matrix: \\n {confusion_matrix(y_test, y_pred)}')\n",
    "#         print(f'False Positives: {fp}')\n",
    "    \n"
   ]
  },
  {
   "cell_type": "code",
   "execution_count": 31,
   "metadata": {
    "scrolled": true
   },
   "outputs": [
    {
     "name": "stdout",
     "output_type": "stream",
     "text": [
      "Num of features: 39\n",
      "RandomForestClassifier: Benchmark\n",
      "RandomForestClassifier\n",
      "\n",
      "Random Forest with 1 trees: \n",
      "Cross Validation precision: 0.76 (+/- 0.04)\n",
      "Cross Validation accuracy: 0.67 (+/- 0.05)\n",
      "Test Precision Score: 0.7307692307692307\n",
      "Test Accuracy Score: 0.636\n",
      "\n",
      "Random Forest with 5 trees: \n",
      "Cross Validation precision: 0.77 (+/- 0.02)\n",
      "Cross Validation accuracy: 0.74 (+/- 0.05)\n",
      "Test Precision Score: 0.7473684210526316\n",
      "Test Accuracy Score: 0.676\n",
      "\n",
      "Random Forest with 10 trees: \n",
      "Cross Validation precision: 0.81 (+/- 0.04)\n",
      "Cross Validation accuracy: 0.71 (+/- 0.05)\n",
      "Test Precision Score: 0.7700534759358288\n",
      "Test Accuracy Score: 0.704\n",
      "\n",
      "Random Forest with 50 trees: \n",
      "Cross Validation precision: 0.78 (+/- 0.02)\n",
      "Cross Validation accuracy: 0.75 (+/- 0.03)\n",
      "Test Precision Score: 0.7969543147208121\n",
      "Test Accuracy Score: 0.768\n",
      "\n",
      "Random Forest with 100 trees: \n",
      "Cross Validation precision: 0.78 (+/- 0.02)\n",
      "Cross Validation accuracy: 0.76 (+/- 0.04)\n",
      "Test Precision Score: 0.7740384615384616\n",
      "Test Accuracy Score: 0.756\n"
     ]
    }
   ],
   "source": [
    "# Benchmark With One Hot\n",
    "# Spliting X and y into train and test version\n",
    "X_train_onehot, X_test_onehot, y_train_onehot, y_test_onehot = train_test_split(\n",
    "    df_with_onehot, label, test_size = 0.25, random_state=4)\n",
    "print(f\"Num of features: {X_train_onehot.shape[1]}\")\n",
    "randomforestclf_benchmark(X_train_onehot, y_train_onehot, X_test_onehot, y_test_onehot)"
   ]
  },
  {
   "cell_type": "code",
   "execution_count": 32,
   "metadata": {
    "scrolled": true
   },
   "outputs": [
    {
     "name": "stdout",
     "output_type": "stream",
     "text": [
      "Num of features: 15\n",
      "RandomForestClassifier: Benchmark\n",
      "RandomForestClassifier\n",
      "\n",
      "Random Forest with 1 trees: \n",
      "Cross Validation precision: 0.76 (+/- 0.04)\n",
      "Cross Validation accuracy: 0.66 (+/- 0.04)\n",
      "Test Precision Score: 0.75\n",
      "Test Accuracy Score: 0.644\n",
      "\n",
      "Random Forest with 5 trees: \n",
      "Cross Validation precision: 0.76 (+/- 0.02)\n",
      "Cross Validation accuracy: 0.72 (+/- 0.07)\n",
      "Test Precision Score: 0.78\n",
      "Test Accuracy Score: 0.748\n",
      "\n",
      "Random Forest with 10 trees: \n",
      "Cross Validation precision: 0.79 (+/- 0.04)\n",
      "Cross Validation accuracy: 0.73 (+/- 0.05)\n",
      "Test Precision Score: 0.7857142857142857\n",
      "Test Accuracy Score: 0.748\n",
      "\n",
      "Random Forest with 50 trees: \n",
      "Cross Validation precision: 0.79 (+/- 0.03)\n",
      "Cross Validation accuracy: 0.74 (+/- 0.05)\n",
      "Test Precision Score: 0.7868020304568528\n",
      "Test Accuracy Score: 0.752\n",
      "\n",
      "Random Forest with 100 trees: \n",
      "Cross Validation precision: 0.78 (+/- 0.02)\n",
      "Cross Validation accuracy: 0.75 (+/- 0.04)\n",
      "Test Precision Score: 0.7881773399014779\n",
      "Test Accuracy Score: 0.768\n"
     ]
    }
   ],
   "source": [
    "# Random Forest with LabelEncoder\n",
    "# Spliting X and y into train and test version.\n",
    "# No difference\n",
    "X_train_label_enc, X_test_label_enc, y_train_label_enc, y_test_label_enc = train_test_split(\n",
    "    df_X_enc, label, test_size = 0.25, random_state=4)\n",
    "print(f\"Num of features: {X_train_label_enc.shape[1]}\")\n",
    "randomforestclf_benchmark(X_train_label_enc, y_train_label_enc, X_test_label_enc, y_test_label_enc)"
   ]
  },
  {
   "cell_type": "code",
   "execution_count": 33,
   "metadata": {},
   "outputs": [],
   "source": [
    "# Random Forest: Gried_Search\n",
    "\n",
    "def grid_search(model, param_grid, X_train, y_train, scoring='precision'): \n",
    "    grid_search = GridSearchCV(model, param_grid=param_grid, cv=5, scoring=scoring, verbose=1)\n",
    "    grid_search.fit(X_train, y_train)\n",
    "    \n",
    "    print(f'Best Score: {grid_search.best_score_}')\n",
    "    print(grid_search.best_params_)\n",
    "    #let's see the best estimator\n",
    "    \n",
    "    print(f'Best Estimator: \\n {grid_search.best_estimator_}')\n",
    "\n",
    "\n",
    "def randomforestclf_grid_search(X_train, y_train, X_test, y_test):\n",
    "    \n",
    "    #Seting the Hyper Parameters\n",
    "    param_grid = {\"max_depth\": [3, 5, 7, 10, 20, None],\n",
    "              \"n_estimators\":[1, 10, 50, 150],\n",
    "            #defalut “auto”: max_features=sqrt(n_features)\n",
    "              \"max_features\": [1, 10, 20, \"auto\"], \n",
    "              \"criterion\" : ['gini','entropy']}\n",
    "\n",
    "    #Creating the classifier\n",
    "    model = RandomForestClassifier(random_state=33)\n",
    "\n",
    "    grid_search(model, param_grid, X_train, y_train)\n",
    "\n",
    "    return\n"
   ]
  },
  {
   "cell_type": "code",
   "execution_count": 34,
   "metadata": {
    "scrolled": true
   },
   "outputs": [],
   "source": [
    "# Grid Search for One-hot-Encoded Features\n",
    "#randomforestclf_grid_search(X_train_onehot, y_train_onehot, y_train_onehot, y_test_onehot)"
   ]
  },
  {
   "cell_type": "raw",
   "metadata": {},
   "source": [
    "param_grid = {\"max_depth\": [3, 5, 7, 10, 20, None],\n",
    "                  \"n_estimators\":[1, 10, 50, 150],\n",
    "                  \"max_features\": [1, 10, 20, \"auto\"],\n",
    "                  \"criterion\" : ['gini','entropy']}\n",
    "\n",
    "\n",
    "Best Score: 0.8132036266090461\n",
    "{'criterion': 'gini', 'max_depth': 20, 'max_features': 20, 'n_estimators': 10}\n",
    "Best Estimator: \n",
    "RandomForestClassifier(bootstrap=True, class_weight=None, criterion='gini',\n",
    "            max_depth=20, max_features=20, max_leaf_nodes=None,\n",
    "            min_impurity_decrease=0.0, min_impurity_split=None,\n",
    "            min_samples_leaf=1, min_samples_split=2,\n",
    "            min_weight_fraction_leaf=0.0, n_estimators=10, n_jobs=None,\n",
    "            oob_score=False, random_state=33, verbose=0, warm_start=False)\n",
    "            "
   ]
  },
  {
   "cell_type": "code",
   "execution_count": 110,
   "metadata": {},
   "outputs": [
    {
     "name": "stdout",
     "output_type": "stream",
     "text": [
      "Cross Validation precision: 0.81 (+/- 0.05)\n",
      "Cross Validation accuracy: 0.71 (+/- 0.05)\n",
      "Test Precision Score: 0.8085106382978723\n",
      "Test Accuracy Score: 0.764\n"
     ]
    }
   ],
   "source": [
    "def classify(clf, X_train, y_train, X_test, y_test):\n",
    "\n",
    "    evaluate(clf, X_train, y_train)\n",
    "    y_pred = predict(clf, X_train, y_train, X_test)\n",
    "    evaluate_test(y_pred, y_test)\n",
    "    \n",
    "    return clf, y_pred\n",
    "\n",
    "clf = RandomForestClassifier(n_estimators=10, criterion='gini',\n",
    "                                         max_features=20,max_depth=20)\n",
    "\n",
    "trained_clf, y_pred = classify(clf, X_train_onehot, y_train_onehot, X_test_onehot, y_test_onehot)"
   ]
  },
  {
   "cell_type": "markdown",
   "metadata": {},
   "source": [
    "### Handling missing Values"
   ]
  },
  {
   "cell_type": "code",
   "execution_count": 36,
   "metadata": {},
   "outputs": [
    {
     "data": {
      "text/plain": [
       "purpose              object\n",
       "employment_since     object\n",
       "job                  object\n",
       "foreign_worker      float64\n",
       "dtype: object"
      ]
     },
     "execution_count": 36,
     "metadata": {},
     "output_type": "execute_result"
    }
   ],
   "source": [
    "# Three Nominal values and one numeric 1/0 value\n",
    "df[missing_columns].dtypes"
   ]
  },
  {
   "cell_type": "raw",
   "metadata": {},
   "source": [
    "No need for label transformation. One-hot by default.       \n",
    "       \n",
    "       check_X_y(X, y, accept_sparse=['csr', 'csc', 'coo'],\n",
    "                  multi_output=True)\n",
    "\n",
    "        self._label_binarizer = LabelBinarizer(pos_label=1, neg_label=-1)\n",
    "        Y = self._label_binarizer.fit_transform(y)\n",
    "        if not self._label_binarizer.y_type_.startswith('multilabel'):\n",
    "            y = column_or_1d(y, warn=True)\n",
    "        else:\n",
    "            # we don't (yet) support multi-label classification in Ridge\n",
    "            raise ValueError(\n",
    "                \"%s doesn't support multi-label classification\" % (\n",
    "                    self.__class__.__name__))"
   ]
  },
  {
   "cell_type": "code",
   "execution_count": 37,
   "metadata": {
    "scrolled": true
   },
   "outputs": [],
   "source": [
    "def encode_target_var(y_train, method = 'categorical', verbose=False):\n",
    "    ''' Encode the y label with a specified method''' \n",
    "    \n",
    "    if method == 'categorical':\n",
    "        enc = LabelEncoder()\n",
    "        y_train = enc.fit_transform(y_train)\n",
    "        if verbose: \n",
    "            print('\\nCategorical encoding of y label. Classes: ', list(enc.classes_))\n",
    "    elif method == 'one-hot':\n",
    "#         y_train = pd.get_dummies(y_train)\n",
    "        enc = LabelBinarizer(neg_label=0, pos_label=1, sparse_output=False)\n",
    "        y_train = enc.fit_transform(y_train)\n",
    "        print(y_train)\n",
    "        if verbose: \n",
    "            print('One-hot-encoding of y label. Classes: {}', list(enc.classes_))\n",
    "    elif method == 'none':\n",
    "        pass\n",
    "        \n",
    "    return y_train\n",
    "\n",
    "\n",
    "def split_data_missing_vals(df, data, target_col, verbose=False):\n",
    "    ''' Split data into training and test datasets. \n",
    "    Test data: missing value in column,\n",
    "    train data: existing data  \n",
    "    \n",
    "    Return 1) x_train with y column in it\n",
    "        2) x_train withought y_column\n",
    "        3) y_train\n",
    "        4) x_test'''\n",
    "    \n",
    "    concat_df_target_col = pd.concat([data, df[target_col]], axis=1)\n",
    "\n",
    "    #Select only the rows where the target label is NaN\n",
    "    target_x_test = concat_df_target_col[(\n",
    "        concat_df_target_col[target_col].isna())]\n",
    "    # original: df with target column in it\n",
    "    target_x_train_orig = concat_df_target_col[(\n",
    "        concat_df_target_col[target_col].notna())]\n",
    "\n",
    "    if verbose:\n",
    "        print('Numer of test data points: ', target_x_test.shape[0])\n",
    "        print('Numer of train data points: ', target_x_train_orig.shape[0])\n",
    "\n",
    "    # Separate the y label\n",
    "    target_y_train = target_x_train_orig[target_col]\n",
    "\n",
    "    # Remove the y column from the df\n",
    "    target_x_test = target_x_test.drop([target_col], axis=1)\n",
    "    target_x_train = target_x_train_orig.drop([target_col], axis=1)\n",
    "    \n",
    "    #Encode target variable\n",
    "#     target_y_train = encode_target_var(target_y_train, encoding_method, verbose=True)\n",
    "\n",
    "    return target_x_train_orig, target_x_train, target_y_train, target_x_test\n",
    "\n"
   ]
  },
  {
   "cell_type": "code",
   "execution_count": 38,
   "metadata": {},
   "outputs": [],
   "source": [
    "def evaluate_multiclass(clf, X_train, y_train, metrics=['accuracy', 'f1_micro']):\n",
    "    ''' 10-fold Cross Validation on training and validation data \n",
    "        Nothing to return '''\n",
    "\n",
    "#     metrics = ['precision', 'accuracy'] #, 'f1_micro'\n",
    "    for metric in metrics: \n",
    "        scores = cross_val_score(clf, X_train, y_train, cv=10, scoring=metric)\n",
    "        \n",
    "        # The mean score and standard deviation of the score estimate\n",
    "        print(\"Cross Validation %s: %0.2f (+/- %0.2f)\" % (metric, scores.mean(), scores.std()))\n",
    "    \n",
    "    return "
   ]
  },
  {
   "cell_type": "code",
   "execution_count": 39,
   "metadata": {
    "scrolled": true
   },
   "outputs": [],
   "source": [
    "def compare_classifiers(classifiers, classifier_names, missing_columns, df, data, \\\n",
    "                         verbose=False):\n",
    "\n",
    "    for col in missing_columns:\n",
    "        print('\\n================================= \\n')\n",
    "        print(f'Linear Classification for featuren \"{col}\"')\n",
    "\n",
    "        # Split data. Test data: missing value in column, train data: existing data \n",
    "        target_x_train_orig, target_x_train, target_y_train, target_x_test = split_data_missing_vals(\n",
    "            df, data, col)\n",
    "\n",
    "        for clf, name in zip(classifiers, classifier_names): \n",
    "            print(f'\\nClassifier: {name} \\n')\n",
    "\n",
    "            # evaluate and predict\n",
    "            evaluate_multiclass(clf, target_x_train, target_y_train)\n",
    "            y_pred = predict(clf, target_x_train, target_y_train, target_x_test)\n",
    "    return"
   ]
  },
  {
   "cell_type": "code",
   "execution_count": 40,
   "metadata": {
    "scrolled": true
   },
   "outputs": [
    {
     "name": "stdout",
     "output_type": "stream",
     "text": [
      "\n",
      "================================= \n",
      "\n",
      "Linear Classification for featuren \"purpose\"\n",
      "\n",
      "Classifier: SGDClassifier \n",
      "\n",
      "Cross Validation accuracy: 0.25 (+/- 0.07)\n",
      "Cross Validation f1_micro: 0.22 (+/- 0.04)\n",
      "\n",
      "Classifier: RidgeClassifier \n",
      "\n",
      "Cross Validation accuracy: 0.34 (+/- 0.06)\n",
      "Cross Validation f1_micro: 0.34 (+/- 0.06)\n",
      "\n",
      "Classifier: LogisticRegression \n",
      "\n",
      "Cross Validation accuracy: 0.34 (+/- 0.05)\n",
      "Cross Validation f1_micro: 0.34 (+/- 0.05)\n",
      "\n",
      "================================= \n",
      "\n",
      "Linear Classification for featuren \"employment_since\"\n",
      "\n",
      "Classifier: SGDClassifier \n",
      "\n",
      "Cross Validation accuracy: 0.32 (+/- 0.07)\n",
      "Cross Validation f1_micro: 0.29 (+/- 0.11)\n",
      "\n",
      "Classifier: RidgeClassifier \n",
      "\n",
      "Cross Validation accuracy: 0.39 (+/- 0.05)\n",
      "Cross Validation f1_micro: 0.39 (+/- 0.05)\n",
      "\n",
      "Classifier: LogisticRegression \n",
      "\n",
      "Cross Validation accuracy: 0.39 (+/- 0.06)\n",
      "Cross Validation f1_micro: 0.39 (+/- 0.06)\n",
      "\n",
      "================================= \n",
      "\n",
      "Linear Classification for featuren \"job\"\n",
      "\n",
      "Classifier: SGDClassifier \n",
      "\n",
      "Cross Validation accuracy: 0.52 (+/- 0.16)\n",
      "Cross Validation f1_micro: 0.50 (+/- 0.10)\n",
      "\n",
      "Classifier: RidgeClassifier \n",
      "\n",
      "Cross Validation accuracy: 0.64 (+/- 0.03)\n",
      "Cross Validation f1_micro: 0.64 (+/- 0.03)\n",
      "\n",
      "Classifier: LogisticRegression \n",
      "\n",
      "Cross Validation accuracy: 0.64 (+/- 0.04)\n",
      "Cross Validation f1_micro: 0.64 (+/- 0.04)\n",
      "\n",
      "================================= \n",
      "\n",
      "Linear Classification for featuren \"foreign_worker\"\n",
      "\n",
      "Classifier: SGDClassifier \n",
      "\n",
      "Cross Validation accuracy: 0.95 (+/- 0.01)\n",
      "Cross Validation f1_micro: 0.93 (+/- 0.03)\n",
      "\n",
      "Classifier: RidgeClassifier \n",
      "\n",
      "Cross Validation accuracy: 0.96 (+/- 0.01)\n",
      "Cross Validation f1_micro: 0.96 (+/- 0.01)\n",
      "\n",
      "Classifier: LogisticRegression \n",
      "\n",
      "Cross Validation accuracy: 0.95 (+/- 0.01)\n",
      "Cross Validation f1_micro: 0.95 (+/- 0.01)\n"
     ]
    }
   ],
   "source": [
    "# Inherently multiclass: RidgeClassifier()\n",
    "# Multiclass as One-Vs-All: SGDClassifier(), PassiveAggressiveClassifier()\n",
    "# https://scikit-learn.org/stable/modules/multiclass.html\n",
    "classifiers = [SGDClassifier(), RidgeClassifier(), LogisticRegression()]\n",
    "classifier_names = ['SGDClassifier', 'RidgeClassifier', 'LogisticRegression']\n",
    "missing_columns = ['purpose', 'employment_since', 'job', 'foreign_worker']\n",
    "data = df_with_onehot\n",
    "# encoding_methods = ['categorical', 'one-hot']\n",
    "\n",
    "compare_classifiers(classifiers, classifier_names, missing_columns, df, data)"
   ]
  },
  {
   "cell_type": "markdown",
   "metadata": {},
   "source": [
    "Only classification of \"foreign_worker\" performs well enough to use it to fill the missing values."
   ]
  },
  {
   "cell_type": "code",
   "execution_count": 41,
   "metadata": {},
   "outputs": [],
   "source": [
    "def create_predicted_column(clf, df, data, col): \n",
    "    ''' Args: \n",
    "    clf: classifier used for prediction\n",
    "    data: dataframe\n",
    "    col: name of column to predict\n",
    "    \n",
    "    Return 1) predicted column\n",
    "            2) dataframe with inserted predicted column'''\n",
    "    \n",
    "    \n",
    "    target_x_train_orig, target_x_train, target_y_train, target_x_test = split_data_missing_vals(\n",
    "            df, data, col)\n",
    "    y_pred = predict(clf, target_x_train, target_y_train, target_x_test)\n",
    "    # Fill only the NAs with predicted values\n",
    "    target_x_test[col] = y_pred\n",
    "    \n",
    "    # Concat training and test rows\n",
    "    df_filled_foreign_w = pd.concat([target_x_train_orig, target_x_test], axis=0)\n",
    "    #sort them back to original order\n",
    "    df_filled_foreign_w = df_filled_foreign_w.sort_index()\n",
    "    return df_filled_foreign_w[col]\n",
    "    "
   ]
  },
  {
   "cell_type": "code",
   "execution_count": 42,
   "metadata": {},
   "outputs": [],
   "source": [
    "#create DF with filled cols\n",
    "filled_cols = pd.DataFrame()"
   ]
  },
  {
   "cell_type": "code",
   "execution_count": 43,
   "metadata": {},
   "outputs": [],
   "source": [
    "col_foreign_w = create_predicted_column(\n",
    "    RidgeClassifier(), df, df_with_onehot, \"foreign_worker\")\n",
    "filled_cols['foreign_worker_filled'] = col_foreign_w\n",
    "missing_columns.remove('foreign_worker')"
   ]
  },
  {
   "cell_type": "raw",
   "metadata": {},
   "source": [
    "Classifier: LinearSVC(multi_class=\"crammer_singer\")\n",
    "\"purpose\"\n",
    "Cross Validation accuracy: 0.25 (+/- 0.05)\n",
    "Cross Validation f1_micro: 0.26 (+/- 0.03)\n",
    "\n",
    "\"employment_since\"\n",
    "Cross Validation accuracy: 0.37 (+/- 0.06)\n",
    "Cross Validation f1_micro: 0.37 (+/- 0.07)\n",
    "\n",
    "\"job\"\n",
    "Cross Validation accuracy: 0.64 (+/- 0.03)\n",
    "Cross Validation f1_micro: 0.64 (+/- 0.03)\n",
    "\n",
    "\"foreign_worker\"\n",
    "Cross Validation accuracy: 0.96 (+/- 0.01)\n",
    "Cross Validation f1_micro: 0.96 (+/- 0.01)\n"
   ]
  },
  {
   "cell_type": "code",
   "execution_count": 44,
   "metadata": {},
   "outputs": [],
   "source": [
    "def classify_with_new_cols(df_X_enc, filled_cols, max_features=10):\n",
    "    X_train, X_test, y_train, y_test = train_test_split(\n",
    "    (pd.concat([df_X_enc, filled_cols], axis=1)), label, test_size = 0.25, random_state=4)\n",
    "    print(f\"Num of features: {X_train.shape[1]}\")\n",
    "\n",
    "    clf = RandomForestClassifier(n_estimators=10, max_features=max_features)\n",
    "\n",
    "    trained_clf, y_pred = classify(clf, X_train, y_train, X_test, y_test)\n",
    "    \n",
    "    # Print the name and gini importance of each feature\n",
    "    importances = trained_clf.feature_importances_\n",
    "    print(f'\\n Feature Importance, sums up to 1:')\n",
    "    for feature in zip(X_train.columns, importances):\n",
    "        print(feature)\n",
    "        \n",
    "    # Visualise Feature Importance:\n",
    "    indices = np.argsort(trained_clf.feature_importances_)\n",
    "    plt.title('Feature Importances')\n",
    "    plt.barh(range(len(indices)), importances[indices], color='g', align='center')\n",
    "    plt.yticks(range(len(indices)), [X_train.columns[i] for i in indices])\n",
    "    plt.xlabel('Relative Importance')\n",
    "    plt.show()\n",
    "    \n",
    "    return "
   ]
  },
  {
   "cell_type": "code",
   "execution_count": 45,
   "metadata": {},
   "outputs": [
    {
     "name": "stdout",
     "output_type": "stream",
     "text": [
      "Num of features: 16\n",
      "Cross Validation precision: 0.82 (+/- 0.04)\n",
      "Cross Validation accuracy: 0.72 (+/- 0.03)\n",
      "Test Precision Score: 0.776595744680851\n",
      "Test Accuracy Score: 0.716\n",
      "\n",
      " Feature Importance, sums up to 1:\n",
      "('account_status', 0.15629580383892056)\n",
      "('credit_history', 0.06335767820551873)\n",
      "('savings_account', 0.07329680246410651)\n",
      "('personal_status_sex', 0.06356642815647325)\n",
      "('guarantors', 0.024195870182453033)\n",
      "('property', 0.04690439338628145)\n",
      "('other_installment_plans', 0.02826426092699803)\n",
      "('housing', 0.035302575983649456)\n",
      "('duration', 0.13661938069552326)\n",
      "('installment_rate', 0.04930520687878105)\n",
      "('residence_since', 0.06574841862882816)\n",
      "('age', 0.18612642011519664)\n",
      "('number_of_credits', 0.023586486740736105)\n",
      "('people_to_maintain', 0.018142758415029218)\n",
      "('phone', 0.024623160657366076)\n",
      "('foreign_worker_filled', 0.004664354724138538)\n"
     ]
    },
    {
     "data": {
      "image/png": "[encoded data removed]",
      "text/plain": [
       "<Figure size 432x288 with 1 Axes>"
      ]
     },
     "metadata": {
      "needs_background": "dark"
     },
     "output_type": "display_data"
    }
   ],
   "source": [
    "# Add foreign Worker feature to classification\n",
    "classify_with_new_cols(df_X_enc, filled_cols, max_features=16)"
   ]
  },
  {
   "cell_type": "markdown",
   "metadata": {},
   "source": [
    "## Feature Engineering\n",
    "\n"
   ]
  },
  {
   "cell_type": "raw",
   "metadata": {},
   "source": [
    "Missing: Purpose - 17.3%. Employment since - 49.6%. job - 0.23%.  foreign worker - 36%. \n",
    "\n",
    "Attribute 17: (qualitative) \n",
    "Job \n",
    "A171 : unemployed/ unskilled - non-resident \n",
    "A172 : unskilled - resident \n",
    "A173 : skilled employee / official \n",
    "A174 : management/ self-employed/ \n",
    "highly qualified employee/ officer \n",
    "\n",
    "An idea: replace by numerical ordered representation. To score this attribute."
   ]
  },
  {
   "cell_type": "code",
   "execution_count": 46,
   "metadata": {},
   "outputs": [
    {
     "data": {
      "text/plain": [
       "0    2.0\n",
       "1    NaN\n",
       "2    NaN\n",
       "3    2.0\n",
       "4    2.0\n",
       "Name: job, dtype: float64"
      ]
     },
     "execution_count": 46,
     "metadata": {},
     "output_type": "execute_result"
    }
   ],
   "source": [
    "# create 'job' numerical encoding \n",
    "qualitative_job = list(df['job'].unique())\n",
    "qualitative_job.remove(np.nan)\n",
    "qualitative_job = sorted(qualitative_job)\n",
    "numeric_job = [0, 1, 2, 3]\n",
    "df_job_numerical = df.replace(qualitative_job, numeric_job)\n",
    "df_job_numerical['job'].head()"
   ]
  },
  {
   "cell_type": "code",
   "execution_count": 47,
   "metadata": {
    "scrolled": true
   },
   "outputs": [
    {
     "name": "stdout",
     "output_type": "stream",
     "text": [
      "\n",
      "================================= \n",
      "\n",
      "Linear Classification for featuren \"job\"\n",
      "\n",
      "Classifier: SGDClassifier \n",
      "\n",
      "Cross Validation accuracy: 0.51 (+/- 0.14)\n",
      "Cross Validation f1_micro: 0.51 (+/- 0.14)\n",
      "\n",
      "Classifier: RidgeClassifier \n",
      "\n",
      "Cross Validation accuracy: 0.64 (+/- 0.03)\n",
      "Cross Validation f1_micro: 0.64 (+/- 0.03)\n",
      "\n",
      "Classifier: LogisticRegression \n",
      "\n",
      "Cross Validation accuracy: 0.64 (+/- 0.04)\n",
      "Cross Validation f1_micro: 0.64 (+/- 0.04)\n"
     ]
    }
   ],
   "source": [
    "# classifiers = [SGDClassifier(), RidgeClassifier(), LogisticRegression()]\n",
    "# classifier_names = ['SGDClassifier', 'RidgeClassifier', 'LogisticRegression']\n",
    "compare_classifiers(classifiers, classifier_names, ['job'], df_job_numerical, \n",
    "                    df_with_onehot)"
   ]
  },
  {
   "cell_type": "markdown",
   "metadata": {},
   "source": [
    "LinearSVC(multi_class=\"crammer_singer\" for job: \n",
    "Cross Validation accuracy: 0.64 (+/- 0.03)\n",
    "Cross Validation f1_micro: 0.64 (+/- 0.03)"
   ]
  },
  {
   "cell_type": "markdown",
   "metadata": {},
   "source": [
    "Converting features to numerical didn't help. Next idea: gridSearch for Regularization strength (alpha) in RidgeReg."
   ]
  },
  {
   "cell_type": "code",
   "execution_count": 48,
   "metadata": {
    "scrolled": true
   },
   "outputs": [],
   "source": [
    "def ridge_grid_search(df, data, target_col):\n",
    "    \n",
    "    _, x_train, y_train, x_test = split_data_missing_vals(\n",
    "        df, data, target_col)\n",
    "\n",
    "    # prepare a range of alpha values to test\n",
    "    params = {'solver': ['auto', 'svd', 'lsqr',  'sag', 'saga'],\n",
    "             'alpha': [1,0.1,0.01,0.001,0.0001,0]}\n",
    "    # create and fit a ridge regression model, testing each alpha\n",
    "    model = RidgeClassifier()\n",
    "    \n",
    "    # optimised by cross-validated grid-search over a parameter grid.\n",
    "    grid = GridSearchCV(estimator=model, param_grid=params)\n",
    "    grid.fit(x_train, y_train)\n",
    "    # summarize the results of the grid search\n",
    "    print(f'Best Score: {grid.best_score_}')\n",
    "    print(f'Best alpha: {grid.best_estimator_.alpha}')\n",
    "    print(f'Best solver: {grid.best_estimator_.solver}')\n",
    "    \n",
    "    return\n",
    "\n",
    "#ridge_grid_search(df_job_numerical, df_with_onehot, 'job')"
   ]
  },
  {
   "cell_type": "markdown",
   "metadata": {},
   "source": [
    "Still not much progress"
   ]
  },
  {
   "cell_type": "code",
   "execution_count": 49,
   "metadata": {},
   "outputs": [
    {
     "name": "stdout",
     "output_type": "stream",
     "text": [
      "['A171', 'A172', 'A173', 'A174']\n"
     ]
    },
    {
     "data": {
      "text/plain": [
       "0    1.0\n",
       "1    NaN\n",
       "2    NaN\n",
       "3    1.0\n",
       "4    1.0\n",
       "Name: job, dtype: float64"
      ]
     },
     "execution_count": 49,
     "metadata": {},
     "output_type": "execute_result"
    }
   ],
   "source": [
    "# create 'job' binary encoding \n",
    "# unemployed/ unskilled = 0, skilled employee / official management/ self-employed/ = 1\n",
    "print(qualitative_job)\n",
    "numeric_job = [0, 0, 1, 1]\n",
    "df_job_binary = df.replace(qualitative_job, numeric_job)\n",
    "df_job_binary.job.head(5)"
   ]
  },
  {
   "cell_type": "code",
   "execution_count": 50,
   "metadata": {
    "scrolled": false
   },
   "outputs": [
    {
     "name": "stdout",
     "output_type": "stream",
     "text": [
      "\n",
      "================================= \n",
      "\n",
      "Linear Classification for featuren \"job\"\n",
      "\n",
      "Classifier: SGDClassifier \n",
      "\n",
      "Cross Validation accuracy: 0.71 (+/- 0.12)\n",
      "Cross Validation f1_micro: 0.75 (+/- 0.08)\n",
      "\n",
      "Classifier: RidgeClassifier \n",
      "\n",
      "Cross Validation accuracy: 0.80 (+/- 0.02)\n",
      "Cross Validation f1_micro: 0.80 (+/- 0.02)\n",
      "\n",
      "Classifier: LogisticRegression \n",
      "\n",
      "Cross Validation accuracy: 0.79 (+/- 0.02)\n",
      "Cross Validation f1_micro: 0.79 (+/- 0.02)\n"
     ]
    }
   ],
   "source": [
    "compare_classifiers(classifiers, classifier_names, ['job'], df_job_binary, \n",
    "                    df_with_onehot)"
   ]
  },
  {
   "cell_type": "markdown",
   "metadata": {},
   "source": [
    "That helped. "
   ]
  },
  {
   "cell_type": "code",
   "execution_count": 51,
   "metadata": {},
   "outputs": [
    {
     "name": "stdout",
     "output_type": "stream",
     "text": [
      "\n",
      "================================= \n",
      "\n",
      "Linear Classification for featuren \"job\"\n",
      "\n",
      "Classifier: SGDClassifier \n",
      "\n",
      "Cross Validation accuracy: 0.97 (+/- 0.02)\n",
      "Cross Validation f1_micro: 0.97 (+/- 0.02)\n",
      "\n",
      "Classifier: RidgeClassifier \n",
      "\n",
      "Cross Validation accuracy: 0.98 (+/- 0.01)\n",
      "Cross Validation f1_micro: 0.98 (+/- 0.01)\n",
      "\n",
      "Classifier: LogisticRegression \n",
      "\n",
      "Cross Validation accuracy: 0.98 (+/- 0.01)\n",
      "Cross Validation f1_micro: 0.98 (+/- 0.01)\n"
     ]
    },
    {
     "data": {
      "text/html": [
       "<div>\n",
       "<style scoped>\n",
       "    .dataframe tbody tr th:only-of-type {\n",
       "        vertical-align: middle;\n",
       "    }\n",
       "\n",
       "    .dataframe tbody tr th {\n",
       "        vertical-align: top;\n",
       "    }\n",
       "\n",
       "    .dataframe thead th {\n",
       "        text-align: right;\n",
       "    }\n",
       "</style>\n",
       "<table border=\"1\" class=\"dataframe\">\n",
       "  <thead>\n",
       "    <tr style=\"text-align: right;\">\n",
       "      <th></th>\n",
       "      <th>account_status</th>\n",
       "      <th>duration</th>\n",
       "      <th>credit_history</th>\n",
       "      <th>purpose</th>\n",
       "      <th>credit_amount</th>\n",
       "      <th>savings_account</th>\n",
       "      <th>employment_since</th>\n",
       "      <th>installment_rate</th>\n",
       "      <th>personal_status_sex</th>\n",
       "      <th>guarantors</th>\n",
       "      <th>residence_since</th>\n",
       "      <th>property</th>\n",
       "      <th>age</th>\n",
       "      <th>other_installment_plans</th>\n",
       "      <th>housing</th>\n",
       "      <th>number_of_credits</th>\n",
       "      <th>job</th>\n",
       "      <th>people_to_maintain</th>\n",
       "      <th>phone</th>\n",
       "      <th>foreign_worker</th>\n",
       "    </tr>\n",
       "  </thead>\n",
       "  <tbody>\n",
       "    <tr>\n",
       "      <th>0</th>\n",
       "      <td>A14</td>\n",
       "      <td>1.252574</td>\n",
       "      <td>A32</td>\n",
       "      <td>NaN</td>\n",
       "      <td>7.740230</td>\n",
       "      <td>A63</td>\n",
       "      <td>NaN</td>\n",
       "      <td>0.918477</td>\n",
       "      <td>A93</td>\n",
       "      <td>A101</td>\n",
       "      <td>1.046987</td>\n",
       "      <td>A123</td>\n",
       "      <td>0.303788</td>\n",
       "      <td>A143</td>\n",
       "      <td>A152</td>\n",
       "      <td>-0.704926</td>\n",
       "      <td>1.0</td>\n",
       "      <td>-0.428290</td>\n",
       "      <td>-0.823318</td>\n",
       "      <td>NaN</td>\n",
       "    </tr>\n",
       "    <tr>\n",
       "      <th>1</th>\n",
       "      <td>A12</td>\n",
       "      <td>-0.240857</td>\n",
       "      <td>A32</td>\n",
       "      <td>A46</td>\n",
       "      <td>7.122060</td>\n",
       "      <td>A65</td>\n",
       "      <td>A73</td>\n",
       "      <td>0.918477</td>\n",
       "      <td>A93</td>\n",
       "      <td>A101</td>\n",
       "      <td>1.046987</td>\n",
       "      <td>A124</td>\n",
       "      <td>2.238742</td>\n",
       "      <td>A143</td>\n",
       "      <td>A153</td>\n",
       "      <td>-0.704926</td>\n",
       "      <td>NaN</td>\n",
       "      <td>-0.428290</td>\n",
       "      <td>-0.823318</td>\n",
       "      <td>1.0</td>\n",
       "    </tr>\n",
       "    <tr>\n",
       "      <th>2</th>\n",
       "      <td>A13</td>\n",
       "      <td>0.256953</td>\n",
       "      <td>A32</td>\n",
       "      <td>A40</td>\n",
       "      <td>6.853299</td>\n",
       "      <td>A61</td>\n",
       "      <td>A74</td>\n",
       "      <td>0.918477</td>\n",
       "      <td>A93</td>\n",
       "      <td>A101</td>\n",
       "      <td>0.140505</td>\n",
       "      <td>A124</td>\n",
       "      <td>0.215835</td>\n",
       "      <td>A141</td>\n",
       "      <td>A153</td>\n",
       "      <td>-0.704926</td>\n",
       "      <td>NaN</td>\n",
       "      <td>2.334869</td>\n",
       "      <td>-0.823318</td>\n",
       "      <td>NaN</td>\n",
       "    </tr>\n",
       "    <tr>\n",
       "      <th>3</th>\n",
       "      <td>A14</td>\n",
       "      <td>-0.489762</td>\n",
       "      <td>A33</td>\n",
       "      <td>A43</td>\n",
       "      <td>7.298445</td>\n",
       "      <td>A61</td>\n",
       "      <td>A73</td>\n",
       "      <td>0.918477</td>\n",
       "      <td>A94</td>\n",
       "      <td>A101</td>\n",
       "      <td>0.140505</td>\n",
       "      <td>A121</td>\n",
       "      <td>-0.223927</td>\n",
       "      <td>A141</td>\n",
       "      <td>A152</td>\n",
       "      <td>1.027079</td>\n",
       "      <td>1.0</td>\n",
       "      <td>-0.428290</td>\n",
       "      <td>-0.823318</td>\n",
       "      <td>1.0</td>\n",
       "    </tr>\n",
       "    <tr>\n",
       "      <th>4</th>\n",
       "      <td>A14</td>\n",
       "      <td>0.256953</td>\n",
       "      <td>A32</td>\n",
       "      <td>A40</td>\n",
       "      <td>7.329750</td>\n",
       "      <td>A64</td>\n",
       "      <td>A74</td>\n",
       "      <td>0.918477</td>\n",
       "      <td>A92</td>\n",
       "      <td>A101</td>\n",
       "      <td>0.140505</td>\n",
       "      <td>A123</td>\n",
       "      <td>-0.135974</td>\n",
       "      <td>A143</td>\n",
       "      <td>A152</td>\n",
       "      <td>-0.704926</td>\n",
       "      <td>1.0</td>\n",
       "      <td>2.334869</td>\n",
       "      <td>1.214598</td>\n",
       "      <td>1.0</td>\n",
       "    </tr>\n",
       "  </tbody>\n",
       "</table>\n",
       "</div>"
      ],
      "text/plain": [
       "  account_status  duration credit_history purpose  credit_amount  \\\n",
       "0            A14  1.252574            A32     NaN       7.740230   \n",
       "1            A12 -0.240857            A32     A46       7.122060   \n",
       "2            A13  0.256953            A32     A40       6.853299   \n",
       "3            A14 -0.489762            A33     A43       7.298445   \n",
       "4            A14  0.256953            A32     A40       7.329750   \n",
       "\n",
       "  savings_account employment_since  installment_rate personal_status_sex  \\\n",
       "0             A63              NaN          0.918477                 A93   \n",
       "1             A65              A73          0.918477                 A93   \n",
       "2             A61              A74          0.918477                 A93   \n",
       "3             A61              A73          0.918477                 A94   \n",
       "4             A64              A74          0.918477                 A92   \n",
       "\n",
       "  guarantors  residence_since property       age other_installment_plans  \\\n",
       "0       A101         1.046987     A123  0.303788                    A143   \n",
       "1       A101         1.046987     A124  2.238742                    A143   \n",
       "2       A101         0.140505     A124  0.215835                    A141   \n",
       "3       A101         0.140505     A121 -0.223927                    A141   \n",
       "4       A101         0.140505     A123 -0.135974                    A143   \n",
       "\n",
       "  housing  number_of_credits  job  people_to_maintain     phone  \\\n",
       "0    A152          -0.704926  1.0           -0.428290 -0.823318   \n",
       "1    A153          -0.704926  NaN           -0.428290 -0.823318   \n",
       "2    A153          -0.704926  NaN            2.334869 -0.823318   \n",
       "3    A152           1.027079  1.0           -0.428290 -0.823318   \n",
       "4    A152          -0.704926  1.0            2.334869  1.214598   \n",
       "\n",
       "   foreign_worker  \n",
       "0             NaN  \n",
       "1             1.0  \n",
       "2             NaN  \n",
       "3             1.0  \n",
       "4             1.0  "
      ]
     },
     "execution_count": 51,
     "metadata": {},
     "output_type": "execute_result"
    }
   ],
   "source": [
    "numeric_job = [0, 1, 1, 1]\n",
    "df_job_binary_2 = df.replace(qualitative_job, numeric_job)\n",
    "compare_classifiers(classifiers, classifier_names,['job'], df_job_binary_2, \n",
    "                    df_with_onehot)\n",
    "df_job_binary_2.head()"
   ]
  },
  {
   "cell_type": "markdown",
   "metadata": {},
   "source": [
    "Great! Binarising the feature helps to classify between unemployed / employed. Now the column can be predicted and added to the data."
   ]
  },
  {
   "cell_type": "code",
   "execution_count": 52,
   "metadata": {},
   "outputs": [],
   "source": [
    "col_job = create_predicted_column(\n",
    "    RidgeClassifier(), df_job_binary_2, df_with_onehot, \"job\")\n",
    "filled_cols['job_filled'] = col_job\n",
    "missing_columns.remove('job')"
   ]
  },
  {
   "cell_type": "markdown",
   "metadata": {},
   "source": [
    "_Random Forest with Foreign Worker and Job_\n"
   ]
  },
  {
   "cell_type": "code",
   "execution_count": 53,
   "metadata": {},
   "outputs": [
    {
     "name": "stdout",
     "output_type": "stream",
     "text": [
      "Num of features: 17\n",
      "Cross Validation precision: 0.80 (+/- 0.04)\n",
      "Cross Validation accuracy: 0.70 (+/- 0.04)\n",
      "Test Precision Score: 0.7942857142857143\n",
      "Test Accuracy Score: 0.712\n",
      "\n",
      " Feature Importance, sums up to 1:\n",
      "('account_status', 0.1591497416288183)\n",
      "('credit_history', 0.05768328758075858)\n",
      "('savings_account', 0.05641823352797194)\n",
      "('personal_status_sex', 0.06302977402607671)\n",
      "('guarantors', 0.01839638070666555)\n",
      "('property', 0.0502749384322019)\n",
      "('other_installment_plans', 0.03227205996568052)\n",
      "('housing', 0.04284499758843326)\n",
      "('duration', 0.15455371757280914)\n",
      "('installment_rate', 0.0613365757347762)\n",
      "('residence_since', 0.061708725545932853)\n",
      "('age', 0.16785336446977087)\n",
      "('number_of_credits', 0.02321149215026105)\n",
      "('people_to_maintain', 0.010575978103187958)\n",
      "('phone', 0.02323093781947879)\n",
      "('foreign_worker_filled', 0.004675886721422341)\n",
      "('job_filled', 0.012783908425754009)\n"
     ]
    },
    {
     "data": {
      "image/png": "[encoded data removed]",
      "text/plain": [
       "<Figure size 432x288 with 1 Axes>"
      ]
     },
     "metadata": {
      "needs_background": "dark"
     },
     "output_type": "display_data"
    }
   ],
   "source": [
    "# Add foreign Worker feature to classification\n",
    "classify_with_new_cols(df_X_enc, filled_cols, max_features=17)"
   ]
  },
  {
   "cell_type": "raw",
   "metadata": {},
   "source": [
    "Attribute 7: (qualitative) \n",
    "Present employment since \n",
    "A71 : unemployed \n",
    "A72 : ... < 1 year \n",
    "A73 : 1 <= ... < 4 years \n",
    "A74 : 4 <= ... < 7 years \n",
    "A75 : .. >= 7 years "
   ]
  },
  {
   "cell_type": "code",
   "execution_count": 54,
   "metadata": {
    "scrolled": true
   },
   "outputs": [],
   "source": [
    "def replace_features(df, col_name, replace_to):\n",
    "    qualitative_empl_since = list(df[col_name].unique())\n",
    "    qualitative_empl_since.remove(np.nan)\n",
    "    qualitative_empl_since = sorted(qualitative_empl_since)\n",
    "\n",
    "    # change to \"emplayed for more than\"\n",
    "    numeric_empl_since = replace_to\n",
    "    df_empl_since_numerical = df.replace(qualitative_empl_since, numeric_empl_since)\n",
    "    df_empl_since_numerical.head()\n",
    "    return df_empl_since_numerical\n",
    "\n",
    "def compare_replaced_features(df, col_name, exchange_dict,\n",
    "                         classifiers, classifier_names, df_with_onehot):\n",
    "\n",
    "    \n",
    "    for k,v in exchange_dict.items():\n",
    "        print('\\n\\n', k)\n",
    "        df_empl_since_numerical = replace_features(df, col_name, v)\n",
    "        compare_classifiers(classifiers, classifier_names, [col_name], df_empl_since_numerical, \n",
    "                        df_with_onehot)\n",
    "        \n",
    "    return\n"
   ]
  },
  {
   "cell_type": "code",
   "execution_count": 55,
   "metadata": {
    "scrolled": true
   },
   "outputs": [
    {
     "name": "stdout",
     "output_type": "stream",
     "text": [
      "\n",
      "\n",
      " Employed at least n years\n",
      "\n",
      "================================= \n",
      "\n",
      "Linear Classification for featuren \"employment_since\"\n",
      "\n",
      "Classifier: SGDClassifier \n",
      "\n",
      "Cross Validation accuracy: 0.45 (+/- 0.13)\n",
      "Cross Validation f1_micro: 0.40 (+/- 0.10)\n",
      "\n",
      "Classifier: RidgeClassifier \n",
      "\n",
      "Cross Validation accuracy: 0.56 (+/- 0.06)\n",
      "Cross Validation f1_micro: 0.56 (+/- 0.06)\n",
      "\n",
      "Classifier: LogisticRegression \n",
      "\n",
      "Cross Validation accuracy: 0.56 (+/- 0.05)\n",
      "Cross Validation f1_micro: 0.56 (+/- 0.05)\n",
      "\n",
      "\n",
      " Employed at most n years\n",
      "\n",
      "================================= \n",
      "\n",
      "Linear Classification for featuren \"employment_since\"\n",
      "\n",
      "Classifier: SGDClassifier \n",
      "\n",
      "Cross Validation accuracy: 0.30 (+/- 0.08)\n",
      "Cross Validation f1_micro: 0.32 (+/- 0.06)\n",
      "\n",
      "Classifier: RidgeClassifier \n",
      "\n",
      "Cross Validation accuracy: 0.39 (+/- 0.05)\n",
      "Cross Validation f1_micro: 0.39 (+/- 0.05)\n",
      "\n",
      "Classifier: LogisticRegression \n",
      "\n",
      "Cross Validation accuracy: 0.39 (+/- 0.06)\n",
      "Cross Validation f1_micro: 0.39 (+/- 0.06)\n",
      "\n",
      "\n",
      " Employed more than a year\n",
      "\n",
      "================================= \n",
      "\n",
      "Linear Classification for featuren \"employment_since\"\n",
      "\n",
      "Classifier: SGDClassifier \n",
      "\n",
      "Cross Validation accuracy: 0.61 (+/- 0.17)\n",
      "Cross Validation f1_micro: 0.64 (+/- 0.13)\n",
      "\n",
      "Classifier: RidgeClassifier \n",
      "\n",
      "Cross Validation accuracy: 0.75 (+/- 0.03)\n",
      "Cross Validation f1_micro: 0.75 (+/- 0.03)\n",
      "\n",
      "Classifier: LogisticRegression \n",
      "\n",
      "Cross Validation accuracy: 0.75 (+/- 0.03)\n",
      "Cross Validation f1_micro: 0.75 (+/- 0.03)\n",
      "\n",
      "\n",
      " Employed more than 4 years\n",
      "\n",
      "================================= \n",
      "\n",
      "Linear Classification for featuren \"employment_since\"\n",
      "\n",
      "Classifier: SGDClassifier \n",
      "\n",
      "Cross Validation accuracy: 0.58 (+/- 0.05)\n",
      "Cross Validation f1_micro: 0.60 (+/- 0.08)\n",
      "\n",
      "Classifier: RidgeClassifier \n",
      "\n",
      "Cross Validation accuracy: 0.66 (+/- 0.07)\n",
      "Cross Validation f1_micro: 0.66 (+/- 0.07)\n",
      "\n",
      "Classifier: LogisticRegression \n",
      "\n",
      "Cross Validation accuracy: 0.65 (+/- 0.07)\n",
      "Cross Validation f1_micro: 0.65 (+/- 0.07)\n",
      "\n",
      "\n",
      " Employed more than 7 years\n",
      "\n",
      "================================= \n",
      "\n",
      "Linear Classification for featuren \"employment_since\"\n",
      "\n",
      "Classifier: SGDClassifier \n",
      "\n",
      "Cross Validation accuracy: 0.59 (+/- 0.07)\n",
      "Cross Validation f1_micro: 0.61 (+/- 0.07)\n",
      "\n",
      "Classifier: RidgeClassifier \n",
      "\n",
      "Cross Validation accuracy: 0.66 (+/- 0.07)\n",
      "Cross Validation f1_micro: 0.66 (+/- 0.07)\n",
      "\n",
      "Classifier: LogisticRegression \n",
      "\n",
      "Cross Validation accuracy: 0.65 (+/- 0.07)\n",
      "Cross Validation f1_micro: 0.65 (+/- 0.07)\n"
     ]
    }
   ],
   "source": [
    "empl_since_replace_to = {\n",
    "        'Employed at least n years' : [0, 1, 1, 4, 7],\n",
    "        'Employed at most n years' : [0, 1, 4, 7, 50],\n",
    "        'Employed more than a year' : [0, 0, 1, 1, 1],\n",
    "        'Employed more than 4 years' : [0, 0, 0, 1, 1],\n",
    "        'Employed more than 7 years' : [0, 0, 0, 1, 1]\n",
    "    }\n",
    "\n",
    "compare_replaced_features(df, 'employment_since', empl_since_replace_to,\n",
    "                         classifiers, classifier_names, df_with_onehot)"
   ]
  },
  {
   "cell_type": "markdown",
   "metadata": {},
   "source": [
    "Employed more than a year\n",
    "Cross Validation accuracy: 0.77 (+/- 0.02)\n",
    "Cross Validation f1_micro: 0.70 (+/- 0.13)"
   ]
  },
  {
   "cell_type": "code",
   "execution_count": 56,
   "metadata": {},
   "outputs": [],
   "source": [
    "df_empl_since = replace_features(df, 'employment_since', [0, 0, 1, 1, 1])\n",
    "col_empl_since = create_predicted_column(\n",
    "    RidgeClassifier(), df_empl_since, df_with_onehot, 'employment_since')\n",
    "filled_cols['employment_since_filled'] = col_empl_since\n",
    "missing_columns.remove('employment_since')"
   ]
  },
  {
   "cell_type": "code",
   "execution_count": 57,
   "metadata": {
    "scrolled": true
   },
   "outputs": [
    {
     "name": "stdout",
     "output_type": "stream",
     "text": [
      "Num of features: 18\n",
      "Cross Validation precision: 0.82 (+/- 0.03)\n",
      "Cross Validation accuracy: 0.71 (+/- 0.06)\n",
      "Test Precision Score: 0.7670454545454546\n",
      "Test Accuracy Score: 0.676\n",
      "\n",
      " Feature Importance, sums up to 1:\n",
      "('account_status', 0.1515298847054977)\n",
      "('credit_history', 0.0527491408193845)\n",
      "('savings_account', 0.06360418781430235)\n",
      "('personal_status_sex', 0.051167112869335576)\n",
      "('guarantors', 0.03205201958460287)\n",
      "('property', 0.050317620702228824)\n",
      "('other_installment_plans', 0.03230807910720458)\n",
      "('housing', 0.034925893822843876)\n",
      "('duration', 0.14297551979853518)\n",
      "('installment_rate', 0.05952363814923006)\n",
      "('residence_since', 0.058930401401105025)\n",
      "('age', 0.1742060616629832)\n",
      "('number_of_credits', 0.02672517159787389)\n",
      "('people_to_maintain', 0.015470137557662827)\n",
      "('phone', 0.02049943608614336)\n",
      "('foreign_worker_filled', 0.0033902449530213)\n",
      "('job_filled', 0.010370484672684413)\n",
      "('employment_since_filled', 0.019254964695360453)\n"
     ]
    },
    {
     "data": {
      "image/png": "[encoded data removed]",
      "text/plain": [
       "<Figure size 432x288 with 1 Axes>"
      ]
     },
     "metadata": {
      "needs_background": "dark"
     },
     "output_type": "display_data"
    }
   ],
   "source": [
    "# Foreign, Job, Empl_since\n",
    "classify_with_new_cols(df_X_enc, filled_cols, max_features=18)\n",
    "\n",
    "#Visualise importance of features\n"
   ]
  },
  {
   "cell_type": "markdown",
   "metadata": {},
   "source": [
    "*Purpose*"
   ]
  },
  {
   "cell_type": "code",
   "execution_count": 58,
   "metadata": {},
   "outputs": [
    {
     "data": {
      "text/html": [
       "<div>\n",
       "<style scoped>\n",
       "    .dataframe tbody tr th:only-of-type {\n",
       "        vertical-align: middle;\n",
       "    }\n",
       "\n",
       "    .dataframe tbody tr th {\n",
       "        vertical-align: top;\n",
       "    }\n",
       "\n",
       "    .dataframe thead th {\n",
       "        text-align: right;\n",
       "    }\n",
       "</style>\n",
       "<table border=\"1\" class=\"dataframe\">\n",
       "  <thead>\n",
       "    <tr style=\"text-align: right;\">\n",
       "      <th></th>\n",
       "      <th>account_status</th>\n",
       "      <th>duration</th>\n",
       "      <th>credit_history</th>\n",
       "      <th>purpose</th>\n",
       "      <th>credit_amount</th>\n",
       "      <th>savings_account</th>\n",
       "      <th>employment_since</th>\n",
       "      <th>installment_rate</th>\n",
       "      <th>personal_status_sex</th>\n",
       "      <th>guarantors</th>\n",
       "      <th>residence_since</th>\n",
       "      <th>property</th>\n",
       "      <th>age</th>\n",
       "      <th>other_installment_plans</th>\n",
       "      <th>housing</th>\n",
       "      <th>number_of_credits</th>\n",
       "      <th>job</th>\n",
       "      <th>people_to_maintain</th>\n",
       "      <th>phone</th>\n",
       "      <th>foreign_worker</th>\n",
       "    </tr>\n",
       "  </thead>\n",
       "  <tbody>\n",
       "    <tr>\n",
       "      <th>0</th>\n",
       "      <td>A14</td>\n",
       "      <td>1.252574</td>\n",
       "      <td>A32</td>\n",
       "      <td>NaN</td>\n",
       "      <td>7.740230</td>\n",
       "      <td>A63</td>\n",
       "      <td>NaN</td>\n",
       "      <td>0.918477</td>\n",
       "      <td>A93</td>\n",
       "      <td>A101</td>\n",
       "      <td>1.046987</td>\n",
       "      <td>A123</td>\n",
       "      <td>0.303788</td>\n",
       "      <td>A143</td>\n",
       "      <td>A152</td>\n",
       "      <td>-0.704926</td>\n",
       "      <td>A173</td>\n",
       "      <td>-0.428290</td>\n",
       "      <td>-0.823318</td>\n",
       "      <td>NaN</td>\n",
       "    </tr>\n",
       "    <tr>\n",
       "      <th>1</th>\n",
       "      <td>A12</td>\n",
       "      <td>-0.240857</td>\n",
       "      <td>A32</td>\n",
       "      <td>A46</td>\n",
       "      <td>7.122060</td>\n",
       "      <td>A65</td>\n",
       "      <td>A73</td>\n",
       "      <td>0.918477</td>\n",
       "      <td>A93</td>\n",
       "      <td>A101</td>\n",
       "      <td>1.046987</td>\n",
       "      <td>A124</td>\n",
       "      <td>2.238742</td>\n",
       "      <td>A143</td>\n",
       "      <td>A153</td>\n",
       "      <td>-0.704926</td>\n",
       "      <td>NaN</td>\n",
       "      <td>-0.428290</td>\n",
       "      <td>-0.823318</td>\n",
       "      <td>1.0</td>\n",
       "    </tr>\n",
       "    <tr>\n",
       "      <th>2</th>\n",
       "      <td>A13</td>\n",
       "      <td>0.256953</td>\n",
       "      <td>A32</td>\n",
       "      <td>A40</td>\n",
       "      <td>6.853299</td>\n",
       "      <td>A61</td>\n",
       "      <td>A74</td>\n",
       "      <td>0.918477</td>\n",
       "      <td>A93</td>\n",
       "      <td>A101</td>\n",
       "      <td>0.140505</td>\n",
       "      <td>A124</td>\n",
       "      <td>0.215835</td>\n",
       "      <td>A141</td>\n",
       "      <td>A153</td>\n",
       "      <td>-0.704926</td>\n",
       "      <td>NaN</td>\n",
       "      <td>2.334869</td>\n",
       "      <td>-0.823318</td>\n",
       "      <td>NaN</td>\n",
       "    </tr>\n",
       "    <tr>\n",
       "      <th>3</th>\n",
       "      <td>A14</td>\n",
       "      <td>-0.489762</td>\n",
       "      <td>A33</td>\n",
       "      <td>A43</td>\n",
       "      <td>7.298445</td>\n",
       "      <td>A61</td>\n",
       "      <td>A73</td>\n",
       "      <td>0.918477</td>\n",
       "      <td>A94</td>\n",
       "      <td>A101</td>\n",
       "      <td>0.140505</td>\n",
       "      <td>A121</td>\n",
       "      <td>-0.223927</td>\n",
       "      <td>A141</td>\n",
       "      <td>A152</td>\n",
       "      <td>1.027079</td>\n",
       "      <td>A173</td>\n",
       "      <td>-0.428290</td>\n",
       "      <td>-0.823318</td>\n",
       "      <td>1.0</td>\n",
       "    </tr>\n",
       "    <tr>\n",
       "      <th>4</th>\n",
       "      <td>A14</td>\n",
       "      <td>0.256953</td>\n",
       "      <td>A32</td>\n",
       "      <td>A40</td>\n",
       "      <td>7.329750</td>\n",
       "      <td>A64</td>\n",
       "      <td>A74</td>\n",
       "      <td>0.918477</td>\n",
       "      <td>A92</td>\n",
       "      <td>A101</td>\n",
       "      <td>0.140505</td>\n",
       "      <td>A123</td>\n",
       "      <td>-0.135974</td>\n",
       "      <td>A143</td>\n",
       "      <td>A152</td>\n",
       "      <td>-0.704926</td>\n",
       "      <td>A173</td>\n",
       "      <td>2.334869</td>\n",
       "      <td>1.214598</td>\n",
       "      <td>1.0</td>\n",
       "    </tr>\n",
       "  </tbody>\n",
       "</table>\n",
       "</div>"
      ],
      "text/plain": [
       "  account_status  duration credit_history purpose  credit_amount  \\\n",
       "0            A14  1.252574            A32     NaN       7.740230   \n",
       "1            A12 -0.240857            A32     A46       7.122060   \n",
       "2            A13  0.256953            A32     A40       6.853299   \n",
       "3            A14 -0.489762            A33     A43       7.298445   \n",
       "4            A14  0.256953            A32     A40       7.329750   \n",
       "\n",
       "  savings_account employment_since  installment_rate personal_status_sex  \\\n",
       "0             A63              NaN          0.918477                 A93   \n",
       "1             A65              A73          0.918477                 A93   \n",
       "2             A61              A74          0.918477                 A93   \n",
       "3             A61              A73          0.918477                 A94   \n",
       "4             A64              A74          0.918477                 A92   \n",
       "\n",
       "  guarantors  residence_since property       age other_installment_plans  \\\n",
       "0       A101         1.046987     A123  0.303788                    A143   \n",
       "1       A101         1.046987     A124  2.238742                    A143   \n",
       "2       A101         0.140505     A124  0.215835                    A141   \n",
       "3       A101         0.140505     A121 -0.223927                    A141   \n",
       "4       A101         0.140505     A123 -0.135974                    A143   \n",
       "\n",
       "  housing  number_of_credits   job  people_to_maintain     phone  \\\n",
       "0    A152          -0.704926  A173           -0.428290 -0.823318   \n",
       "1    A153          -0.704926   NaN           -0.428290 -0.823318   \n",
       "2    A153          -0.704926   NaN            2.334869 -0.823318   \n",
       "3    A152           1.027079  A173           -0.428290 -0.823318   \n",
       "4    A152          -0.704926  A173            2.334869  1.214598   \n",
       "\n",
       "   foreign_worker  \n",
       "0             NaN  \n",
       "1             1.0  \n",
       "2             NaN  \n",
       "3             1.0  \n",
       "4             1.0  "
      ]
     },
     "execution_count": 58,
     "metadata": {},
     "output_type": "execute_result"
    }
   ],
   "source": [
    "df.head()"
   ]
  },
  {
   "cell_type": "code",
   "execution_count": 59,
   "metadata": {},
   "outputs": [
    {
     "name": "stdout",
     "output_type": "stream",
     "text": [
      "\n",
      "================================= \n",
      "\n",
      "Linear Classification for featuren \"purpose\"\n",
      "\n",
      "Classifier: SGDClassifier \n",
      "\n",
      "Cross Validation accuracy: 0.24 (+/- 0.08)\n",
      "Cross Validation f1_micro: 0.27 (+/- 0.05)\n",
      "\n",
      "Classifier: RidgeClassifier \n",
      "\n",
      "Cross Validation accuracy: 0.34 (+/- 0.06)\n",
      "Cross Validation f1_micro: 0.34 (+/- 0.06)\n",
      "\n",
      "Classifier: LogisticRegression \n",
      "\n",
      "Cross Validation accuracy: 0.34 (+/- 0.05)\n",
      "Cross Validation f1_micro: 0.34 (+/- 0.05)\n",
      "Number of available features:  827\n"
     ]
    }
   ],
   "source": [
    "compare_classifiers(classifiers, classifier_names, ['purpose'], pd.concat([df, filled_cols], axis=1), \n",
    "                    df_with_onehot)\n",
    "col_purpose = create_predicted_column(\n",
    "    RidgeClassifier(), pd.concat([df, filled_cols], axis=1), df_with_onehot, 'purpose')\n",
    "\n",
    "#The are many features available. \n",
    "print('Number of available features: ', df['purpose'].count())\n",
    "\n",
    "purpose_filled = df['purpose'].fillna('missing')\n",
    "purpose_filled = encode_target_var(purpose_filled, method = 'categorical')\n",
    "filled_cols['purpose_filled'] = purpose_filled"
   ]
  },
  {
   "cell_type": "code",
   "execution_count": 60,
   "metadata": {},
   "outputs": [
    {
     "name": "stdout",
     "output_type": "stream",
     "text": [
      "Num of features: 19\n",
      "Cross Validation precision: 0.81 (+/- 0.04)\n",
      "Cross Validation accuracy: 0.72 (+/- 0.06)\n",
      "Test Precision Score: 0.7942857142857143\n",
      "Test Accuracy Score: 0.712\n",
      "\n",
      " Feature Importance, sums up to 1:\n",
      "('account_status', 0.1745636347023215)\n",
      "('credit_history', 0.04739822355947776)\n",
      "('savings_account', 0.0610121615776002)\n",
      "('personal_status_sex', 0.05945107228140598)\n",
      "('guarantors', 0.021044577823615466)\n",
      "('property', 0.04512476971456615)\n",
      "('other_installment_plans', 0.021273375572506817)\n",
      "('housing', 0.030690072563163834)\n",
      "('duration', 0.12819741231108323)\n",
      "('installment_rate', 0.04807452129138362)\n",
      "('residence_since', 0.05774953366888921)\n",
      "('age', 0.12997962404336058)\n",
      "('number_of_credits', 0.027336588970887137)\n",
      "('people_to_maintain', 0.010844621534083308)\n",
      "('phone', 0.025514861194822585)\n",
      "('foreign_worker_filled', 0.0032196352391966783)\n",
      "('job_filled', 0.01225015613408651)\n",
      "('employment_since_filled', 0.016392542987769952)\n",
      "('purpose_filled', 0.07988261482977943)\n"
     ]
    },
    {
     "data": {
      "image/png": "[encoded data removed]",
      "text/plain": [
       "<Figure size 432x288 with 1 Axes>"
      ]
     },
     "metadata": {
      "needs_background": "dark"
     },
     "output_type": "display_data"
    }
   ],
   "source": [
    "classify_with_new_cols(df_X_enc, filled_cols, max_features=19)"
   ]
  },
  {
   "cell_type": "code",
   "execution_count": 117,
   "metadata": {},
   "outputs": [],
   "source": [
    "df_filled_label_enc = pd.concat([df_X_enc, filled_cols], axis=1)\n",
    "X_train, X_test, y_train, y_test = train_test_split(\n",
    "    df_filled_label_enc, label, test_size = 0.25, random_state=10)             "
   ]
  },
  {
   "cell_type": "code",
   "execution_count": 121,
   "metadata": {},
   "outputs": [
    {
     "data": {
      "text/plain": [
       "Index(['account_status', 'credit_history', 'savings_account',\n",
       "       'personal_status_sex', 'guarantors', 'property',\n",
       "       'other_installment_plans', 'housing', 'duration', 'installment_rate',\n",
       "       'residence_since', 'age', 'number_of_credits', 'people_to_maintain',\n",
       "       'phone', 'foreign_worker_filled', 'job_filled',\n",
       "       'employment_since_filled', 'purpose_filled'],\n",
       "      dtype='object')"
      ]
     },
     "execution_count": 121,
     "metadata": {},
     "output_type": "execute_result"
    }
   ],
   "source": [
    "df_filled_label_enc.columns"
   ]
  },
  {
   "cell_type": "code",
   "execution_count": 130,
   "metadata": {},
   "outputs": [
    {
     "name": "stdout",
     "output_type": "stream",
     "text": [
      "Cross Validation precision: 0.78 (+/- 0.02)\n",
      "Cross Validation accuracy: 0.74 (+/- 0.06)\n",
      "Test Precision Score: 0.7487437185929648\n",
      "Test Accuracy Score: 0.728\n",
      "Confusion matrix, without normalization\n",
      "[[ 33  50]\n",
      " [ 18 149]]\n",
      "Normalized confusion matrix\n",
      "[[0.39759036 0.60240964]\n",
      " [0.10778443 0.89221557]]\n"
     ]
    },
    {
     "data": {
      "text/plain": [
       "<matplotlib.axes._subplots.AxesSubplot at 0x1a2c4acd68>"
      ]
     },
     "execution_count": 130,
     "metadata": {},
     "output_type": "execute_result"
    },
    {
     "data": {
      "image/png": "[encoded data removed]",
      "text/plain": [
       "<Figure size 432x288 with 2 Axes>"
      ]
     },
     "metadata": {
      "needs_background": "dark"
     },
     "output_type": "display_data"
    },
    {
     "data": {
      "image/png": "[encoded data removed]",
      "text/plain": [
       "<Figure size 432x288 with 2 Axes>"
      ]
     },
     "metadata": {
      "needs_background": "dark"
     },
     "output_type": "display_data"
    }
   ],
   "source": [
    "clf_rf = RandomForestClassifier(n_estimators=10, max_features=10, min_samples_leaf=3)\n",
    "trained_clf, y_pred = classify(clf_rf, X_train, y_train, X_test, y_test)\n",
    "plot_confusion_matrix(list(y_test), list(y_pred), y_test.unique())\n",
    "plot_confusion_matrix(list(y_test), list(y_pred), y_test.unique(), normalize=True)"
   ]
  },
  {
   "cell_type": "code",
   "execution_count": 111,
   "metadata": {},
   "outputs": [
    {
     "name": "stdout",
     "output_type": "stream",
     "text": [
      "Cross Validation precision: 0.74 (+/- 0.01)\n",
      "Cross Validation accuracy: 0.73 (+/- 0.02)\n",
      "Test Precision Score: 0.7434782608695653\n",
      "Test Accuracy Score: 0.748\n"
     ]
    }
   ],
   "source": [
    "clf_svm = SVC(random_state = 9, kernel='rbf')\n",
    "trained_clf, y_pred = classify(clf_svm, X_train, y_train, X_test, y_test)"
   ]
  },
  {
   "cell_type": "code",
   "execution_count": 112,
   "metadata": {},
   "outputs": [],
   "source": [
    "df_filled_one_hot = pd.concat([df_with_onehot, filled_cols], axis=1)\n",
    "X_train, X_test, y_train, y_test = train_test_split(\n",
    "    df_filled_one_hot, label, test_size = 0.25, random_state=4)      "
   ]
  },
  {
   "cell_type": "code",
   "execution_count": 113,
   "metadata": {},
   "outputs": [
    {
     "name": "stdout",
     "output_type": "stream",
     "text": [
      "Cross Validation precision: 0.74 (+/- 0.01)\n",
      "Cross Validation accuracy: 0.73 (+/- 0.02)\n",
      "Test Precision Score: 0.7434782608695653\n",
      "Test Accuracy Score: 0.748\n"
     ]
    }
   ],
   "source": [
    "clf_svm = SVC(random_state = 9, kernel='rbf')\n",
    "trained_clf, y_pred = classify(clf_svm, X_train, y_train, X_test, y_test)"
   ]
  },
  {
   "cell_type": "code",
   "execution_count": 114,
   "metadata": {},
   "outputs": [
    {
     "name": "stdout",
     "output_type": "stream",
     "text": [
      "Cross Validation precision: 0.79 (+/- 0.03)\n",
      "Cross Validation accuracy: 0.73 (+/- 0.04)\n",
      "Test Precision Score: 0.7839195979899497\n",
      "Test Accuracy Score: 0.752\n"
     ]
    }
   ],
   "source": [
    "clf_lin_svm = LinearSVC(random_state = 9)\n",
    "trained_clf, y_pred = classify(clf_lin_svm, X_train, y_train, X_test, y_test)"
   ]
  },
  {
   "cell_type": "code",
   "execution_count": 115,
   "metadata": {},
   "outputs": [
    {
     "name": "stdout",
     "output_type": "stream",
     "text": [
      "Cross Validation precision: 0.79 (+/- 0.03)\n",
      "Cross Validation accuracy: 0.73 (+/- 0.04)\n",
      "Test Precision Score: 0.7761194029850746\n",
      "Test Accuracy Score: 0.744\n"
     ]
    }
   ],
   "source": [
    "clf_log_reg = LogisticRegression()\n",
    "trained_clf, y_pred = classify(clf_log_reg, X_train, y_train, X_test, y_test)"
   ]
  },
  {
   "cell_type": "code",
   "execution_count": 116,
   "metadata": {
    "scrolled": false
   },
   "outputs": [
    {
     "name": "stdout",
     "output_type": "stream",
     "text": [
      "Cross Validation precision: 0.79 (+/- 0.03)\n",
      "Cross Validation accuracy: 0.72 (+/- 0.04)\n",
      "Test Precision Score: 0.7891891891891892\n",
      "Test Accuracy Score: 0.728\n"
     ]
    }
   ],
   "source": [
    "clf_extra = ExtraTreesClassifier()\n",
    "trained_clf, y_pred = classify(clf_extra, X_train, y_train, X_test, y_test)"
   ]
  },
  {
   "cell_type": "code",
   "execution_count": 108,
   "metadata": {},
   "outputs": [
    {
     "data": {
      "image/png": "[encoded data removed]",
      "text/plain": [
       "<Figure size 1080x1080 with 64 Axes>"
      ]
     },
     "metadata": {
      "needs_background": "dark"
     },
     "output_type": "display_data"
    }
   ],
   "source": [
    "# Visualising distribution of data\n",
    "pd.plotting.scatter_matrix(df_X_normalized, alpha=0.2, figsize=(15,15))\n",
    "plt.show()"
   ]
  },
  {
   "cell_type": "code",
   "execution_count": 61,
   "metadata": {},
   "outputs": [],
   "source": [
    "# _, x_train, y_train, x_test = split_data_missing_vals(\n",
    "#         df_job_numerical, df_with_onehot, 'job')\n",
    "# kernel = 1.0 * RBF(1.0)\n",
    "# gpc = GaussianProcessClassifier(kernel=kernel, random_state=0).fit(X_train, y_train)\n",
    "# classifiers = [GaussianProcessClassifier(kernel=kernel, random_state=0)]\n",
    "# gpc.score(X, y) \n",
    "# gpc.predict_proba(X_train[:2,:])\n",
    "# array([[0.83548752, 0.03228706, 0.13222543],\n",
    "#        [0.79064206, 0.06525643, 0.14410151]])"
   ]
  },
  {
   "cell_type": "markdown",
   "metadata": {},
   "source": [
    "### Covariance Matrix between features"
   ]
  },
  {
   "cell_type": "code",
   "execution_count": 62,
   "metadata": {},
   "outputs": [],
   "source": [
    "# df_drop_cols = df.drop(missing_columns, axis=1)\n",
    "#df_drop_cols.isna().sum()\n",
    "# print(df_drop_cols.shape)\n",
    "# print(label.shape)\n",
    "\n",
    "# #Encode categorical labels (excluded missisng columns)\n",
    "# label_encoder = LabelEncoder()\n",
    "# label_encoded_data = df[to_onehot].apply(lambda x: d[x.name].fit_transform(x))\n",
    "# # encoded_labels = label_encoder.fit_transform(df_drop_cols[to_onehot].columns)\n",
    "# # print(encoded_labels)\n",
    "# # print(label_encoder.inverse_transform(encoded_labels))\n",
    "\n",
    "# for x in range(len(to_onehot)):\n",
    "#     print(to_onehot[x], ': ', df[to_onehot[x]].unique())\n",
    "#     print(to_onehot[x], ': ', label_encoded_data[to_onehot[x]].unique())\n",
    "\n",
    "#         # Plot non-normalized confusion matrix\n",
    "#     plot_confusion_matrix(y_test, y_pred, classes=y_test.unique(),\n",
    "#                       title='Confusion matrix, without normalization')\n",
    "\n",
    "#     # Plot normalized confusion matrix\n",
    "#     plot_confusion_matrix(y_test, y_pred, classes=y_test.unique(), normalize=True,\n",
    "#                       title='Normalized confusion matrix')"
   ]
  },
  {
   "cell_type": "code",
   "execution_count": null,
   "metadata": {},
   "outputs": [],
   "source": []
  }
 ],
 "metadata": {
  "kernelspec": {
   "display_name": "Python 3",
   "language": "python",
   "name": "python3"
  },
  "language_info": {
   "codemirror_mode": {
    "name": "ipython",
    "version": 3
   },
   "file_extension": ".py",
   "mimetype": "text/x-python",
   "name": "python",
   "nbconvert_exporter": "python",
   "pygments_lexer": "ipython3",
   "version": "3.7.3"
  }
 },
 "nbformat": 4,
 "nbformat_minor": 2
}
