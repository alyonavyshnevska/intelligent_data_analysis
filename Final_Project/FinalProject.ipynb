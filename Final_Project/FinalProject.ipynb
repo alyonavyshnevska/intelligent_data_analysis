{
  "nbformat": 4,
  "nbformat_minor": 0,
  "metadata": {
    "kernelspec": {
      "display_name": "Python 3",
      "language": "python",
      "name": "python3"
    },
    "language_info": {
      "codemirror_mode": {
        "name": "ipython",
        "version": 3
      },
      "file_extension": ".py",
      "mimetype": "text/x-python",
      "name": "python",
      "nbconvert_exporter": "python",
      "pygments_lexer": "ipython3",
      "version": "3.7.3"
    },
    "colab": {
      "name": "FinalProject.ipynb",
      "provenance": [],
      "collapsed_sections": []
    }
  },
  "cells": [
    {
      "cell_type": "code",
      "metadata": {
        "id": "b-0HHZCQp3D2",
        "colab_type": "code",
        "outputId": "d3e02d30-16f8-422f-b418-47d855007a8d",
        "colab": {
          "base_uri": "https://localhost:8080/",
          "height": 71
        }
      },
      "source": [
        "# Imports\n",
        "import numpy as np\n",
        "import pandas as pd\n",
        "from collections import Counter, defaultdict\n",
        "\n",
        "#visual\n",
        "import seaborn as sns \n",
        "import matplotlib.pyplot as plt\n",
        "import missingno as mno\n",
        "from imblearn.over_sampling import SMOTE\n",
        "\n",
        "#learning\n",
        "from sklearn import linear_model\n",
        "from sklearn.preprocessing import OneHotEncoder, LabelEncoder, LabelBinarizer\n",
        "from sklearn.ensemble import RandomForestClassifier, ExtraTreesClassifier\n",
        "from sklearn.model_selection import train_test_split, cross_val_score, GridSearchCV\n",
        "from sklearn.metrics import precision_score, accuracy_score, confusion_matrix\n",
        "from sklearn.utils.multiclass import unique_labels\n",
        "from sklearn.linear_model import SGDClassifier, RidgeClassifier, PassiveAggressiveClassifier, \\\n",
        "BayesianRidge, LogisticRegression\n",
        "from sklearn.svm import LinearSVC, SVC\n",
        "from sklearn.gaussian_process import GaussianProcessClassifier\n",
        "from sklearn.gaussian_process.kernels import RBF\n",
        "\n",
        "\n",
        "# import warnings filter\n",
        "from warnings import simplefilter\n",
        "# ignore all future warnings\n",
        "simplefilter(action='ignore', category=FutureWarning)\n",
        "\n",
        "import warnings\n",
        "warnings.filterwarnings('ignore') \n",
        "\n",
        "%matplotlib inline"
      ],
      "execution_count": 1,
      "outputs": [
        {
          "output_type": "stream",
          "text": [
            "/usr/local/lib/python3.6/dist-packages/sklearn/externals/six.py:31: DeprecationWarning: The module is deprecated in version 0.21 and will be removed in version 0.23 since we've dropped support for Python 2.7. Please rely on the official version of six (https://pypi.org/project/six/).\n",
            "  \"(https://pypi.org/project/six/).\", DeprecationWarning)\n"
          ],
          "name": "stderr"
        }
      ]
    },
    {
      "cell_type": "markdown",
      "metadata": {
        "id": "RzhzWP6kp3EB",
        "colab_type": "text"
      },
      "source": [
        "## Getting to Know the Data"
      ]
    },
    {
      "cell_type": "code",
      "metadata": {
        "id": "r4IOJuILp3EC",
        "colab_type": "code",
        "outputId": "03790741-a4f1-43b1-dc0b-deb62a5a9780",
        "colab": {
          "base_uri": "https://localhost:8080/",
          "height": 34
        }
      },
      "source": [
        "# Loading data as pandas dataframe\n",
        "\n",
        "# Naming the columns with attributes they represent\n",
        "names = ['account_status', 'duration', 'credit_history',\n",
        "             'purpose', 'credit_amount', 'savings_account', 'employment_since',\n",
        "             'installment_rate', 'personal_status_sex', 'guarantors', \n",
        "             'residence_since', 'property', 'age', 'other_installment_plans',\n",
        "             'housing', 'number_of_credits', 'job', 'people_to_maintain',\n",
        "             'phone', 'foreign_worker', 'creditworthy']\n",
        "\n",
        "df = pd.read_csv('kredit.dat', header=None, sep=\"\\t\", names=names)\n",
        "df.shape"
      ],
      "execution_count": 2,
      "outputs": [
        {
          "output_type": "execute_result",
          "data": {
            "text/plain": [
              "(1000, 21)"
            ]
          },
          "metadata": {
            "tags": []
          },
          "execution_count": 2
        }
      ]
    },
    {
      "cell_type": "code",
      "metadata": {
        "id": "emkpOKvQp3EK",
        "colab_type": "code",
        "outputId": "87070d53-a786-4c76-a350-51a0cf96dc2d",
        "colab": {
          "base_uri": "https://localhost:8080/",
          "height": 34
        }
      },
      "source": [
        "# Last column is the target variable\n",
        "df.creditworthy.replace([1,2], [1,0], inplace=True)\n",
        "label = df['creditworthy']\n",
        "df = df.drop(columns=['creditworthy'])\n",
        "df.shape"
      ],
      "execution_count": 3,
      "outputs": [
        {
          "output_type": "execute_result",
          "data": {
            "text/plain": [
              "(1000, 20)"
            ]
          },
          "metadata": {
            "tags": []
          },
          "execution_count": 3
        }
      ]
    },
    {
      "cell_type": "code",
      "metadata": {
        "scrolled": true,
        "id": "ppZxcGIgp3EQ",
        "colab_type": "code",
        "outputId": "8b150ba1-14ba-4c9f-bfcf-b773b8d8a7bb",
        "colab": {
          "base_uri": "https://localhost:8080/",
          "height": 258
        }
      },
      "source": [
        "# Getting familiar with data\n",
        "\n",
        "print(f'Number of data points: {df.shape[0]}')\n",
        "print(f'Number of Attributes: {df.shape[1]}')\n",
        "df.head(5)"
      ],
      "execution_count": 4,
      "outputs": [
        {
          "output_type": "stream",
          "text": [
            "Number of data points: 1000\n",
            "Number of Attributes: 20\n"
          ],
          "name": "stdout"
        },
        {
          "output_type": "execute_result",
          "data": {
            "text/html": [
              "<div>\n",
              "<style scoped>\n",
              "    .dataframe tbody tr th:only-of-type {\n",
              "        vertical-align: middle;\n",
              "    }\n",
              "\n",
              "    .dataframe tbody tr th {\n",
              "        vertical-align: top;\n",
              "    }\n",
              "\n",
              "    .dataframe thead th {\n",
              "        text-align: right;\n",
              "    }\n",
              "</style>\n",
              "<table border=\"1\" class=\"dataframe\">\n",
              "  <thead>\n",
              "    <tr style=\"text-align: right;\">\n",
              "      <th></th>\n",
              "      <th>account_status</th>\n",
              "      <th>duration</th>\n",
              "      <th>credit_history</th>\n",
              "      <th>purpose</th>\n",
              "      <th>credit_amount</th>\n",
              "      <th>savings_account</th>\n",
              "      <th>employment_since</th>\n",
              "      <th>installment_rate</th>\n",
              "      <th>personal_status_sex</th>\n",
              "      <th>guarantors</th>\n",
              "      <th>residence_since</th>\n",
              "      <th>property</th>\n",
              "      <th>age</th>\n",
              "      <th>other_installment_plans</th>\n",
              "      <th>housing</th>\n",
              "      <th>number_of_credits</th>\n",
              "      <th>job</th>\n",
              "      <th>people_to_maintain</th>\n",
              "      <th>phone</th>\n",
              "      <th>foreign_worker</th>\n",
              "    </tr>\n",
              "  </thead>\n",
              "  <tbody>\n",
              "    <tr>\n",
              "      <th>0</th>\n",
              "      <td>A14</td>\n",
              "      <td>36</td>\n",
              "      <td>A32</td>\n",
              "      <td>?</td>\n",
              "      <td>2299</td>\n",
              "      <td>A63</td>\n",
              "      <td>?</td>\n",
              "      <td>4</td>\n",
              "      <td>A93</td>\n",
              "      <td>A101</td>\n",
              "      <td>4</td>\n",
              "      <td>A123</td>\n",
              "      <td>39</td>\n",
              "      <td>A143</td>\n",
              "      <td>A152</td>\n",
              "      <td>1</td>\n",
              "      <td>A173</td>\n",
              "      <td>1</td>\n",
              "      <td>A191</td>\n",
              "      <td>?</td>\n",
              "    </tr>\n",
              "    <tr>\n",
              "      <th>1</th>\n",
              "      <td>A12</td>\n",
              "      <td>18</td>\n",
              "      <td>A32</td>\n",
              "      <td>A46</td>\n",
              "      <td>1239</td>\n",
              "      <td>A65</td>\n",
              "      <td>A73</td>\n",
              "      <td>4</td>\n",
              "      <td>A93</td>\n",
              "      <td>A101</td>\n",
              "      <td>4</td>\n",
              "      <td>A124</td>\n",
              "      <td>61</td>\n",
              "      <td>A143</td>\n",
              "      <td>A153</td>\n",
              "      <td>1</td>\n",
              "      <td>?</td>\n",
              "      <td>1</td>\n",
              "      <td>A191</td>\n",
              "      <td>A201</td>\n",
              "    </tr>\n",
              "    <tr>\n",
              "      <th>2</th>\n",
              "      <td>A13</td>\n",
              "      <td>24</td>\n",
              "      <td>A32</td>\n",
              "      <td>A40</td>\n",
              "      <td>947</td>\n",
              "      <td>A61</td>\n",
              "      <td>A74</td>\n",
              "      <td>4</td>\n",
              "      <td>A93</td>\n",
              "      <td>A101</td>\n",
              "      <td>3</td>\n",
              "      <td>A124</td>\n",
              "      <td>38</td>\n",
              "      <td>A141</td>\n",
              "      <td>A153</td>\n",
              "      <td>1</td>\n",
              "      <td>?</td>\n",
              "      <td>2</td>\n",
              "      <td>A191</td>\n",
              "      <td>?</td>\n",
              "    </tr>\n",
              "    <tr>\n",
              "      <th>3</th>\n",
              "      <td>A14</td>\n",
              "      <td>15</td>\n",
              "      <td>A33</td>\n",
              "      <td>A43</td>\n",
              "      <td>1478</td>\n",
              "      <td>A61</td>\n",
              "      <td>A73</td>\n",
              "      <td>4</td>\n",
              "      <td>A94</td>\n",
              "      <td>A101</td>\n",
              "      <td>3</td>\n",
              "      <td>A121</td>\n",
              "      <td>33</td>\n",
              "      <td>A141</td>\n",
              "      <td>A152</td>\n",
              "      <td>2</td>\n",
              "      <td>A173</td>\n",
              "      <td>1</td>\n",
              "      <td>A191</td>\n",
              "      <td>A201</td>\n",
              "    </tr>\n",
              "    <tr>\n",
              "      <th>4</th>\n",
              "      <td>A14</td>\n",
              "      <td>24</td>\n",
              "      <td>A32</td>\n",
              "      <td>A40</td>\n",
              "      <td>1525</td>\n",
              "      <td>A64</td>\n",
              "      <td>A74</td>\n",
              "      <td>4</td>\n",
              "      <td>A92</td>\n",
              "      <td>A101</td>\n",
              "      <td>3</td>\n",
              "      <td>A123</td>\n",
              "      <td>34</td>\n",
              "      <td>A143</td>\n",
              "      <td>A152</td>\n",
              "      <td>1</td>\n",
              "      <td>A173</td>\n",
              "      <td>2</td>\n",
              "      <td>A192</td>\n",
              "      <td>A201</td>\n",
              "    </tr>\n",
              "  </tbody>\n",
              "</table>\n",
              "</div>"
            ],
            "text/plain": [
              "  account_status  duration  ... phone foreign_worker\n",
              "0            A14        36  ...  A191              ?\n",
              "1            A12        18  ...  A191           A201\n",
              "2            A13        24  ...  A191              ?\n",
              "3            A14        15  ...  A191           A201\n",
              "4            A14        24  ...  A192           A201\n",
              "\n",
              "[5 rows x 20 columns]"
            ]
          },
          "metadata": {
            "tags": []
          },
          "execution_count": 4
        }
      ]
    },
    {
      "cell_type": "code",
      "metadata": {
        "scrolled": true,
        "id": "wOa5c0wBp3EU",
        "colab_type": "code",
        "outputId": "a8c0cfc7-45fb-4694-aad2-f71b10970825",
        "colab": {
          "base_uri": "https://localhost:8080/",
          "height": 374
        }
      },
      "source": [
        "# Explore types of data in dataset\n",
        "print(df.dtypes)"
      ],
      "execution_count": 5,
      "outputs": [
        {
          "output_type": "stream",
          "text": [
            "account_status             object\n",
            "duration                    int64\n",
            "credit_history             object\n",
            "purpose                    object\n",
            "credit_amount               int64\n",
            "savings_account            object\n",
            "employment_since           object\n",
            "installment_rate            int64\n",
            "personal_status_sex        object\n",
            "guarantors                 object\n",
            "residence_since             int64\n",
            "property                   object\n",
            "age                         int64\n",
            "other_installment_plans    object\n",
            "housing                    object\n",
            "number_of_credits           int64\n",
            "job                        object\n",
            "people_to_maintain          int64\n",
            "phone                      object\n",
            "foreign_worker             object\n",
            "dtype: object\n"
          ],
          "name": "stdout"
        }
      ]
    },
    {
      "cell_type": "code",
      "metadata": {
        "id": "VrYEBOczp3Ee",
        "colab_type": "code",
        "outputId": "30d2c625-ba8b-402b-a970-000df12afd17",
        "colab": {
          "base_uri": "https://localhost:8080/",
          "height": 122
        }
      },
      "source": [
        "# As we see above: 2 data types\n",
        "# Features will be treated separately\n",
        "\n",
        "def categorical_numerical_split(df):\n",
        "    categorical = [att for att in df.columns if df[att].dtype == 'object']\n",
        "    numerical = [att for att in df.columns if np.issubdtype(df[att].dtype, np.number) ]\n",
        "    return categorical, numerical\n",
        "\n",
        "categorical, numerical = categorical_numerical_split(df)\n",
        "\n",
        "print(f'Categorical features:\\n{categorical}\\n')\n",
        "print(f'Numerical features:\\n{numerical}')"
      ],
      "execution_count": 6,
      "outputs": [
        {
          "output_type": "stream",
          "text": [
            "Categorical features:\n",
            "['account_status', 'credit_history', 'purpose', 'savings_account', 'employment_since', 'personal_status_sex', 'guarantors', 'property', 'other_installment_plans', 'housing', 'job', 'phone', 'foreign_worker']\n",
            "\n",
            "Numerical features:\n",
            "['duration', 'credit_amount', 'installment_rate', 'residence_since', 'age', 'number_of_credits', 'people_to_maintain']\n"
          ],
          "name": "stdout"
        }
      ]
    },
    {
      "cell_type": "code",
      "metadata": {
        "id": "PzM2-Kflp3Ep",
        "colab_type": "code",
        "colab": {}
      },
      "source": [
        "# Change a yes/no categorical varibable into numeric one\n",
        "df.replace('A201', 1, inplace=True)\n",
        "df.replace('A202', 0, inplace=True)\n",
        "df.replace('A191', 0, inplace=True)\n",
        "df.replace('A192', 1, inplace=True)\n",
        "\n",
        "#Rescale\n",
        "df.credit_amount = np.log(df.credit_amount)"
      ],
      "execution_count": 0,
      "outputs": []
    },
    {
      "cell_type": "markdown",
      "metadata": {
        "id": "fztzqiCJp3Eu",
        "colab_type": "text"
      },
      "source": [
        "### 2.2 Handling Missing Values"
      ]
    },
    {
      "cell_type": "markdown",
      "metadata": {
        "id": "6FBBct1bp3Ev",
        "colab_type": "text"
      },
      "source": [
        "NaN in Pandas:\n",
        "1. Nan != NaN (whereas None == None)  \n",
        "2. When summing data, NaN values will be treated as zero.   \n",
        "If the data are all NA, the result will be 0.  \n",
        "\n"
      ]
    },
    {
      "cell_type": "code",
      "metadata": {
        "scrolled": true,
        "id": "JR8UvCG5p3Ew",
        "colab_type": "code",
        "colab": {}
      },
      "source": [
        "# For more convenient operations for missing values, replace ? with NaN\n",
        "# As we see, there are too many missing values to remove these points from the dataset\n",
        "df.replace(\"?\", np.nan, inplace=True)"
      ],
      "execution_count": 0,
      "outputs": []
    },
    {
      "cell_type": "code",
      "metadata": {
        "scrolled": false,
        "id": "TyLPZsjBp3E0",
        "colab_type": "code",
        "outputId": "8badc5c8-06ec-49c0-d36a-2d22f62bd2ce",
        "colab": {
          "base_uri": "https://localhost:8080/",
          "height": 408
        }
      },
      "source": [
        "print(f'Number of Missing Values:\\n\\n{df.isnull().sum()}')"
      ],
      "execution_count": 9,
      "outputs": [
        {
          "output_type": "stream",
          "text": [
            "Number of Missing Values:\n",
            "\n",
            "account_status               0\n",
            "duration                     0\n",
            "credit_history               0\n",
            "purpose                    173\n",
            "credit_amount                0\n",
            "savings_account              0\n",
            "employment_since           496\n",
            "installment_rate             0\n",
            "personal_status_sex          0\n",
            "guarantors                   0\n",
            "residence_since              0\n",
            "property                     0\n",
            "age                          0\n",
            "other_installment_plans      0\n",
            "housing                      0\n",
            "number_of_credits            0\n",
            "job                        232\n",
            "people_to_maintain           0\n",
            "phone                        0\n",
            "foreign_worker             360\n",
            "dtype: int64\n"
          ],
          "name": "stdout"
        }
      ]
    },
    {
      "cell_type": "code",
      "metadata": {
        "id": "IoZDR0ZKp3E4",
        "colab_type": "code",
        "outputId": "2aca89eb-6152-4cd8-ceda-3606029ab53e",
        "colab": {
          "base_uri": "https://localhost:8080/",
          "height": 51
        }
      },
      "source": [
        "# Grab missing columns\n",
        "missing_columns = ['purpose', 'employment_since', 'job', 'foreign_worker']\n",
        "\n",
        "# create df with features that are fully available\n",
        "df_X = df.dropna(axis=1, how='any')\n",
        "print(f'Comparing the data frame with all featrues {df.shape}')\n",
        "print(f'to the one with with columns where no featrues ar emissing {df_X.shape}')"
      ],
      "execution_count": 10,
      "outputs": [
        {
          "output_type": "stream",
          "text": [
            "Comparing the data frame with all featrues (1000, 20)\n",
            "to the one with with columns where no featrues ar emissing (1000, 16)\n"
          ],
          "name": "stdout"
        }
      ]
    },
    {
      "cell_type": "code",
      "metadata": {
        "id": "5nOYxryGp3E6",
        "colab_type": "code",
        "outputId": "e834ee97-10d0-4067-bd5a-4a983aebd5ce",
        "colab": {
          "base_uri": "https://localhost:8080/",
          "height": 102
        }
      },
      "source": [
        "# Percentage of missing values\n",
        "df[missing_columns].isnull().sum()/len(df)"
      ],
      "execution_count": 11,
      "outputs": [
        {
          "output_type": "execute_result",
          "data": {
            "text/plain": [
              "purpose             0.173\n",
              "employment_since    0.496\n",
              "job                 0.232\n",
              "foreign_worker      0.360\n",
              "dtype: float64"
            ]
          },
          "metadata": {
            "tags": []
          },
          "execution_count": 11
        }
      ]
    },
    {
      "cell_type": "markdown",
      "metadata": {
        "id": "PaPBHlblp3E9",
        "colab_type": "text"
      },
      "source": [
        "Purpose - 17.3%.   \n",
        "Employment since - 49.6%  \n",
        "job - 0.23%.   \n",
        "foreign worker - 36%. "
      ]
    },
    {
      "cell_type": "code",
      "metadata": {
        "id": "d0Kvd8e6p3E_",
        "colab_type": "code",
        "outputId": "282bc5ec-f6ee-4f29-d01e-07866f95a0b0",
        "colab": {
          "base_uri": "https://localhost:8080/",
          "height": 540
        }
      },
      "source": [
        "mno.matrix(df, figsize = (10, 6))"
      ],
      "execution_count": 12,
      "outputs": [
        {
          "output_type": "execute_result",
          "data": {
            "text/plain": [
              "<matplotlib.axes._subplots.AxesSubplot at 0x7fac6dbb5588>"
            ]
          },
          "metadata": {
            "tags": []
          },
          "execution_count": 12
        },
        {
          "output_type": "display_data",
          "data": {
            "image/png": "[encoded data removed]",
            "text/plain": [
              "<Figure size 720x432 with 2 Axes>"
            ]
          },
          "metadata": {
            "tags": []
          }
        }
      ]
    },
    {
      "cell_type": "code",
      "metadata": {
        "id": "n0KBBiX-p3FC",
        "colab_type": "code",
        "colab": {}
      },
      "source": [
        "#pd.crosstab(label, df['credit_history'])"
      ],
      "execution_count": 0,
      "outputs": []
    },
    {
      "cell_type": "markdown",
      "metadata": {
        "id": "z19bD-wgp3FE",
        "colab_type": "text"
      },
      "source": [
        "There are many options we could consider when replacing a missing value, for example:\n",
        "\n",
        "- A constant value that has meaning within the domain, such as 0, distinct from all other values.  \n",
        "- A value from another randomly selected record.  \n",
        "- A mean, median or mode value for the column.  \n",
        "- A value estimated by another predictive model. "
      ]
    },
    {
      "cell_type": "markdown",
      "metadata": {
        "id": "_cE5S0VKp3FF",
        "colab_type": "text"
      },
      "source": [
        "Prediction model is one of the sophisticated method for handling missing data.   \n",
        "Here, we create a predictive model to estimate values   \n",
        "that will substitute the missing data.  \n",
        "In this case, we divide our data set into two sets:   \n",
        "One set with no missing values for the variable and another one with missing values.  \n",
        "First data set become training data set of the model while second data set with missing values   \n",
        "is test data set and variable with missing values is treated as target variable.  \n",
        "Next, we create a model to predict target variable based on other attributes   \n",
        "of the training data set and populate missing values of test data set.\n",
        "\n"
      ]
    },
    {
      "cell_type": "code",
      "metadata": {
        "scrolled": true,
        "id": "SEoG4Phhp3FI",
        "colab_type": "code",
        "outputId": "e1b53b92-9e41-4c7e-c9ab-ee24351c8b86",
        "colab": {
          "base_uri": "https://localhost:8080/",
          "height": 85
        }
      },
      "source": [
        "print(df.shape)\n",
        "# Dropping not an option: too much data lost\n",
        "print(df.dropna().shape)\n",
        "#no data points withh all values missing\n",
        "print(df.dropna(how='all').shape)\n",
        "# ?? maybe it makes sense to remove data points with many missing things\n",
        "print(df.dropna(subset=['purpose', 'foreign_worker', 'employment_since'], \n",
        "                how='all').shape)\n",
        "# print(df.purpose.value_counts(dropna=False))"
      ],
      "execution_count": 14,
      "outputs": [
        {
          "output_type": "stream",
          "text": [
            "(1000, 20)\n",
            "(203, 20)\n",
            "(1000, 20)\n",
            "(969, 20)\n"
          ],
          "name": "stdout"
        }
      ]
    },
    {
      "cell_type": "markdown",
      "metadata": {
        "id": "SXaEDsNrp3FK",
        "colab_type": "text"
      },
      "source": [
        "## 2. Data Pre-Processing"
      ]
    },
    {
      "cell_type": "markdown",
      "metadata": {
        "id": "YICKwHobp3FL",
        "colab_type": "text"
      },
      "source": [
        "### 2.1 Feature Representation"
      ]
    },
    {
      "cell_type": "markdown",
      "metadata": {
        "id": "xZwA9Xj6p3FN",
        "colab_type": "text"
      },
      "source": [
        "#### 2.1.1 Numerical"
      ]
    },
    {
      "cell_type": "code",
      "metadata": {
        "id": "x0FBkGw2p3FN",
        "colab_type": "code",
        "colab": {}
      },
      "source": [
        "# Ranges of values \n",
        "def display_range(df, numerical):\n",
        "    for pos in range(len(numerical)):\n",
        "        print(f'{numerical[pos]} : {df[numerical[pos]].min()} - \\\n",
        "              {df[numerical[pos]].max()}')"
      ],
      "execution_count": 0,
      "outputs": []
    },
    {
      "cell_type": "code",
      "metadata": {
        "scrolled": true,
        "id": "v_OefjRSp3FP",
        "colab_type": "code",
        "outputId": "ba4be24f-df1c-42f5-cc6c-d0ba1c9768fb",
        "colab": {
          "base_uri": "https://localhost:8080/",
          "height": 136
        }
      },
      "source": [
        "display_range(df, numerical)"
      ],
      "execution_count": 16,
      "outputs": [
        {
          "output_type": "stream",
          "text": [
            "duration : 4 -               72\n",
            "credit_amount : 5.521460917862246 -               9.82140944150052\n",
            "installment_rate : 1 -               4\n",
            "residence_since : 1 -               4\n",
            "age : 19 -               75\n",
            "number_of_credits : 1 -               4\n",
            "people_to_maintain : 1 -               2\n"
          ],
          "name": "stdout"
        }
      ]
    },
    {
      "cell_type": "code",
      "metadata": {
        "id": "F2Dr_Unyp3FS",
        "colab_type": "code",
        "outputId": "be12315b-b9bd-4b1d-cb44-4d743f2343d9",
        "colab": {
          "base_uri": "https://localhost:8080/",
          "height": 941
        }
      },
      "source": [
        "# As we see, the scales are very different, so we will have to normalize data\n",
        "df.hist(figsize = (10,13))"
      ],
      "execution_count": 17,
      "outputs": [
        {
          "output_type": "execute_result",
          "data": {
            "text/plain": [
              "array([[<matplotlib.axes._subplots.AxesSubplot object at 0x7fac6b2a3ac8>,\n",
              "        <matplotlib.axes._subplots.AxesSubplot object at 0x7fac6b2cd0f0>,\n",
              "        <matplotlib.axes._subplots.AxesSubplot object at 0x7fac69a70668>],\n",
              "       [<matplotlib.axes._subplots.AxesSubplot object at 0x7fac69a18be0>,\n",
              "        <matplotlib.axes._subplots.AxesSubplot object at 0x7fac69a4a198>,\n",
              "        <matplotlib.axes._subplots.AxesSubplot object at 0x7fac699f0710>],\n",
              "       [<matplotlib.axes._subplots.AxesSubplot object at 0x7fac69999c88>,\n",
              "        <matplotlib.axes._subplots.AxesSubplot object at 0x7fac699ca278>,\n",
              "        <matplotlib.axes._subplots.AxesSubplot object at 0x7fac699ca2b0>]],\n",
              "      dtype=object)"
            ]
          },
          "metadata": {
            "tags": []
          },
          "execution_count": 17
        },
        {
          "output_type": "display_data",
          "data": {
            "image/png": "[encoded data removed]",
            "text/plain": [
              "<Figure size 720x936 with 9 Axes>"
            ]
          },
          "metadata": {
            "tags": []
          }
        }
      ]
    },
    {
      "cell_type": "code",
      "metadata": {
        "scrolled": true,
        "id": "hSy02RBdp3FW",
        "colab_type": "code",
        "colab": {}
      },
      "source": [
        "# Normalize all numerical attributes\n",
        "def zscore(x):\n",
        "    #assert isinstance(x,np.ndarray), \"x must be a numpy array\"\n",
        "    return (x-np.mean(x)) / np.std(x)"
      ],
      "execution_count": 0,
      "outputs": []
    },
    {
      "cell_type": "code",
      "metadata": {
        "id": "o7sEQSDBp3FY",
        "colab_type": "code",
        "outputId": "99896516-4004-4147-9e7e-c8b978ba8d9c",
        "colab": {
          "base_uri": "https://localhost:8080/",
          "height": 224
        }
      },
      "source": [
        "df = df.apply(lambda x: zscore(x) if x.dtype == 'int64' else x)\n",
        "df.head()"
      ],
      "execution_count": 19,
      "outputs": [
        {
          "output_type": "execute_result",
          "data": {
            "text/html": [
              "<div>\n",
              "<style scoped>\n",
              "    .dataframe tbody tr th:only-of-type {\n",
              "        vertical-align: middle;\n",
              "    }\n",
              "\n",
              "    .dataframe tbody tr th {\n",
              "        vertical-align: top;\n",
              "    }\n",
              "\n",
              "    .dataframe thead th {\n",
              "        text-align: right;\n",
              "    }\n",
              "</style>\n",
              "<table border=\"1\" class=\"dataframe\">\n",
              "  <thead>\n",
              "    <tr style=\"text-align: right;\">\n",
              "      <th></th>\n",
              "      <th>account_status</th>\n",
              "      <th>duration</th>\n",
              "      <th>credit_history</th>\n",
              "      <th>purpose</th>\n",
              "      <th>credit_amount</th>\n",
              "      <th>savings_account</th>\n",
              "      <th>employment_since</th>\n",
              "      <th>installment_rate</th>\n",
              "      <th>personal_status_sex</th>\n",
              "      <th>guarantors</th>\n",
              "      <th>residence_since</th>\n",
              "      <th>property</th>\n",
              "      <th>age</th>\n",
              "      <th>other_installment_plans</th>\n",
              "      <th>housing</th>\n",
              "      <th>number_of_credits</th>\n",
              "      <th>job</th>\n",
              "      <th>people_to_maintain</th>\n",
              "      <th>phone</th>\n",
              "      <th>foreign_worker</th>\n",
              "    </tr>\n",
              "  </thead>\n",
              "  <tbody>\n",
              "    <tr>\n",
              "      <th>0</th>\n",
              "      <td>A14</td>\n",
              "      <td>1.252574</td>\n",
              "      <td>A32</td>\n",
              "      <td>NaN</td>\n",
              "      <td>7.740230</td>\n",
              "      <td>A63</td>\n",
              "      <td>NaN</td>\n",
              "      <td>0.918477</td>\n",
              "      <td>A93</td>\n",
              "      <td>A101</td>\n",
              "      <td>1.046987</td>\n",
              "      <td>A123</td>\n",
              "      <td>0.303788</td>\n",
              "      <td>A143</td>\n",
              "      <td>A152</td>\n",
              "      <td>-0.704926</td>\n",
              "      <td>A173</td>\n",
              "      <td>-0.428290</td>\n",
              "      <td>-0.823318</td>\n",
              "      <td>NaN</td>\n",
              "    </tr>\n",
              "    <tr>\n",
              "      <th>1</th>\n",
              "      <td>A12</td>\n",
              "      <td>-0.240857</td>\n",
              "      <td>A32</td>\n",
              "      <td>A46</td>\n",
              "      <td>7.122060</td>\n",
              "      <td>A65</td>\n",
              "      <td>A73</td>\n",
              "      <td>0.918477</td>\n",
              "      <td>A93</td>\n",
              "      <td>A101</td>\n",
              "      <td>1.046987</td>\n",
              "      <td>A124</td>\n",
              "      <td>2.238742</td>\n",
              "      <td>A143</td>\n",
              "      <td>A153</td>\n",
              "      <td>-0.704926</td>\n",
              "      <td>NaN</td>\n",
              "      <td>-0.428290</td>\n",
              "      <td>-0.823318</td>\n",
              "      <td>1.0</td>\n",
              "    </tr>\n",
              "    <tr>\n",
              "      <th>2</th>\n",
              "      <td>A13</td>\n",
              "      <td>0.256953</td>\n",
              "      <td>A32</td>\n",
              "      <td>A40</td>\n",
              "      <td>6.853299</td>\n",
              "      <td>A61</td>\n",
              "      <td>A74</td>\n",
              "      <td>0.918477</td>\n",
              "      <td>A93</td>\n",
              "      <td>A101</td>\n",
              "      <td>0.140505</td>\n",
              "      <td>A124</td>\n",
              "      <td>0.215835</td>\n",
              "      <td>A141</td>\n",
              "      <td>A153</td>\n",
              "      <td>-0.704926</td>\n",
              "      <td>NaN</td>\n",
              "      <td>2.334869</td>\n",
              "      <td>-0.823318</td>\n",
              "      <td>NaN</td>\n",
              "    </tr>\n",
              "    <tr>\n",
              "      <th>3</th>\n",
              "      <td>A14</td>\n",
              "      <td>-0.489762</td>\n",
              "      <td>A33</td>\n",
              "      <td>A43</td>\n",
              "      <td>7.298445</td>\n",
              "      <td>A61</td>\n",
              "      <td>A73</td>\n",
              "      <td>0.918477</td>\n",
              "      <td>A94</td>\n",
              "      <td>A101</td>\n",
              "      <td>0.140505</td>\n",
              "      <td>A121</td>\n",
              "      <td>-0.223927</td>\n",
              "      <td>A141</td>\n",
              "      <td>A152</td>\n",
              "      <td>1.027079</td>\n",
              "      <td>A173</td>\n",
              "      <td>-0.428290</td>\n",
              "      <td>-0.823318</td>\n",
              "      <td>1.0</td>\n",
              "    </tr>\n",
              "    <tr>\n",
              "      <th>4</th>\n",
              "      <td>A14</td>\n",
              "      <td>0.256953</td>\n",
              "      <td>A32</td>\n",
              "      <td>A40</td>\n",
              "      <td>7.329750</td>\n",
              "      <td>A64</td>\n",
              "      <td>A74</td>\n",
              "      <td>0.918477</td>\n",
              "      <td>A92</td>\n",
              "      <td>A101</td>\n",
              "      <td>0.140505</td>\n",
              "      <td>A123</td>\n",
              "      <td>-0.135974</td>\n",
              "      <td>A143</td>\n",
              "      <td>A152</td>\n",
              "      <td>-0.704926</td>\n",
              "      <td>A173</td>\n",
              "      <td>2.334869</td>\n",
              "      <td>1.214598</td>\n",
              "      <td>1.0</td>\n",
              "    </tr>\n",
              "  </tbody>\n",
              "</table>\n",
              "</div>"
            ],
            "text/plain": [
              "  account_status  duration  ...     phone foreign_worker\n",
              "0            A14  1.252574  ... -0.823318            NaN\n",
              "1            A12 -0.240857  ... -0.823318            1.0\n",
              "2            A13  0.256953  ... -0.823318            NaN\n",
              "3            A14 -0.489762  ... -0.823318            1.0\n",
              "4            A14  0.256953  ...  1.214598            1.0\n",
              "\n",
              "[5 rows x 20 columns]"
            ]
          },
          "metadata": {
            "tags": []
          },
          "execution_count": 19
        }
      ]
    },
    {
      "cell_type": "code",
      "metadata": {
        "id": "CgGNMLJwp3Fa",
        "colab_type": "code",
        "outputId": "7925ee43-2acf-4faa-9cb7-c979bc0b9bb6",
        "colab": {
          "base_uri": "https://localhost:8080/",
          "height": 136
        }
      },
      "source": [
        "display_range(df, numerical)"
      ],
      "execution_count": 20,
      "outputs": [
        {
          "output_type": "stream",
          "text": [
            "duration : -1.4024146328950455 -               4.239435632552691\n",
            "credit_amount : 5.521460917862246 -               9.82140944150052\n",
            "installment_rate : -1.7645135849361222 -               0.9184771676276725\n",
            "residence_since : -1.6724592395536915 -               1.0469866784197903\n",
            "age : -1.4552613021409855 -               3.4700761159597757\n",
            "number_of_credits : -0.704925998389089 -               4.491088731751615\n",
            "people_to_maintain : -0.4282895663715421 -               2.3348689263480837\n"
          ],
          "name": "stdout"
        }
      ]
    },
    {
      "cell_type": "code",
      "metadata": {
        "id": "nfQff5GHp3Fc",
        "colab_type": "code",
        "outputId": "41d61e0e-0284-430b-c285-748c45be4f7a",
        "colab": {
          "base_uri": "https://localhost:8080/",
          "height": 941
        }
      },
      "source": [
        "df.hist(figsize = (10,13))"
      ],
      "execution_count": 21,
      "outputs": [
        {
          "output_type": "execute_result",
          "data": {
            "text/plain": [
              "array([[<matplotlib.axes._subplots.AxesSubplot object at 0x7fac696dacc0>,\n",
              "        <matplotlib.axes._subplots.AxesSubplot object at 0x7fac696b66d8>,\n",
              "        <matplotlib.axes._subplots.AxesSubplot object at 0x7fac6965ba20>],\n",
              "       [<matplotlib.axes._subplots.AxesSubplot object at 0x7fac69683f98>,\n",
              "        <matplotlib.axes._subplots.AxesSubplot object at 0x7fac69632550>,\n",
              "        <matplotlib.axes._subplots.AxesSubplot object at 0x7fac695d9ac8>],\n",
              "       [<matplotlib.axes._subplots.AxesSubplot object at 0x7fac6958c080>,\n",
              "        <matplotlib.axes._subplots.AxesSubplot object at 0x7fac695b4630>,\n",
              "        <matplotlib.axes._subplots.AxesSubplot object at 0x7fac695b4668>]],\n",
              "      dtype=object)"
            ]
          },
          "metadata": {
            "tags": []
          },
          "execution_count": 21
        },
        {
          "output_type": "display_data",
          "data": {
            "image/png": "[encoded data removed]",
            "text/plain": [
              "<Figure size 720x936 with 9 Axes>"
            ]
          },
          "metadata": {
            "tags": []
          }
        }
      ]
    },
    {
      "cell_type": "markdown",
      "metadata": {
        "id": "K91mr0S5p3Ff",
        "colab_type": "text"
      },
      "source": [
        "#### 2.1.2 Categorical\n"
      ]
    },
    {
      "cell_type": "code",
      "metadata": {
        "id": "jVOHsRnjp3Fg",
        "colab_type": "code",
        "colab": {}
      },
      "source": [
        "# Cols without missing values = X, with missing values become y one by one"
      ],
      "execution_count": 0,
      "outputs": []
    },
    {
      "cell_type": "code",
      "metadata": {
        "id": "PsBYxU69p3Fj",
        "colab_type": "code",
        "outputId": "4dd57561-2e7a-4fa7-d027-2171d8b4b4e8",
        "colab": {
          "base_uri": "https://localhost:8080/",
          "height": 255
        }
      },
      "source": [
        "# Show how many unique categorical values we have: useful for one-hot encoding\n",
        "df[categorical].nunique()"
      ],
      "execution_count": 23,
      "outputs": [
        {
          "output_type": "execute_result",
          "data": {
            "text/plain": [
              "account_status              4\n",
              "credit_history              5\n",
              "purpose                    10\n",
              "savings_account             5\n",
              "employment_since            5\n",
              "personal_status_sex         4\n",
              "guarantors                  3\n",
              "property                    4\n",
              "other_installment_plans     3\n",
              "housing                     3\n",
              "job                         4\n",
              "phone                       2\n",
              "foreign_worker              2\n",
              "dtype: int64"
            ]
          },
          "metadata": {
            "tags": []
          },
          "execution_count": 23
        }
      ]
    },
    {
      "cell_type": "code",
      "metadata": {
        "id": "QND4PsTkp3Fl",
        "colab_type": "code",
        "outputId": "808d056b-6b0e-4110-ef07-5517b4ddaab8",
        "colab": {
          "base_uri": "https://localhost:8080/",
          "height": 221
        }
      },
      "source": [
        "# Feature representation\n",
        "\n",
        "print(\"Unique categorical values:\")\n",
        "for att in df.select_dtypes(include=[object]):\n",
        "    print(att,\":\", df[att].unique())\n",
        "    \n",
        "# We will have to represent features differently "
      ],
      "execution_count": 24,
      "outputs": [
        {
          "output_type": "stream",
          "text": [
            "Unique categorical values:\n",
            "account_status : ['A14' 'A12' 'A13' 'A11']\n",
            "credit_history : ['A32' 'A33' 'A34' 'A30' 'A31']\n",
            "purpose : [nan 'A46' 'A40' 'A43' 'A41' 'A42' 'A49' 'A410' 'A45' 'A48' 'A44']\n",
            "savings_account : ['A63' 'A65' 'A61' 'A64' 'A62']\n",
            "employment_since : [nan 'A73' 'A74' 'A75' 'A72' 'A71']\n",
            "personal_status_sex : ['A93' 'A94' 'A92' 'A91']\n",
            "guarantors : ['A101' 'A102' 'A103']\n",
            "property : ['A123' 'A124' 'A121' 'A122']\n",
            "other_installment_plans : ['A143' 'A141' 'A142']\n",
            "housing : ['A152' 'A153' 'A151']\n",
            "job : ['A173' nan 'A174' 'A172' 'A171']\n"
          ],
          "name": "stdout"
        }
      ]
    },
    {
      "cell_type": "code",
      "metadata": {
        "id": "mNuGy9blp3Fo",
        "colab_type": "code",
        "colab": {}
      },
      "source": [
        "def str_to_num(df):\n",
        "    ''' Encodes nominal features to numeric features \n",
        "    return: data frame with all-numeric features, a dict to decode '''\n",
        "    \n",
        "\n",
        "    # create a new df with categorical features only, encoded as numbers\n",
        "    categorical, numerical = categorical_numerical_split(df)\n",
        "    \n",
        "    enc = LabelEncoder()\n",
        "    df_encoded = df[categorical].apply(lambda x: enc.fit_transform(x))\n",
        "\n",
        "    df_encoded_concat = pd.concat([df_encoded, df[numerical]], axis=1)\n",
        "    \n",
        "    # Create a dict to decode numeric values\n",
        "    d = defaultdict()\n",
        "    for col_name in df[categorical]:\n",
        "        # e.g.: account_status_A14 :  3\n",
        "        for unique_str_val, unique_num_val in zip(\n",
        "            df[col_name].unique(), df_encoded[col_name].unique()):\n",
        "                d[col_name + '_' + unique_str_val] = unique_num_val\n",
        "                \n",
        "#         d[col_name] = df_encoded[]\n",
        "    \n",
        "    return df_encoded_concat , d\n"
      ],
      "execution_count": 0,
      "outputs": []
    },
    {
      "cell_type": "code",
      "metadata": {
        "scrolled": true,
        "id": "gngY4Gt4p3Fq",
        "colab_type": "code",
        "outputId": "08a5e958-1a29-4cd4-e658-ebd7facb3f71",
        "colab": {
          "base_uri": "https://localhost:8080/",
          "height": 544
        }
      },
      "source": [
        "df_X_enc, df_X_enc_dict = str_to_num(df_X)\n",
        "\n",
        "# Print out new numericaly encoded features\n",
        "for k,v in df_X_enc_dict.items():\n",
        "    print(k, ': ', v)\n"
      ],
      "execution_count": 26,
      "outputs": [
        {
          "output_type": "stream",
          "text": [
            "account_status_A14 :  3\n",
            "account_status_A12 :  1\n",
            "account_status_A13 :  2\n",
            "account_status_A11 :  0\n",
            "credit_history_A32 :  2\n",
            "credit_history_A33 :  3\n",
            "credit_history_A34 :  4\n",
            "credit_history_A30 :  0\n",
            "credit_history_A31 :  1\n",
            "savings_account_A63 :  2\n",
            "savings_account_A65 :  4\n",
            "savings_account_A61 :  0\n",
            "savings_account_A64 :  3\n",
            "savings_account_A62 :  1\n",
            "personal_status_sex_A93 :  2\n",
            "personal_status_sex_A94 :  3\n",
            "personal_status_sex_A92 :  1\n",
            "personal_status_sex_A91 :  0\n",
            "guarantors_A101 :  0\n",
            "guarantors_A102 :  1\n",
            "guarantors_A103 :  2\n",
            "property_A123 :  2\n",
            "property_A124 :  3\n",
            "property_A121 :  0\n",
            "property_A122 :  1\n",
            "other_installment_plans_A143 :  2\n",
            "other_installment_plans_A141 :  0\n",
            "other_installment_plans_A142 :  1\n",
            "housing_A152 :  1\n",
            "housing_A153 :  2\n",
            "housing_A151 :  0\n"
          ],
          "name": "stdout"
        }
      ]
    },
    {
      "cell_type": "code",
      "metadata": {
        "id": "Ua5AxLr3p3Fs",
        "colab_type": "code",
        "outputId": "2f7a6a5c-cac2-4d09-ce2d-8fa58850ef8f",
        "colab": {
          "base_uri": "https://localhost:8080/",
          "height": 34
        }
      },
      "source": [
        "# Make sure there are still 16 feature\n",
        "print(df_X_enc.shape)"
      ],
      "execution_count": 27,
      "outputs": [
        {
          "output_type": "stream",
          "text": [
            "(1000, 16)\n"
          ],
          "name": "stdout"
        }
      ]
    },
    {
      "cell_type": "code",
      "metadata": {
        "id": "1nGyEpg5p3Fu",
        "colab_type": "code",
        "colab": {}
      },
      "source": [
        "def to_one_hot(df, verbose=False):\n",
        "    '''Encodes specified columns of a dataframe as one-hot vectors\n",
        "    \n",
        "    df: dataframe \n",
        "    to_onehot: list of columns to encode\n",
        "    \n",
        "    Returns encoded df\n",
        "    '''\n",
        "    \n",
        "    categorical, numerical = categorical_numerical_split(df)\n",
        "    \n",
        "    # 1-hot encoding for the categorical variables\n",
        "    df_only_one_hot = pd.get_dummies(df[categorical])\n",
        "    \n",
        "    if verbose == True:\n",
        "        print(f'new 1-hot-encoded variables:\\n {list(df_only_one_hot.columns)}')\n",
        "    \n",
        "    # Concatenate numerical and categorical data\n",
        "    df_X_onehot = pd.concat([df[numerical], df_only_one_hot], axis = 1)\n",
        "    \n",
        "    if verbose == True:\n",
        "        print(f'Shape: {df_X_onehot.shape}')\n",
        "        df_X_onehot.head()\n",
        "    \n",
        "    return df_X_onehot"
      ],
      "execution_count": 0,
      "outputs": []
    },
    {
      "cell_type": "code",
      "metadata": {
        "scrolled": true,
        "id": "GWbC-1cEp3Fv",
        "colab_type": "code",
        "outputId": "6c48c13b-3164-4828-90e6-0a492b9aba95",
        "colab": {
          "base_uri": "https://localhost:8080/",
          "height": 88
        }
      },
      "source": [
        "# Fatures that shoud be encoded for X_train\n",
        "df_X_onehot = to_one_hot(df_X, verbose=True)"
      ],
      "execution_count": 29,
      "outputs": [
        {
          "output_type": "stream",
          "text": [
            "new 1-hot-encoded variables:\n",
            " ['account_status_A11', 'account_status_A12', 'account_status_A13', 'account_status_A14', 'credit_history_A30', 'credit_history_A31', 'credit_history_A32', 'credit_history_A33', 'credit_history_A34', 'savings_account_A61', 'savings_account_A62', 'savings_account_A63', 'savings_account_A64', 'savings_account_A65', 'personal_status_sex_A91', 'personal_status_sex_A92', 'personal_status_sex_A93', 'personal_status_sex_A94', 'guarantors_A101', 'guarantors_A102', 'guarantors_A103', 'property_A121', 'property_A122', 'property_A123', 'property_A124', 'other_installment_plans_A141', 'other_installment_plans_A142', 'other_installment_plans_A143', 'housing_A151', 'housing_A152', 'housing_A153']\n",
            "Shape: (1000, 39)\n"
          ],
          "name": "stdout"
        }
      ]
    },
    {
      "cell_type": "markdown",
      "metadata": {
        "id": "0ib5Gmwap3Fy",
        "colab_type": "text"
      },
      "source": [
        "### How balanced is the dataset?"
      ]
    },
    {
      "cell_type": "code",
      "metadata": {
        "scrolled": false,
        "id": "34uy-WYEp3F2",
        "colab_type": "code",
        "outputId": "0168fda8-96c1-4a81-f984-adfaca0d9fd1",
        "colab": {
          "base_uri": "https://localhost:8080/",
          "height": 333
        }
      },
      "source": [
        "# 1 = good, trustworthy\n",
        "# 0 = bad, Not trustworthy\n",
        "print(label.value_counts())\n",
        "\n",
        "label.value_counts().plot(kind='bar', label= 'Target Values')\n",
        "# There are more than twice as many creditworthy examples"
      ],
      "execution_count": 30,
      "outputs": [
        {
          "output_type": "stream",
          "text": [
            "1    700\n",
            "0    300\n",
            "Name: creditworthy, dtype: int64\n"
          ],
          "name": "stdout"
        },
        {
          "output_type": "execute_result",
          "data": {
            "text/plain": [
              "<matplotlib.axes._subplots.AxesSubplot at 0x7fac694e42b0>"
            ]
          },
          "metadata": {
            "tags": []
          },
          "execution_count": 30
        },
        {
          "output_type": "display_data",
          "data": {
            "image/png": "[encoded data removed]",
            "text/plain": [
              "<Figure size 432x288 with 1 Axes>"
            ]
          },
          "metadata": {
            "tags": []
          }
        }
      ]
    },
    {
      "cell_type": "markdown",
      "metadata": {
        "id": "P4h9ctGMp3F4",
        "colab_type": "text"
      },
      "source": [
        "### Balancing the Dataset  \n",
        "1. Oversampling: It is the process of generating synthetic data that tries   \n",
        "to randomly generate a sample of the attributes from observations in the minority class.   \n",
        "The most common technique is called SMOTE (Synthetic Minority Over-sampling Technique).   \n",
        "In simple terms, it looks at the feature space for the minority class data points   \n",
        "and considers its k nearest neighbours.\n",
        "\n",
        "[CBHK2002]\t(1, 2) N. V. Chawla, K. W. Bowyer, L. O.Hall, W. P. Kegelmeyer,   \n",
        "“SMOTE: synthetic minority over-sampling technique,” Journal of artificial intelligence research,   \n",
        "16, 321-357, 2002."
      ]
    },
    {
      "cell_type": "code",
      "metadata": {
        "id": "ry7uh4_-p3F4",
        "colab_type": "code",
        "colab": {}
      },
      "source": [
        "def balance_data(df,label):\n",
        "    sm = SMOTE(sampling_strategy='minority', random_state=7)\n",
        "\n",
        "    # Fit the model to generate the data.\n",
        "    cols = df.columns\n",
        "    df, label = sm.fit_sample(df, label)\n",
        "    df = pd.DataFrame(df)\n",
        "    label = pd.Series(label)\n",
        "\n",
        "    df.columns = cols\n",
        "    return df,label"
      ],
      "execution_count": 0,
      "outputs": []
    },
    {
      "cell_type": "code",
      "metadata": {
        "scrolled": true,
        "id": "UV5ULZrmp3F6",
        "colab_type": "code",
        "colab": {}
      },
      "source": [
        "# df_to_balance_enc = pd.concat([df_X_enc, df[missing_columns]], axis=1)\n",
        "# df_to_balance_onehot = pd.concat([df_X_onehot, df[missing_columns]], axis=1)"
      ],
      "execution_count": 0,
      "outputs": []
    },
    {
      "cell_type": "code",
      "metadata": {
        "scrolled": true,
        "id": "-GpvonaKp3F7",
        "colab_type": "code",
        "outputId": "ff0728d4-b5ab-42c8-dc71-085ebfd00c3b",
        "colab": {
          "base_uri": "https://localhost:8080/",
          "height": 333
        }
      },
      "source": [
        "label_orig = label\n",
        "df_X_enc, label_enc = balance_data(df_X_enc,label_orig)\n",
        "df_X_onehot, label_onehot = balance_data(df_X_onehot, label_orig)\n",
        "\n",
        "# 1 = good, trustworthy\n",
        "# 0 = bad, Not trustworthy\n",
        "print(label_enc.value_counts())\n",
        "\n",
        "label_enc.value_counts().plot(kind='bar', label= 'Target Values')\n",
        "# There are more than twice as many creditworthy examples"
      ],
      "execution_count": 33,
      "outputs": [
        {
          "output_type": "stream",
          "text": [
            "1    700\n",
            "0    700\n",
            "dtype: int64\n"
          ],
          "name": "stdout"
        },
        {
          "output_type": "execute_result",
          "data": {
            "text/plain": [
              "<matplotlib.axes._subplots.AxesSubplot at 0x7fac69250160>"
            ]
          },
          "metadata": {
            "tags": []
          },
          "execution_count": 33
        },
        {
          "output_type": "display_data",
          "data": {
            "image/png": "[encoded data removed]",
            "text/plain": [
              "<Figure size 432x288 with 1 Axes>"
            ]
          },
          "metadata": {
            "tags": []
          }
        }
      ]
    },
    {
      "cell_type": "code",
      "metadata": {
        "scrolled": true,
        "id": "Yq7eieuAp3F-",
        "colab_type": "code",
        "outputId": "721d7162-e92c-4733-cad8-18cb934f7e1a",
        "colab": {
          "base_uri": "https://localhost:8080/",
          "height": 350
        }
      },
      "source": [
        "print(label_enc.value_counts())\n",
        "\n",
        "print(df_X_onehot.shape)\n",
        "label_onehot.value_counts().plot(kind='bar', label= 'Target Values')"
      ],
      "execution_count": 34,
      "outputs": [
        {
          "output_type": "stream",
          "text": [
            "1    700\n",
            "0    700\n",
            "dtype: int64\n",
            "(1400, 39)\n"
          ],
          "name": "stdout"
        },
        {
          "output_type": "execute_result",
          "data": {
            "text/plain": [
              "<matplotlib.axes._subplots.AxesSubplot at 0x7fac6927d6a0>"
            ]
          },
          "metadata": {
            "tags": []
          },
          "execution_count": 34
        },
        {
          "output_type": "display_data",
          "data": {
            "image/png": "[encoded data removed]",
            "text/plain": [
              "<Figure size 432x288 with 1 Axes>"
            ]
          },
          "metadata": {
            "tags": []
          }
        }
      ]
    },
    {
      "cell_type": "markdown",
      "metadata": {
        "id": "djmyR5Wip3GB",
        "colab_type": "text"
      },
      "source": [
        "### Evaluation"
      ]
    },
    {
      "cell_type": "markdown",
      "metadata": {
        "id": "WKV0Kd9qp3GC",
        "colab_type": "raw"
      },
      "source": [
        "Cost Matrix  \n",
        "\n",
        "|        \t| 0_pred \t| 1_pred \t|\n",
        "|--------\t|--------\t|--------\t|\n",
        "| 0_true \t| 0      \t| 1      \t|\n",
        "| 1_true \t| 5      \t| 0      \t|\n",
        "\n",
        "(0 = not creditworthy,  1 = creditworthy)\n",
        "\n",
        "the rows represent the actual classification and the columns\n",
        "the predicted classification.\n",
        "\n",
        "It is worse to class a customer as good when they are bad (5), \n",
        "than it is to class a customer as bad when they are good (1).\n"
      ]
    },
    {
      "cell_type": "markdown",
      "metadata": {
        "id": "Sd3ojCVpp3GC",
        "colab_type": "text"
      },
      "source": [
        "Aim: how many people out of those who thought werr trustworthy, were actually trustworthy\n",
        "\n",
        "Aim: reduce the number of false positives, to increase precision  \n",
        "Note: A model that produces no false positives has a precision of 1.0.\n",
        "\n",
        "![]()"
      ]
    },
    {
      "cell_type": "code",
      "metadata": {
        "id": "ebnaVbDlp3GD",
        "colab_type": "code",
        "colab": {}
      },
      "source": [
        "# Function for evaluation reports\n",
        "def cross_validate(clf, X_train, y_train, metrics=['precision', 'accuracy']):\n",
        "    ''' 10-fold Cross Validation on training and validation data \n",
        "        Nothing to return '''\n",
        "\n",
        "#     metrics = ['precision', 'accuracy'] #, 'f1_micro'\n",
        "    for metric in metrics: \n",
        "        scores = cross_val_score(clf, X_train, y_train, cv=10, scoring=metric)\n",
        "        \n",
        "        # The mean score and standard deviation of the score estimate\n",
        "        print(\"Cross Validation %s: %0.2f (+/- %0.2f)\" % (\n",
        "            metric, scores.mean(), scores.std()))\n",
        "    \n",
        "    return \n",
        "\n",
        "def train(clf, X_train, y_train):\n",
        "    '''Fits classifier'''\n",
        "    print(f'Training a {clf.__class__.__name__}')\n",
        "    print(f'with a training set size of {len(X_train)}')\n",
        "    clf.fit(X_train, y_train)\n",
        "    return clf\n",
        "\n",
        "\n",
        "def predict(clf, X_test):    \n",
        "    ''' Predict on unseen test data \n",
        "        Return predicted labels '''\n",
        "    y_pred = clf.predict(X_test)\n",
        "    return y_pred\n",
        "\n",
        "\n",
        "def evaluate_test(y_test, y_pred):\n",
        "    '''Evaluate on Precision and Accuracy'''\n",
        "    print(f'Test Precision Score: {precision_score(y_test, y_pred)}')\n",
        "    print(f'Test Accuracy Score: {accuracy_score(y_test, y_pred)}')\n",
        "    \n",
        "    tn, fp, fn, tp = confusion_matrix(y_test, y_pred).ravel()\n",
        "    print(f'Test Confusion Matrix: \\n {confusion_matrix(y_test, y_pred)}')\n",
        "    print(f'Number of False Positives: {fp}')\n",
        "    \n",
        "    return \n",
        "\n",
        "def train_predict(clf, X_train, y_train, X_test, y_test=None):\n",
        "    # Train the classifier\n",
        "    clf = train(clf, X_train, y_train)\n",
        "    \n",
        "    # Predict labes\n",
        "    y_pred = predict(clf, X_test)\n",
        "    \n",
        "    return y_pred"
      ],
      "execution_count": 0,
      "outputs": []
    },
    {
      "cell_type": "markdown",
      "metadata": {
        "id": "3OB9meOlp3GE",
        "colab_type": "text"
      },
      "source": [
        "### Random Forest"
      ]
    },
    {
      "cell_type": "markdown",
      "metadata": {
        "id": "cs798Abcp3GE",
        "colab_type": "text"
      },
      "source": [
        "Random forest classifier creates a set of decision trees from randomly selected   \n",
        "subset of training set. It then aggregates the votes from different decision trees   \n",
        "to decide the final class of the test object."
      ]
    },
    {
      "cell_type": "code",
      "metadata": {
        "scrolled": false,
        "id": "c7J0w4uOp3GF",
        "colab_type": "code",
        "outputId": "e001e8cf-da0f-453e-a185-773afaee6883",
        "colab": {
          "base_uri": "https://localhost:8080/",
          "height": 391
        }
      },
      "source": [
        "# Benchmark With One Hot and Labelencoder:\n",
        "\n",
        "df_Xs = [df_X_enc, df_X_onehot]\n",
        "labels = [label_enc, label_onehot]\n",
        "names = ['Numerically Encoded Features: ', 'One-hot Encoded Features']\n",
        "\n",
        "for df_X_encoded, lab, name in zip(df_Xs, labels, names):\n",
        "    print('\\n', name)\n",
        "    print(df_X_encoded.shape)\n",
        "    # Spliting X and y into train and test version\n",
        "    X_train, X_test, y_train, y_test = train_test_split(\n",
        "        df_X_encoded, lab, test_size = 0.25, random_state=4)\n",
        "\n",
        "    clf = RandomForestClassifier(n_estimators=100, random_state=33)\n",
        "    y_pred = train_predict(clf, X_train, y_train, X_test, y_test)\n",
        "    evaluate_test(y_test, y_pred)"
      ],
      "execution_count": 36,
      "outputs": [
        {
          "output_type": "stream",
          "text": [
            "\n",
            " Numerically Encoded Features: \n",
            "(1400, 16)\n",
            "Training a RandomForestClassifier\n",
            "with a training set size of 1050\n",
            "Test Precision Score: 0.88\n",
            "Test Accuracy Score: 0.8628571428571429\n",
            "Test Confusion Matrix: \n",
            " [[148  21]\n",
            " [ 27 154]]\n",
            "Number of False Positives: 21\n",
            "\n",
            " One-hot Encoded Features\n",
            "(1400, 39)\n",
            "Training a RandomForestClassifier\n",
            "with a training set size of 1050\n",
            "Test Precision Score: 0.8385416666666666\n",
            "Test Accuracy Score: 0.8542857142857143\n",
            "Test Confusion Matrix: \n",
            " [[138  31]\n",
            " [ 20 161]]\n",
            "Number of False Positives: 31\n"
          ],
          "name": "stdout"
        }
      ]
    },
    {
      "cell_type": "code",
      "metadata": {
        "id": "7sU5xjdPp3GH",
        "colab_type": "code",
        "colab": {}
      },
      "source": [
        "# Random Forest: Grid_Search\n",
        "\n",
        "def grid_search(model, param_grid, X_train, y_train, scoring='precision'): \n",
        "    grid_search = GridSearchCV(model, param_grid=param_grid, cv=5, \n",
        "                               scoring=scoring, verbose=1)\n",
        "    grid_search.fit(X_train, y_train)\n",
        "    \n",
        "    print(f'Best Score: {grid_search.best_score_}')\n",
        "    print(f'Best Params: {grid_search.best_params_}')\n",
        "    \n",
        "#     print(f'Best Estimator: \\n {grid_search.best_estimator_}')\n",
        "    return grid_search.best_estimator_\n",
        "\n",
        "\n",
        "def randomforestclf_grid_search(X_train, y_train, X_test, y_test):\n",
        "    \n",
        "    num_f = X_train.shape[1]\n",
        "    num_f_less = int(num_f - (num_f/6))\n",
        "    \n",
        "    #Seting the Hyper Parameters\n",
        "    param_grid = {\"max_depth\": [3, 5, 7, 10, 20, None],\n",
        "              \"n_estimators\":[1, 10, 50, 150],\n",
        "            #defalut “auto”: max_features=sqrt(n_features)\n",
        "              \"max_features\": [1, 10, num_f_less, num_f, \"auto\"], \n",
        "              \"criterion\" : ['gini','entropy']}\n",
        "\n",
        "    #Creating the classifier\n",
        "    model = RandomForestClassifier(random_state=33)\n",
        "\n",
        "    best_estim = grid_search(model, param_grid, X_train, y_train)\n",
        "\n",
        "    return best_estim"
      ],
      "execution_count": 0,
      "outputs": []
    },
    {
      "cell_type": "markdown",
      "metadata": {
        "id": "maYE0MB-p3GN",
        "colab_type": "text"
      },
      "source": [
        "**Gini**\n",
        "\n",
        "* Favors larger partitions. \n",
        "*  Uses squared proportion of classes.  \n",
        "* Perfectly classified, Gini Index would be zero.  \n",
        "* We want a variable split that has a low Gini Index.\n",
        "\n",
        "![](gini.png)\n",
        "\n",
        "\n",
        "**Entropy**\n",
        "\n",
        "* Favors splits with small counts but many unique values.\n",
        "* Weights probability of class by log(base=2) of the class probability\n",
        "* A smaller value of Entropy is better.  That makes the difference between the parent node’s entropy larger\n",
        "* Information Gain is the Entropy of the parent node minus the entropy of the child nodes.\n",
        "\n",
        "![](entropy.png)\n",
        "\n",
        "\n"
      ]
    },
    {
      "cell_type": "markdown",
      "metadata": {
        "id": "8LpY_7pzp3GN",
        "colab_type": "text"
      },
      "source": [
        "### Handling missing Values"
      ]
    },
    {
      "cell_type": "code",
      "metadata": {
        "id": "oUXsEGgFp3GO",
        "colab_type": "code",
        "outputId": "f1416715-2c18-4140-95a1-a3c579586562",
        "colab": {
          "base_uri": "https://localhost:8080/",
          "height": 204
        }
      },
      "source": [
        "# Three Nominal values and one numeric 1/0 value\n",
        "df[missing_columns].head()"
      ],
      "execution_count": 38,
      "outputs": [
        {
          "output_type": "execute_result",
          "data": {
            "text/html": [
              "<div>\n",
              "<style scoped>\n",
              "    .dataframe tbody tr th:only-of-type {\n",
              "        vertical-align: middle;\n",
              "    }\n",
              "\n",
              "    .dataframe tbody tr th {\n",
              "        vertical-align: top;\n",
              "    }\n",
              "\n",
              "    .dataframe thead th {\n",
              "        text-align: right;\n",
              "    }\n",
              "</style>\n",
              "<table border=\"1\" class=\"dataframe\">\n",
              "  <thead>\n",
              "    <tr style=\"text-align: right;\">\n",
              "      <th></th>\n",
              "      <th>purpose</th>\n",
              "      <th>employment_since</th>\n",
              "      <th>job</th>\n",
              "      <th>foreign_worker</th>\n",
              "    </tr>\n",
              "  </thead>\n",
              "  <tbody>\n",
              "    <tr>\n",
              "      <th>0</th>\n",
              "      <td>NaN</td>\n",
              "      <td>NaN</td>\n",
              "      <td>A173</td>\n",
              "      <td>NaN</td>\n",
              "    </tr>\n",
              "    <tr>\n",
              "      <th>1</th>\n",
              "      <td>A46</td>\n",
              "      <td>A73</td>\n",
              "      <td>NaN</td>\n",
              "      <td>1.0</td>\n",
              "    </tr>\n",
              "    <tr>\n",
              "      <th>2</th>\n",
              "      <td>A40</td>\n",
              "      <td>A74</td>\n",
              "      <td>NaN</td>\n",
              "      <td>NaN</td>\n",
              "    </tr>\n",
              "    <tr>\n",
              "      <th>3</th>\n",
              "      <td>A43</td>\n",
              "      <td>A73</td>\n",
              "      <td>A173</td>\n",
              "      <td>1.0</td>\n",
              "    </tr>\n",
              "    <tr>\n",
              "      <th>4</th>\n",
              "      <td>A40</td>\n",
              "      <td>A74</td>\n",
              "      <td>A173</td>\n",
              "      <td>1.0</td>\n",
              "    </tr>\n",
              "  </tbody>\n",
              "</table>\n",
              "</div>"
            ],
            "text/plain": [
              "  purpose employment_since   job  foreign_worker\n",
              "0     NaN              NaN  A173             NaN\n",
              "1     A46              A73   NaN             1.0\n",
              "2     A40              A74   NaN             NaN\n",
              "3     A43              A73  A173             1.0\n",
              "4     A40              A74  A173             1.0"
            ]
          },
          "metadata": {
            "tags": []
          },
          "execution_count": 38
        }
      ]
    },
    {
      "cell_type": "code",
      "metadata": {
        "id": "C1X1jit1p3GU",
        "colab_type": "code",
        "outputId": "5c1645dd-360d-43da-9625-40e685a208cc",
        "colab": {
          "base_uri": "https://localhost:8080/",
          "height": 102
        }
      },
      "source": [
        "df[missing_columns].count()"
      ],
      "execution_count": 39,
      "outputs": [
        {
          "output_type": "execute_result",
          "data": {
            "text/plain": [
              "purpose             827\n",
              "employment_since    504\n",
              "job                 768\n",
              "foreign_worker      640\n",
              "dtype: int64"
            ]
          },
          "metadata": {
            "tags": []
          },
          "execution_count": 39
        }
      ]
    },
    {
      "cell_type": "code",
      "metadata": {
        "scrolled": true,
        "id": "c5kyLpVYp3GY",
        "colab_type": "code",
        "colab": {}
      },
      "source": [
        "def encode_target_var(y_train, method = 'categorical', verbose=False):\n",
        "    ''' Encode the y label with a specified method''' \n",
        "    \n",
        "    if method == 'categorical':\n",
        "        enc = LabelEncoder()\n",
        "        y_train = enc.fit_transform(y_train)\n",
        "        if verbose: \n",
        "            print('\\nCategorical encoding of y label. Classes: ', \n",
        "                  list(enc.classes_))\n",
        "    elif method == 'one-hot':\n",
        "#         y_train = pd.get_dummies(y_train)\n",
        "        enc = LabelBinarizer(neg_label=0, pos_label=1, sparse_output=False)\n",
        "        y_train = enc.fit_transform(y_train)\n",
        "        print(y_train)\n",
        "        if verbose: \n",
        "            print('One-hot-encoding of y label. Classes: {}', \n",
        "                  list(enc.classes_))\n",
        "    elif method == 'none':\n",
        "        pass\n",
        "        \n",
        "    return y_train\n",
        "\n",
        "\n",
        "def split_data_missing_vals(df, df_X, target_col, verbose=False):\n",
        "    ''' Split data into training and test datasets. \n",
        "    Test data: missing value in column,\n",
        "    train data: existing data  \n",
        "    \n",
        "    Return 1) x_train with y column in it\n",
        "        2) x_train withought y_column\n",
        "        3) y_train\n",
        "        4) x_test'''\n",
        "    \n",
        "    concat_df_target_col = pd.concat([df_X, df[target_col]], axis=1)\n",
        "\n",
        "    #Select only the rows where the target label is NaN\n",
        "    X_test = concat_df_target_col[(\n",
        "        concat_df_target_col[target_col].isna())]\n",
        "    # original: df with target column in it\n",
        "    X_train_with_target = concat_df_target_col[(\n",
        "        concat_df_target_col[target_col].notna())]\n",
        "\n",
        "    # Separate the y label\n",
        "    y_train = X_train_with_target[target_col]\n",
        "\n",
        "    # Remove the y column from the df\n",
        "    X_test = X_test.drop([target_col], axis=1)\n",
        "    X_train = X_train_with_target.drop([target_col], axis=1)\n",
        "    \n",
        "    if verbose:\n",
        "        print('Numer of test data points: ', X_test.shape[0])\n",
        "        print('Numer of train data points: ', X_train_orig.shape[0])\n",
        "    \n",
        "\n",
        "    return X_train_with_target, X_train, y_train, X_test\n",
        "\n"
      ],
      "execution_count": 0,
      "outputs": []
    },
    {
      "cell_type": "code",
      "metadata": {
        "scrolled": true,
        "id": "eKsmcHVip3Gd",
        "colab_type": "code",
        "colab": {}
      },
      "source": [
        "def compare_classifiers(classifiers, classifier_names, missing_columns, \\\n",
        "                        df_with_na, df_train, verbose=False):\n",
        "\n",
        "    for col in missing_columns:\n",
        "        print('\\n================================= \\n')\n",
        "        print(f'Linear Classification for featuren \"{col}\"')\n",
        "\n",
        "        # Split data. Test data: missing value in column, train data: existing \n",
        "        X_train_with_target, X_train, y_train, X_test = split_data_missing_vals(\n",
        "            df_with_na, df_train, col)\n",
        "\n",
        "        for clf, name in zip(classifiers, classifier_names): \n",
        "            print(f'\\nClassifier: {name} \\n')\n",
        "            \n",
        "            cross_validate(clf, X_train, y_train, metrics=['accuracy', 'f1_micro'])\n",
        "    return"
      ],
      "execution_count": 0,
      "outputs": []
    },
    {
      "cell_type": "code",
      "metadata": {
        "scrolled": true,
        "id": "CXvlNOw9p3Gf",
        "colab_type": "code",
        "outputId": "c57fa55e-8a38-43f0-d12e-5d4732c968db",
        "colab": {
          "base_uri": "https://localhost:8080/",
          "height": 1309
        }
      },
      "source": [
        "# Inherently multiclass: RidgeClassifier()\n",
        "# Multiclass as One-Vs-All: SGDClassifier(), PassiveAggressiveClassifier()\n",
        "# https://scikit-learn.org/stable/modules/multiclass.html\n",
        "\n",
        "classifiers = [SGDClassifier(max_iter=1000, tol=1e-3), RidgeClassifier(), \n",
        "               LogisticRegression(solver='lbfgs')]\n",
        "classifier_names = ['SGDClassifier', 'RidgeClassifier', 'LogisticRegression']\n",
        "missing_columns = ['purpose', 'employment_since', 'job', 'foreign_worker']\n",
        "\n",
        "compare_classifiers(classifiers, classifier_names, missing_columns, df, df_X_onehot)"
      ],
      "execution_count": 42,
      "outputs": [
        {
          "output_type": "stream",
          "text": [
            "\n",
            "================================= \n",
            "\n",
            "Linear Classification for featuren \"purpose\"\n",
            "\n",
            "Classifier: SGDClassifier \n",
            "\n",
            "Cross Validation accuracy: 0.26 (+/- 0.07)\n",
            "Cross Validation f1_micro: 0.25 (+/- 0.09)\n",
            "\n",
            "Classifier: RidgeClassifier \n",
            "\n",
            "Cross Validation accuracy: 0.34 (+/- 0.06)\n",
            "Cross Validation f1_micro: 0.34 (+/- 0.06)\n",
            "\n",
            "Classifier: LogisticRegression \n",
            "\n",
            "Cross Validation accuracy: 0.35 (+/- 0.04)\n",
            "Cross Validation f1_micro: 0.35 (+/- 0.04)\n",
            "\n",
            "================================= \n",
            "\n",
            "Linear Classification for featuren \"employment_since\"\n",
            "\n",
            "Classifier: SGDClassifier \n",
            "\n",
            "Cross Validation accuracy: 0.32 (+/- 0.09)\n",
            "Cross Validation f1_micro: 0.32 (+/- 0.09)\n",
            "\n",
            "Classifier: RidgeClassifier \n",
            "\n",
            "Cross Validation accuracy: 0.39 (+/- 0.05)\n",
            "Cross Validation f1_micro: 0.39 (+/- 0.05)\n",
            "\n",
            "Classifier: LogisticRegression \n",
            "\n",
            "Cross Validation accuracy: 0.39 (+/- 0.05)\n",
            "Cross Validation f1_micro: 0.39 (+/- 0.05)\n",
            "\n",
            "================================= \n",
            "\n",
            "Linear Classification for featuren \"job\"\n",
            "\n",
            "Classifier: SGDClassifier \n",
            "\n",
            "Cross Validation accuracy: 0.57 (+/- 0.13)\n",
            "Cross Validation f1_micro: 0.50 (+/- 0.14)\n",
            "\n",
            "Classifier: RidgeClassifier \n",
            "\n",
            "Cross Validation accuracy: 0.64 (+/- 0.03)\n",
            "Cross Validation f1_micro: 0.64 (+/- 0.03)\n",
            "\n",
            "Classifier: LogisticRegression \n",
            "\n",
            "Cross Validation accuracy: 0.63 (+/- 0.03)\n",
            "Cross Validation f1_micro: 0.63 (+/- 0.03)\n",
            "\n",
            "================================= \n",
            "\n",
            "Linear Classification for featuren \"foreign_worker\"\n",
            "\n",
            "Classifier: SGDClassifier \n",
            "\n",
            "Cross Validation accuracy: 0.94 (+/- 0.04)\n",
            "Cross Validation f1_micro: 0.95 (+/- 0.03)\n",
            "\n",
            "Classifier: RidgeClassifier \n",
            "\n",
            "Cross Validation accuracy: 0.96 (+/- 0.01)\n",
            "Cross Validation f1_micro: 0.96 (+/- 0.01)\n",
            "\n",
            "Classifier: LogisticRegression \n",
            "\n",
            "Cross Validation accuracy: 0.95 (+/- 0.01)\n",
            "Cross Validation f1_micro: 0.95 (+/- 0.01)\n"
          ],
          "name": "stdout"
        }
      ]
    },
    {
      "cell_type": "markdown",
      "metadata": {
        "id": "Vq8riRqnp3Gg",
        "colab_type": "raw"
      },
      "source": [
        " Classifier: LinearSVC(multi_class=\"crammer_singer\")\n",
        "\"purpose\"\n",
        "Cross Validation accuracy: 0.25 (+/- 0.05)\n",
        "Cross Validation f1_micro: 0.26 (+/- 0.03)\n",
        "\n",
        "\"employment_since\"\n",
        "Cross Validation accuracy: 0.37 (+/- 0.06)\n",
        "Cross Validation f1_micro: 0.37 (+/- 0.07)\n",
        "\n",
        "\"job\"\n",
        "Cross Validation accuracy: 0.64 (+/- 0.03)\n",
        "Cross Validation f1_micro: 0.64 (+/- 0.03)\n",
        "\n",
        "\"foreign_worker\"\n",
        "Cross Validation accuracy: 0.96 (+/- 0.01)\n",
        "Cross Validation f1_micro: 0.96 (+/- 0.01)"
      ]
    },
    {
      "cell_type": "markdown",
      "metadata": {
        "id": "ZmxIhGr4p3Gh",
        "colab_type": "text"
      },
      "source": [
        "Only classification of \"foreign_worker\" performs well enough to use it to fill the missing values."
      ]
    },
    {
      "cell_type": "code",
      "metadata": {
        "id": "mWlCnNi6p3Gh",
        "colab_type": "code",
        "colab": {}
      },
      "source": [
        "def predict_column(clf, df_with_na, df_train, col): \n",
        "    ''' Args: \n",
        "    clf: classifier used for prediction\n",
        "    data: dataframe\n",
        "    col: name of column to predict\n",
        "    \n",
        "    Return 1) predicted column\n",
        "            2) dataframe with inserted predicted column'''\n",
        "    \n",
        "    # Split data. Test data: missing value in column, train data: existing data \n",
        "    X_train_with_target, X_train, y_train, X_test = split_data_missing_vals(\n",
        "            df_with_na, df_train, col)\n",
        "    \n",
        "    y_pred = train_predict(clf, X_train, y_train, X_test)\n",
        "\n",
        "    # Fill only the NAs with predicted values\n",
        "    X_test[col] = y_pred\n",
        "    \n",
        "    # Concat training and test rows\n",
        "    df_filled = pd.concat([X_train_with_target, X_test], axis=0)\n",
        "    #sort them back to original order\n",
        "    df_filled = df_filled.sort_index()\n",
        "    return df_filled[col]\n",
        "    "
      ],
      "execution_count": 0,
      "outputs": []
    },
    {
      "cell_type": "code",
      "metadata": {
        "id": "ZfcDe_hPp3Gj",
        "colab_type": "code",
        "colab": {}
      },
      "source": [
        "#create DF with filled cols\n",
        "filled_cols = pd.DataFrame()"
      ],
      "execution_count": 0,
      "outputs": []
    },
    {
      "cell_type": "code",
      "metadata": {
        "id": "wepz1vC8p3Gk",
        "colab_type": "code",
        "outputId": "c653356e-de8e-4e83-8877-0b12d59ef078",
        "colab": {
          "base_uri": "https://localhost:8080/",
          "height": 51
        }
      },
      "source": [
        "# predict a Foreign Worker column\n",
        "col_foreign_w = predict_column(\n",
        "    RidgeClassifier(), df, df_X_onehot, \"foreign_worker\")\n",
        "\n",
        "#Add Foreign Worker column to the Filled_cols df\n",
        "filled_cols['foreign_worker_filled'] = col_foreign_w\n",
        "\n",
        "#Remove it from missing vals\n",
        "missing_columns.remove('foreign_worker')"
      ],
      "execution_count": 45,
      "outputs": [
        {
          "output_type": "stream",
          "text": [
            "Training a RidgeClassifier\n",
            "with a training set size of 640\n"
          ],
          "name": "stdout"
        }
      ]
    },
    {
      "cell_type": "code",
      "metadata": {
        "id": "rfTjqdrNp3Gn",
        "colab_type": "code",
        "outputId": "7518b0b4-f3c8-4291-cb84-66608d959785",
        "colab": {
          "base_uri": "https://localhost:8080/",
          "height": 153
        }
      },
      "source": [
        "#Add Foreign Worker column to df_X\n",
        "df_X_onehot = (pd.concat([df_X_onehot, filled_cols], axis=1))\n",
        "df_X_enc = (pd.concat([df_X_enc, filled_cols], axis=1))\n",
        "print(df_X_onehot.shape)\n",
        "print(df_X_enc.shape)\n",
        "df_X_enc.columns"
      ],
      "execution_count": 46,
      "outputs": [
        {
          "output_type": "stream",
          "text": [
            "(1400, 40)\n",
            "(1400, 17)\n"
          ],
          "name": "stdout"
        },
        {
          "output_type": "execute_result",
          "data": {
            "text/plain": [
              "Index(['account_status', 'credit_history', 'savings_account',\n",
              "       'personal_status_sex', 'guarantors', 'property',\n",
              "       'other_installment_plans', 'housing', 'duration', 'credit_amount',\n",
              "       'installment_rate', 'residence_since', 'age', 'number_of_credits',\n",
              "       'people_to_maintain', 'phone', 'foreign_worker_filled'],\n",
              "      dtype='object')"
            ]
          },
          "metadata": {
            "tags": []
          },
          "execution_count": 46
        }
      ]
    },
    {
      "cell_type": "code",
      "metadata": {
        "id": "GqiHe5O_p3Gp",
        "colab_type": "code",
        "outputId": "89b82460-c643-450d-ed7c-6ebc63f0a294",
        "colab": {
          "base_uri": "https://localhost:8080/",
          "height": 153
        }
      },
      "source": [
        "# Thy the classifier with additional feature\n",
        "X_train, X_test, y_train, y_test = train_test_split(\n",
        "    df_X_enc, label_enc, test_size = 0.25, random_state=4)\n",
        "\n",
        "clf = RandomForestClassifier(n_estimators=100)\n",
        "y_pred = train_predict(clf, X_train, y_train, X_test, y_test=None)\n",
        "evaluate_test(y_test, y_pred)"
      ],
      "execution_count": 47,
      "outputs": [
        {
          "output_type": "stream",
          "text": [
            "Training a RandomForestClassifier\n",
            "with a training set size of 1050\n",
            "Test Precision Score: 0.8444444444444444\n",
            "Test Accuracy Score: 0.8371428571428572\n",
            "Test Confusion Matrix: \n",
            " [[141  28]\n",
            " [ 29 152]]\n",
            "Number of False Positives: 28\n"
          ],
          "name": "stdout"
        }
      ]
    },
    {
      "cell_type": "markdown",
      "metadata": {
        "id": "0FsTQdD5p3Gs",
        "colab_type": "text"
      },
      "source": [
        "Foreign Worker didn't seem to help. But let's look at feature importance. "
      ]
    },
    {
      "cell_type": "code",
      "metadata": {
        "id": "qtjP9FX5p3HU",
        "colab_type": "code",
        "colab": {}
      },
      "source": [
        "def display_feature_importance(trained_clf):\n",
        "\n",
        "    # Print the name and gini importance of each feature\n",
        "    importances = trained_clf.feature_importances_\n",
        "    print(f'\\n Feature Importance, sums up to 1:')\n",
        "    for feature in zip(X_train.columns, importances):\n",
        "        print(feature)\n",
        "        \n",
        "    # Visualise Feature Importance:\n",
        "    indices = np.argsort(trained_clf.feature_importances_)\n",
        "    plt.figure(figsize=(10,8))\n",
        "    plt.title('Feature Importances')\n",
        "    plt.barh(range(len(indices)), importances[indices], color='g', align='center')\n",
        "    plt.yticks(range(len(indices)), [X_train.columns[i] for i in indices])\n",
        "    plt.xlabel('Relative Importance')\n",
        "    plt.show()\n",
        "    \n",
        "    return "
      ],
      "execution_count": 0,
      "outputs": []
    },
    {
      "cell_type": "code",
      "metadata": {
        "id": "TB1cU4jrp3HW",
        "colab_type": "code",
        "outputId": "6b265a88-7353-4d9e-9e67-669721b08e2c",
        "colab": {
          "base_uri": "https://localhost:8080/",
          "height": 836
        }
      },
      "source": [
        "# Add foreign Worker feature to classification\n",
        "display_feature_importance(clf)"
      ],
      "execution_count": 49,
      "outputs": [
        {
          "output_type": "stream",
          "text": [
            "\n",
            " Feature Importance, sums up to 1:\n",
            "('account_status', 0.18306556750599104)\n",
            "('credit_history', 0.07712796903991244)\n",
            "('savings_account', 0.05846838353957091)\n",
            "('personal_status_sex', 0.05346237450086561)\n",
            "('guarantors', 0.02043359321169344)\n",
            "('property', 0.0654942886618118)\n",
            "('other_installment_plans', 0.03883402681800734)\n",
            "('housing', 0.025351787098650658)\n",
            "('duration', 0.09764896393577975)\n",
            "('credit_amount', 0.10640833832323761)\n",
            "('installment_rate', 0.0500272239370131)\n",
            "('residence_since', 0.05343270897890675)\n",
            "('age', 0.09676318981575406)\n",
            "('number_of_credits', 0.02753141854924906)\n",
            "('people_to_maintain', 0.014851738161554535)\n",
            "('phone', 0.02820730622233689)\n",
            "('foreign_worker_filled', 0.0028911216996651205)\n"
          ],
          "name": "stdout"
        },
        {
          "output_type": "display_data",
          "data": {
            "image/png": "[encoded data removed]",
            "text/plain": [
              "<Figure size 720x576 with 1 Axes>"
            ]
          },
          "metadata": {
            "tags": []
          }
        }
      ]
    },
    {
      "cell_type": "markdown",
      "metadata": {
        "id": "gwpCkQhCp3HY",
        "colab_type": "text"
      },
      "source": [
        "## Feature Engineering\n",
        "\n"
      ]
    },
    {
      "cell_type": "code",
      "metadata": {
        "id": "xIhsPDSHp3HZ",
        "colab_type": "code",
        "colab": {}
      },
      "source": [
        "def replace_features(df, col_name, replace_to):\n",
        "    old_enc = list(df[col_name].unique())\n",
        "    old_enc.remove(np.nan)\n",
        "    old_enc = sorted(old_enc)\n",
        "\n",
        "    # change to \"emplayed for more than\"\n",
        "    new_enc = replace_to\n",
        "    df_new_enc = df.replace(old_enc, new_enc)\n",
        "    return df_new_enc\n",
        "\n",
        "def compare_replaced_features(df, col_name, exchange_dict,\n",
        "                         classifiers, classifier_names, df_X_onehot):\n",
        "\n",
        "    \n",
        "    for k,v in exchange_dict.items():\n",
        "        print('\\n\\n', k)\n",
        "        df_enc = replace_features(df, col_name, v)\n",
        "        compare_classifiers(classifiers, classifier_names, [col_name], df_enc, \n",
        "                        df_X_onehot)\n",
        "        \n",
        "    return\n",
        "\n"
      ],
      "execution_count": 0,
      "outputs": []
    },
    {
      "cell_type": "markdown",
      "metadata": {
        "id": "iMDRMwLhp3Ha",
        "colab_type": "raw"
      },
      "source": [
        "Missing: Purpose - 17.3%. \n",
        "Employment since - 49.6%. job - 0.23%.  \n",
        "foreign worker - 36%. \n",
        "\n",
        "Attribute 17: (qualitative) \n",
        "Job \n",
        "A171 : unemployed/ unskilled - non-resident \n",
        "A172 : unskilled - resident \n",
        "A173 : skilled employee / official \n",
        "A174 : management/ self-employed/ \n",
        "highly qualified employee/ officer \n",
        "\n",
        "An idea: replace by numerical ordered representation. To score this attribute."
      ]
    },
    {
      "cell_type": "code",
      "metadata": {
        "scrolled": true,
        "id": "a-m1FBjDp3Ha",
        "colab_type": "code",
        "outputId": "2f9ce5bd-93a7-4466-8d4e-02ea79933bb2",
        "colab": {
          "base_uri": "https://localhost:8080/",
          "height": 1139
        }
      },
      "source": [
        "job_replace_to = {\n",
        "        'Ordinal from 0 to 3' : [0, 1, 2, 3],\n",
        "        'unemployed/ unskilled = 0, other = 1' : [0, 0, 1, 1],\n",
        "        'unemployed = 0, else = 1' : [0, 1, 1, 1]\n",
        "    }\n",
        "\n",
        "compare_replaced_features(df, 'job', job_replace_to,\n",
        "                         classifiers, classifier_names, df_X_onehot)"
      ],
      "execution_count": 51,
      "outputs": [
        {
          "output_type": "stream",
          "text": [
            "\n",
            "\n",
            " Ordinal from 0 to 3\n",
            "\n",
            "================================= \n",
            "\n",
            "Linear Classification for featuren \"job\"\n",
            "\n",
            "Classifier: SGDClassifier \n",
            "\n",
            "Cross Validation accuracy: 0.48 (+/- 0.16)\n",
            "Cross Validation f1_micro: 0.56 (+/- 0.09)\n",
            "\n",
            "Classifier: RidgeClassifier \n",
            "\n",
            "Cross Validation accuracy: 0.64 (+/- 0.03)\n",
            "Cross Validation f1_micro: 0.64 (+/- 0.03)\n",
            "\n",
            "Classifier: LogisticRegression \n",
            "\n",
            "Cross Validation accuracy: 0.64 (+/- 0.04)\n",
            "Cross Validation f1_micro: 0.64 (+/- 0.04)\n",
            "\n",
            "\n",
            " unemployed/ unskilled = 0, other = 1\n",
            "\n",
            "================================= \n",
            "\n",
            "Linear Classification for featuren \"job\"\n",
            "\n",
            "Classifier: SGDClassifier \n",
            "\n",
            "Cross Validation accuracy: 0.74 (+/- 0.08)\n",
            "Cross Validation f1_micro: 0.70 (+/- 0.11)\n",
            "\n",
            "Classifier: RidgeClassifier \n",
            "\n",
            "Cross Validation accuracy: 0.80 (+/- 0.02)\n",
            "Cross Validation f1_micro: 0.80 (+/- 0.02)\n",
            "\n",
            "Classifier: LogisticRegression \n",
            "\n",
            "Cross Validation accuracy: 0.79 (+/- 0.02)\n",
            "Cross Validation f1_micro: 0.79 (+/- 0.02)\n",
            "\n",
            "\n",
            " unemployed = 0, else = 1\n",
            "\n",
            "================================= \n",
            "\n",
            "Linear Classification for featuren \"job\"\n",
            "\n",
            "Classifier: SGDClassifier \n",
            "\n",
            "Cross Validation accuracy: 0.96 (+/- 0.06)\n",
            "Cross Validation f1_micro: 0.98 (+/- 0.01)\n",
            "\n",
            "Classifier: RidgeClassifier \n",
            "\n",
            "Cross Validation accuracy: 0.98 (+/- 0.01)\n",
            "Cross Validation f1_micro: 0.98 (+/- 0.01)\n",
            "\n",
            "Classifier: LogisticRegression \n",
            "\n",
            "Cross Validation accuracy: 0.98 (+/- 0.01)\n",
            "Cross Validation f1_micro: 0.98 (+/- 0.01)\n"
          ],
          "name": "stdout"
        }
      ]
    },
    {
      "cell_type": "markdown",
      "metadata": {
        "id": "OfSEmx-Pp3Hc",
        "colab_type": "text"
      },
      "source": [
        "LinearSVC(multi_class=\"crammer_singer\" for job:   \n",
        "\n",
        "Cross Validation accuracy: 0.64 (+/- 0.03)   \n",
        "Cross Validation f1_micro: 0.64 (+/- 0.03)"
      ]
    },
    {
      "cell_type": "markdown",
      "metadata": {
        "id": "RzYVFLiHp3Hc",
        "colab_type": "text"
      },
      "source": [
        "Great! Binarising the feature helps to classify between unemployed / employed. Now the column can be predicted and added to the data."
      ]
    },
    {
      "cell_type": "code",
      "metadata": {
        "id": "y7XYNTAWp3Hd",
        "colab_type": "code",
        "colab": {}
      },
      "source": [
        "df_job = replace_features(df, \"job\", [0, 1, 1, 1])"
      ],
      "execution_count": 0,
      "outputs": []
    },
    {
      "cell_type": "code",
      "metadata": {
        "id": "d3LWuXIHp3He",
        "colab_type": "code",
        "colab": {}
      },
      "source": [
        "def ridge_grid_search(df_with_na, df_X, target_col):\n",
        "    \n",
        "    _, X_train, y_train, X_test = split_data_missing_vals(\n",
        "        df_with_na, df_X, target_col)\n",
        "\n",
        "    # prepare a range of alpha values to test\n",
        "    params = {'solver': ['auto', 'svd', 'lsqr'],\n",
        "             'alpha': [1,0.1,0.01,0.001,0.0001,0]}\n",
        "    # create and fit a ridge regression model, testing each alpha\n",
        "    model = RidgeClassifier()\n",
        "    \n",
        "    # optimised by cross-validated grid-search over a parameter grid.\n",
        "    grid = GridSearchCV(estimator=model, param_grid=params)\n",
        "    grid.fit(X_train, y_train)\n",
        "    # summarize the results of the grid search\n",
        "    print(f'Best Score: {grid.best_score_}')\n",
        "    print(f'Best alpha: {grid.best_estimator_.alpha}')\n",
        "    print(f'Best solver: {grid.best_estimator_.solver}')\n",
        "    \n",
        "    return grid.best_estimator_"
      ],
      "execution_count": 0,
      "outputs": []
    },
    {
      "cell_type": "code",
      "metadata": {
        "id": "DvihrMs7p3Hf",
        "colab_type": "code",
        "outputId": "b8fe518a-af6e-49fe-ca42-29e22efc1836",
        "colab": {
          "base_uri": "https://localhost:8080/",
          "height": 102
        }
      },
      "source": [
        "clf = ridge_grid_search(df_job, df_X_onehot, 'job')\n",
        "\n",
        "col_job = predict_column(\n",
        "    clf, df_job, df_X_enc, \"job\")\n",
        "filled_cols['job_filled'] = col_job\n",
        "missing_columns.remove('job')\n",
        "\n",
        "df_X_onehot = (pd.concat([df_X_onehot, filled_cols['job_filled']], axis=1))\n",
        "df_X_enc = (pd.concat([df_X_enc, col_job], axis=1))"
      ],
      "execution_count": 54,
      "outputs": [
        {
          "output_type": "stream",
          "text": [
            "Best Score: 0.9791666666666666\n",
            "Best alpha: 1\n",
            "Best solver: auto\n",
            "Training a RidgeClassifier\n",
            "with a training set size of 768\n"
          ],
          "name": "stdout"
        }
      ]
    },
    {
      "cell_type": "markdown",
      "metadata": {
        "id": "BJ5r_oNwp3Hh",
        "colab_type": "text"
      },
      "source": [
        "_Random Forest with Foreign Worker and Job_\n"
      ]
    },
    {
      "cell_type": "code",
      "metadata": {
        "scrolled": true,
        "id": "r-fPDTvzp3Hh",
        "colab_type": "code",
        "outputId": "ee9d2bfc-d5b0-4d37-ca7b-4183ec91967f",
        "colab": {
          "base_uri": "https://localhost:8080/",
          "height": 989
        }
      },
      "source": [
        "# Add foreign Worker feature to classification\n",
        "# Thry the classifier with additional feature\n",
        "X_train, X_test, y_train, y_test = train_test_split(\n",
        "    df_X_enc, label_enc, test_size = 0.25, random_state=4)\n",
        "\n",
        "clf = RandomForestClassifier()\n",
        "y_pred = train_predict(clf, X_train, y_train, X_test, y_test)\n",
        "evaluate_test(y_test, y_pred)\n",
        "display_feature_importance(clf)"
      ],
      "execution_count": 55,
      "outputs": [
        {
          "output_type": "stream",
          "text": [
            "Training a RandomForestClassifier\n",
            "with a training set size of 1050\n",
            "Test Precision Score: 0.8352941176470589\n",
            "Test Accuracy Score: 0.8085714285714286\n",
            "Test Confusion Matrix: \n",
            " [[141  28]\n",
            " [ 39 142]]\n",
            "Number of False Positives: 28\n",
            "\n",
            " Feature Importance, sums up to 1:\n",
            "('account_status', 0.17257386902823627)\n",
            "('credit_history', 0.07347750010955266)\n",
            "('savings_account', 0.05722036313803255)\n",
            "('personal_status_sex', 0.0593486836145114)\n",
            "('guarantors', 0.01582757032270272)\n",
            "('property', 0.059958738743165006)\n",
            "('other_installment_plans', 0.0397363150024351)\n",
            "('housing', 0.02595389407081934)\n",
            "('duration', 0.09863952462130007)\n",
            "('credit_amount', 0.1155072322100239)\n",
            "('installment_rate', 0.047788952058466526)\n",
            "('residence_since', 0.05666867034230137)\n",
            "('age', 0.09421762196799865)\n",
            "('number_of_credits', 0.03664516191694342)\n",
            "('people_to_maintain', 0.01800225746356417)\n",
            "('phone', 0.024362285853998352)\n",
            "('foreign_worker_filled', 0.0012440270777481532)\n",
            "('job', 0.002827332458200126)\n"
          ],
          "name": "stdout"
        },
        {
          "output_type": "display_data",
          "data": {
            "image/png": "[encoded data removed]",
            "text/plain": [
              "<Figure size 720x576 with 1 Axes>"
            ]
          },
          "metadata": {
            "tags": []
          }
        }
      ]
    },
    {
      "cell_type": "markdown",
      "metadata": {
        "id": "Okf8huREp3Hj",
        "colab_type": "text"
      },
      "source": [
        "### Employment Since"
      ]
    },
    {
      "cell_type": "markdown",
      "metadata": {
        "id": "qKHrdu0Ip3Hj",
        "colab_type": "raw"
      },
      "source": [
        "Attribute 7: (qualitative) \n",
        "Present employment since \n",
        "A71 : unemployed \n",
        "A72 : ... < 1 year \n",
        "A73 : 1 <= ... < 4 years \n",
        "A74 : 4 <= ... < 7 years \n",
        "A75 : .. >= 7 years "
      ]
    },
    {
      "cell_type": "code",
      "metadata": {
        "scrolled": true,
        "id": "LeFAExVQp3Hj",
        "colab_type": "code",
        "outputId": "d6d0d0fd-e156-4721-a6ab-0164baa3b39a",
        "colab": {
          "base_uri": "https://localhost:8080/",
          "height": 1887
        }
      },
      "source": [
        "empl_since_replace_to = {\n",
        "        'Employed at least n years' : [0, 1, 1, 4, 7],\n",
        "        'Employed at most n years' : [0, 1, 4, 7, 50],\n",
        "        'Employed more than a year' : [0, 0, 1, 1, 1],\n",
        "        'Employed more than 4 years' : [0, 0, 0, 1, 1],\n",
        "        'Employed more than 7 years' : [0, 0, 0, 1, 1]\n",
        "    }\n",
        "\n",
        "compare_replaced_features(df, 'employment_since', empl_since_replace_to,\n",
        "                         classifiers, classifier_names, df_X_onehot)"
      ],
      "execution_count": 56,
      "outputs": [
        {
          "output_type": "stream",
          "text": [
            "\n",
            "\n",
            " Employed at least n years\n",
            "\n",
            "================================= \n",
            "\n",
            "Linear Classification for featuren \"employment_since\"\n",
            "\n",
            "Classifier: SGDClassifier \n",
            "\n",
            "Cross Validation accuracy: 0.41 (+/- 0.11)\n",
            "Cross Validation f1_micro: 0.43 (+/- 0.13)\n",
            "\n",
            "Classifier: RidgeClassifier \n",
            "\n",
            "Cross Validation accuracy: 0.57 (+/- 0.06)\n",
            "Cross Validation f1_micro: 0.57 (+/- 0.06)\n",
            "\n",
            "Classifier: LogisticRegression \n",
            "\n",
            "Cross Validation accuracy: 0.55 (+/- 0.05)\n",
            "Cross Validation f1_micro: 0.55 (+/- 0.05)\n",
            "\n",
            "\n",
            " Employed at most n years\n",
            "\n",
            "================================= \n",
            "\n",
            "Linear Classification for featuren \"employment_since\"\n",
            "\n",
            "Classifier: SGDClassifier \n",
            "\n",
            "Cross Validation accuracy: 0.33 (+/- 0.08)\n",
            "Cross Validation f1_micro: 0.31 (+/- 0.07)\n",
            "\n",
            "Classifier: RidgeClassifier \n",
            "\n",
            "Cross Validation accuracy: 0.39 (+/- 0.06)\n",
            "Cross Validation f1_micro: 0.39 (+/- 0.06)\n",
            "\n",
            "Classifier: LogisticRegression \n",
            "\n",
            "Cross Validation accuracy: 0.40 (+/- 0.05)\n",
            "Cross Validation f1_micro: 0.40 (+/- 0.05)\n",
            "\n",
            "\n",
            " Employed more than a year\n",
            "\n",
            "================================= \n",
            "\n",
            "Linear Classification for featuren \"employment_since\"\n",
            "\n",
            "Classifier: SGDClassifier \n",
            "\n",
            "Cross Validation accuracy: 0.69 (+/- 0.12)\n",
            "Cross Validation f1_micro: 0.67 (+/- 0.13)\n",
            "\n",
            "Classifier: RidgeClassifier \n",
            "\n",
            "Cross Validation accuracy: 0.77 (+/- 0.03)\n",
            "Cross Validation f1_micro: 0.77 (+/- 0.03)\n",
            "\n",
            "Classifier: LogisticRegression \n",
            "\n",
            "Cross Validation accuracy: 0.76 (+/- 0.04)\n",
            "Cross Validation f1_micro: 0.76 (+/- 0.04)\n",
            "\n",
            "\n",
            " Employed more than 4 years\n",
            "\n",
            "================================= \n",
            "\n",
            "Linear Classification for featuren \"employment_since\"\n",
            "\n",
            "Classifier: SGDClassifier \n",
            "\n",
            "Cross Validation accuracy: 0.56 (+/- 0.08)\n",
            "Cross Validation f1_micro: 0.57 (+/- 0.07)\n",
            "\n",
            "Classifier: RidgeClassifier \n",
            "\n",
            "Cross Validation accuracy: 0.65 (+/- 0.07)\n",
            "Cross Validation f1_micro: 0.65 (+/- 0.07)\n",
            "\n",
            "Classifier: LogisticRegression \n",
            "\n",
            "Cross Validation accuracy: 0.66 (+/- 0.06)\n",
            "Cross Validation f1_micro: 0.66 (+/- 0.06)\n",
            "\n",
            "\n",
            " Employed more than 7 years\n",
            "\n",
            "================================= \n",
            "\n",
            "Linear Classification for featuren \"employment_since\"\n",
            "\n",
            "Classifier: SGDClassifier \n",
            "\n",
            "Cross Validation accuracy: 0.57 (+/- 0.05)\n",
            "Cross Validation f1_micro: 0.58 (+/- 0.07)\n",
            "\n",
            "Classifier: RidgeClassifier \n",
            "\n",
            "Cross Validation accuracy: 0.65 (+/- 0.07)\n",
            "Cross Validation f1_micro: 0.65 (+/- 0.07)\n",
            "\n",
            "Classifier: LogisticRegression \n",
            "\n",
            "Cross Validation accuracy: 0.66 (+/- 0.06)\n",
            "Cross Validation f1_micro: 0.66 (+/- 0.06)\n"
          ],
          "name": "stdout"
        }
      ]
    },
    {
      "cell_type": "markdown",
      "metadata": {
        "id": "5QQjNtMGp3Hm",
        "colab_type": "text"
      },
      "source": [
        "Employed more than a year\n",
        "Cross Validation accuracy: 0.77 (+/- 0.02)\n",
        "Cross Validation f1_micro: 0.70 (+/- 0.13)"
      ]
    },
    {
      "cell_type": "code",
      "metadata": {
        "id": "j5jPn7i4p3Hm",
        "colab_type": "code",
        "outputId": "1bed2c30-9d65-476e-a186-27e14827f878",
        "colab": {
          "base_uri": "https://localhost:8080/",
          "height": 102
        }
      },
      "source": [
        "df_empl_since = replace_features(df, 'employment_since', [0, 0, 1, 1, 1])\n",
        "\n",
        "clf = ridge_grid_search(df_empl_since, df_X_onehot, 'employment_since')\n",
        "\n",
        "col_empl_since = predict_column(\n",
        "    clf, df_empl_since, df_X_onehot, 'employment_since')\n",
        "filled_cols['employment_since_filled'] = col_empl_since\n",
        "missing_columns.remove('employment_since')\n",
        "\n",
        "\n",
        "df_X_onehot = (pd.concat([df_X_onehot, col_empl_since], axis=1))\n",
        "df_X_enc = (pd.concat([df_X_enc, col_empl_since], axis=1))"
      ],
      "execution_count": 57,
      "outputs": [
        {
          "output_type": "stream",
          "text": [
            "Best Score: 0.7718253968253969\n",
            "Best alpha: 0.1\n",
            "Best solver: auto\n",
            "Training a RidgeClassifier\n",
            "with a training set size of 504\n"
          ],
          "name": "stdout"
        }
      ]
    },
    {
      "cell_type": "code",
      "metadata": {
        "id": "7Q6DNFt4p3Ho",
        "colab_type": "code",
        "outputId": "b30b88dc-43e7-4a66-a0aa-9b3f8eddfeaf",
        "colab": {
          "base_uri": "https://localhost:8080/",
          "height": 34
        }
      },
      "source": [
        "df_X_enc.shape"
      ],
      "execution_count": 58,
      "outputs": [
        {
          "output_type": "execute_result",
          "data": {
            "text/plain": [
              "(1400, 19)"
            ]
          },
          "metadata": {
            "tags": []
          },
          "execution_count": 58
        }
      ]
    },
    {
      "cell_type": "code",
      "metadata": {
        "scrolled": true,
        "id": "TGeAQzmpp3Hp",
        "colab_type": "code",
        "outputId": "ff096c26-6cce-45f6-b056-04eab5fa1cc2",
        "colab": {
          "base_uri": "https://localhost:8080/",
          "height": 1006
        }
      },
      "source": [
        "# Foreign, Job, Empl_since\n",
        "# Add foreign Worker feature to classification\n",
        "# Thry the classifier with additional feature\n",
        "X_train, X_test, y_train, y_test = train_test_split(\n",
        "    df_X_enc, label_enc, test_size = 0.25, random_state=4)\n",
        "\n",
        "clf = RandomForestClassifier()\n",
        "y_pred = train_predict(clf, X_train, y_train, X_test, y_test)\n",
        "evaluate_test(y_test, y_pred)\n",
        "display_feature_importance(clf)"
      ],
      "execution_count": 59,
      "outputs": [
        {
          "output_type": "stream",
          "text": [
            "Training a RandomForestClassifier\n",
            "with a training set size of 1050\n",
            "Test Precision Score: 0.8146067415730337\n",
            "Test Accuracy Score: 0.8028571428571428\n",
            "Test Confusion Matrix: \n",
            " [[136  33]\n",
            " [ 36 145]]\n",
            "Number of False Positives: 33\n",
            "\n",
            " Feature Importance, sums up to 1:\n",
            "('account_status', 0.19986172837982566)\n",
            "('credit_history', 0.07698642526570516)\n",
            "('savings_account', 0.05034279657430527)\n",
            "('personal_status_sex', 0.04751601682596027)\n",
            "('guarantors', 0.020340665173166187)\n",
            "('property', 0.061094079046505434)\n",
            "('other_installment_plans', 0.0443299040548637)\n",
            "('housing', 0.02690189539421185)\n",
            "('duration', 0.09357701189106166)\n",
            "('credit_amount', 0.10330967916867921)\n",
            "('installment_rate', 0.05602963719415806)\n",
            "('residence_since', 0.06028196910423729)\n",
            "('age', 0.07789420143419486)\n",
            "('number_of_credits', 0.02886460518188763)\n",
            "('people_to_maintain', 0.011152221100868076)\n",
            "('phone', 0.01993197758581699)\n",
            "('foreign_worker_filled', 0.001309266396064995)\n",
            "('job', 0.002969659920632836)\n",
            "('employment_since', 0.017306260307854874)\n"
          ],
          "name": "stdout"
        },
        {
          "output_type": "display_data",
          "data": {
            "image/png": "[encoded data removed]",
            "text/plain": [
              "<Figure size 720x576 with 1 Axes>"
            ]
          },
          "metadata": {
            "tags": []
          }
        }
      ]
    },
    {
      "cell_type": "markdown",
      "metadata": {
        "id": "aWOexU9jp3Hq",
        "colab_type": "text"
      },
      "source": [
        "*Purpose*"
      ]
    },
    {
      "cell_type": "code",
      "metadata": {
        "id": "m-ZiwPWUp3Hr",
        "colab_type": "code",
        "outputId": "256015a7-9d68-4f3e-f6fa-258a50482dc6",
        "colab": {
          "base_uri": "https://localhost:8080/",
          "height": 374
        }
      },
      "source": [
        "#The are many features available. \n",
        "print('Number of non-na values: ', df['purpose'].count())\n",
        "print(df['purpose'].unique())\n",
        "\n",
        "col_purpose = df['purpose'].fillna('missing')\n",
        "col_purpose = encode_target_var(col_purpose, method = 'onehot')\n",
        "pd.Series(col_purpose).unique()\n",
        "\n",
        "compare_classifiers(classifiers, classifier_names, missing_columns, df, df_X_onehot)"
      ],
      "execution_count": 60,
      "outputs": [
        {
          "output_type": "stream",
          "text": [
            "Number of non-na values:  827\n",
            "[nan 'A46' 'A40' 'A43' 'A41' 'A42' 'A49' 'A410' 'A45' 'A48' 'A44']\n",
            "\n",
            "================================= \n",
            "\n",
            "Linear Classification for featuren \"purpose\"\n",
            "\n",
            "Classifier: SGDClassifier \n",
            "\n",
            "Cross Validation accuracy: 0.25 (+/- 0.05)\n",
            "Cross Validation f1_micro: 0.23 (+/- 0.10)\n",
            "\n",
            "Classifier: RidgeClassifier \n",
            "\n",
            "Cross Validation accuracy: 0.35 (+/- 0.06)\n",
            "Cross Validation f1_micro: 0.35 (+/- 0.06)\n",
            "\n",
            "Classifier: LogisticRegression \n",
            "\n",
            "Cross Validation accuracy: 0.35 (+/- 0.04)\n",
            "Cross Validation f1_micro: 0.35 (+/- 0.04)\n"
          ],
          "name": "stdout"
        }
      ]
    },
    {
      "cell_type": "code",
      "metadata": {
        "id": "pARaVZMjp3Hs",
        "colab_type": "code",
        "outputId": "ed371194-39c9-4be9-9fd6-c36cc17ccad8",
        "colab": {
          "base_uri": "https://localhost:8080/",
          "height": 51
        }
      },
      "source": [
        "# make sure that the filled df has the right size\n",
        "print(df_X_enc.shape)\n",
        "df_X_onehot.shape"
      ],
      "execution_count": 61,
      "outputs": [
        {
          "output_type": "stream",
          "text": [
            "(1400, 19)\n"
          ],
          "name": "stdout"
        },
        {
          "output_type": "execute_result",
          "data": {
            "text/plain": [
              "(1400, 42)"
            ]
          },
          "metadata": {
            "tags": []
          },
          "execution_count": 61
        }
      ]
    },
    {
      "cell_type": "markdown",
      "metadata": {
        "id": "8qN0E7irp3Hu",
        "colab_type": "text"
      },
      "source": [
        "### Correlation Matrix between features"
      ]
    },
    {
      "cell_type": "code",
      "metadata": {
        "id": "8V2nRprKp3Hv",
        "colab_type": "code",
        "outputId": "0ce65ad7-19a3-4ce0-90b7-3c77082dd5b2",
        "colab": {
          "base_uri": "https://localhost:8080/",
          "height": 718
        }
      },
      "source": [
        "def plot_corr_matrix(df):\n",
        "    # Sample figsize in inches\n",
        "    fig, ax = plt.subplots(figsize=(10,10))         \n",
        "    # Imbalanced DataFrame Correlation\n",
        "    corr = df.corr()\n",
        "    sns.heatmap(corr, cmap='YlGnBu', annot_kws={'size':30}, ax=ax)\n",
        "    ax.set_title(\"Imbalanced Correlation Matrix\", fontsize=14)\n",
        "    plt.show()\n",
        "    return\n",
        "\n",
        "plot_corr_matrix(df_X_enc)"
      ],
      "execution_count": 62,
      "outputs": [
        {
          "output_type": "display_data",
          "data": {
            "image/png": "[encoded data removed]",
            "text/plain": [
              "<Figure size 720x720 with 2 Axes>"
            ]
          },
          "metadata": {
            "tags": []
          }
        }
      ]
    },
    {
      "cell_type": "code",
      "metadata": {
        "id": "QLSKJVEcp3Hx",
        "colab_type": "code",
        "outputId": "90c511fb-c4b4-49cd-c967-068b6f128ee6",
        "colab": {
          "base_uri": "https://localhost:8080/",
          "height": 1091
        }
      },
      "source": [
        "# Foreign, Job, Empl_since\n",
        "# Add foreign Worker feature to classification\n",
        "# Thry the classifier with additional feature\n",
        "X_train, X_test, y_train, y_test = train_test_split(\n",
        "    df_X_enc, label_enc, test_size = 0.25)\n",
        "\n",
        "clf = randomforestclf_grid_search(X_train, y_train, X_test, y_test)\n",
        "\n",
        "y_pred = train_predict(clf, X_train, y_train, X_test, y_test)\n",
        "evaluate_test(y_test, y_pred)\n",
        "display_feature_importance(clf)\n"
      ],
      "execution_count": 63,
      "outputs": [
        {
          "output_type": "stream",
          "text": [
            "Fitting 5 folds for each of 240 candidates, totalling 1200 fits\n"
          ],
          "name": "stdout"
        },
        {
          "output_type": "stream",
          "text": [
            "[Parallel(n_jobs=1)]: Using backend SequentialBackend with 1 concurrent workers.\n",
            "[Parallel(n_jobs=1)]: Done 1200 out of 1200 | elapsed:  2.3min finished\n"
          ],
          "name": "stderr"
        },
        {
          "output_type": "stream",
          "text": [
            "Best Score: 0.8695191585571995\n",
            "Best Params: {'criterion': 'entropy', 'max_depth': 3, 'max_features': 19, 'n_estimators': 150}\n",
            "Training a RandomForestClassifier\n",
            "with a training set size of 1050\n",
            "Test Precision Score: 0.8472222222222222\n",
            "Test Accuracy Score: 0.7571428571428571\n",
            "Test Confusion Matrix: \n",
            " [[143  22]\n",
            " [ 63 122]]\n",
            "Number of False Positives: 22\n",
            "\n",
            " Feature Importance, sums up to 1:\n",
            "('account_status', 0.5717121950488199)\n",
            "('credit_history', 0.06324637818574433)\n",
            "('savings_account', 0.018420463386213354)\n",
            "('personal_status_sex', 0.005847183884067318)\n",
            "('guarantors', 0.014163107306015542)\n",
            "('property', 0.09457438247196791)\n",
            "('other_installment_plans', 0.0232400723710306)\n",
            "('housing', 0.00334499036628985)\n",
            "('duration', 0.08895437429913013)\n",
            "('credit_amount', 0.03855974310421023)\n",
            "('installment_rate', 0.008906180258336772)\n",
            "('residence_since', 0.012119835771265654)\n",
            "('age', 0.03339891691677428)\n",
            "('number_of_credits', 0.0036838184853959072)\n",
            "('people_to_maintain', 0.0024168009163584125)\n",
            "('phone', 0.011953012442769776)\n",
            "('foreign_worker_filled', 0.0)\n",
            "('job', 0.0)\n",
            "('employment_since', 0.005458544785609995)\n"
          ],
          "name": "stdout"
        },
        {
          "output_type": "display_data",
          "data": {
            "image/png": "[encoded data removed]",
            "text/plain": [
              "<Figure size 720x576 with 1 Axes>"
            ]
          },
          "metadata": {
            "tags": []
          }
        }
      ]
    },
    {
      "cell_type": "code",
      "metadata": {
        "id": "YHB8plJv3P6e",
        "colab_type": "code",
        "colab": {
          "base_uri": "https://localhost:8080/",
          "height": 751
        },
        "outputId": "a6e1ec5f-f2f8-49c8-cc9d-308aa0540260"
      },
      "source": [
        "X_train, X_test, y_train, y_test = train_test_split(\n",
        "    df_X_enc[['account_status', 'savings_account', 'credit_history', 'duration']],\n",
        "    label_enc, test_size = 0.25, random_state=66)\n",
        "\n",
        "clf = RandomForestClassifier()\n",
        "\n",
        "y_pred = train_predict(clf, X_train, y_train, X_test, y_test)\n",
        "evaluate_test(y_test, y_pred)\n",
        "display_feature_importance(clf)"
      ],
      "execution_count": 64,
      "outputs": [
        {
          "output_type": "stream",
          "text": [
            "Training a RandomForestClassifier\n",
            "with a training set size of 1050\n",
            "Test Precision Score: 0.7802197802197802\n",
            "Test Accuracy Score: 0.7971428571428572\n",
            "Test Confusion Matrix: \n",
            " [[137  40]\n",
            " [ 31 142]]\n",
            "Number of False Positives: 40\n",
            "\n",
            " Feature Importance, sums up to 1:\n",
            "('account_status', 0.37509070555802604)\n",
            "('savings_account', 0.14989498052082056)\n",
            "('credit_history', 0.17674028391661895)\n",
            "('duration', 0.29827403000453445)\n"
          ],
          "name": "stdout"
        },
        {
          "output_type": "display_data",
          "data": {
            "image/png": "[encoded data removed]",
            "text/plain": [
              "<Figure size 720x576 with 1 Axes>"
            ]
          },
          "metadata": {
            "tags": []
          }
        }
      ]
    },
    {
      "cell_type": "code",
      "metadata": {
        "id": "4oZ_Y1JHp3Hy",
        "colab_type": "code",
        "colab": {}
      },
      "source": [
        "def plot_confusion_matrix(y_true, y_pred, classes,\n",
        "                          normalize=False,\n",
        "                          title=None,\n",
        "                          cmap=plt.cm.Blues):\n",
        "    \"\"\"\n",
        "    This function prints and plots the confusion matrix.\n",
        "    Normalization by class can be applied by setting `normalize=True`.\n",
        "    This kind of normalization can be interesting in case of class\n",
        "    imbalance to have a more visual interpretation of \n",
        "    which class is being misclassified.\n",
        "    \"\"\"\n",
        "    if not title:\n",
        "        if normalize:\n",
        "            title = 'Normalized confusion matrix'\n",
        "        else:\n",
        "            title = 'Confusion matrix, without normalization'\n",
        "\n",
        "    # Compute confusion matrix\n",
        "    cm = confusion_matrix(y_true, y_pred)\n",
        "    # Only use the labels that appear in the data\n",
        "    classes = classes[unique_labels(y_true, y_pred)]\n",
        "\n",
        "    if normalize:\n",
        "        cm = cm.astype('float') / cm.sum(axis=1)[:, np.newaxis]\n",
        "        print(\"\\nNormalized confusion matrix\")\n",
        "    else:\n",
        "        print('Confusion matrix, without normalization')\n",
        "\n",
        "    print(cm)\n",
        "\n",
        "    fig, ax = plt.subplots()\n",
        "    im = ax.imshow(cm, interpolation='nearest', cmap=cmap)\n",
        "    ax.figure.colorbar(im, ax=ax)\n",
        "    # We want to show all ticks...\n",
        "    ax.set(xticks=np.arange(cm.shape[1]),\n",
        "           yticks=np.arange(cm.shape[0]),\n",
        "           # ... and label them with the respective list entries\n",
        "           xticklabels=classes, yticklabels=classes,\n",
        "           title=title,\n",
        "           ylabel='True label',\n",
        "           xlabel='Predicted label')\n",
        "\n",
        "    # Rotate the tick labels and set their alignment.\n",
        "    plt.setp(ax.get_xticklabels(), rotation=45, ha=\"right\",\n",
        "             rotation_mode=\"anchor\")\n",
        "\n",
        "    # Loop over data dimensions and create text annotations.\n",
        "    fmt = '.2f' if normalize else 'd'\n",
        "    thresh = cm.max() / 2.\n",
        "    for i in range(cm.shape[0]):\n",
        "        for j in range(cm.shape[1]):\n",
        "            ax.text(j, i, format(cm[i, j], fmt),\n",
        "                    ha=\"center\", va=\"center\",\n",
        "                    color=\"white\" if cm[i, j] > thresh else \"black\")\n",
        "    fig.tight_layout()\n",
        "    return ax"
      ],
      "execution_count": 0,
      "outputs": []
    },
    {
      "cell_type": "code",
      "metadata": {
        "id": "1WciYGQA4-gb",
        "colab_type": "code",
        "colab": {}
      },
      "source": [
        "X_train, X_test, y_train, y_test = train_test_split(\n",
        "    df_X_enc, label_enc, test_size = 0.25, random_state=66)"
      ],
      "execution_count": 0,
      "outputs": []
    },
    {
      "cell_type": "code",
      "metadata": {
        "id": "hQ_1Cd5Qp3H0",
        "colab_type": "code",
        "outputId": "31070bb7-abd7-4165-a1d3-f1135092b2d9",
        "colab": {
          "base_uri": "https://localhost:8080/",
          "height": 713
        }
      },
      "source": [
        "plot_confusion_matrix(list(y_test), list(y_pred), np.array([0, 1]))\n",
        "plot_confusion_matrix(list(y_test), list(y_pred), np.array([0, 1]), normalize=True)"
      ],
      "execution_count": 67,
      "outputs": [
        {
          "output_type": "stream",
          "text": [
            "Confusion matrix, without normalization\n",
            "[[137  40]\n",
            " [ 31 142]]\n",
            "\n",
            "Normalized confusion matrix\n",
            "[[0.7740113  0.2259887 ]\n",
            " [0.17919075 0.82080925]]\n"
          ],
          "name": "stdout"
        },
        {
          "output_type": "execute_result",
          "data": {
            "text/plain": [
              "<matplotlib.axes._subplots.AxesSubplot at 0x7fac68d43ef0>"
            ]
          },
          "metadata": {
            "tags": []
          },
          "execution_count": 67
        },
        {
          "output_type": "display_data",
          "data": {
            "image/png": "[encoded data removed]",
            "text/plain": [
              "<Figure size 432x288 with 2 Axes>"
            ]
          },
          "metadata": {
            "tags": []
          }
        },
        {
          "output_type": "display_data",
          "data": {
            "image/png": "[encoded data removed]",
            "text/plain": [
              "<Figure size 432x288 with 2 Axes>"
            ]
          },
          "metadata": {
            "tags": []
          }
        }
      ]
    },
    {
      "cell_type": "code",
      "metadata": {
        "id": "stFlbNmnp3H1",
        "colab_type": "code",
        "colab": {}
      },
      "source": [
        "def try_other_classifier(clf, X_train, y_train, X_test, y_test):\n",
        "    y_pred = train_predict(clf, X_train, y_train, X_test, y_test)\n",
        "    evaluate_test(y_test, y_pred)\n",
        "    plot_confusion_matrix(list(y_test), list(y_pred), np.array([0, 1]))\n",
        "    plot_confusion_matrix(list(y_test), list(y_pred), np.array([0, 1]), normalize=True)"
      ],
      "execution_count": 0,
      "outputs": []
    },
    {
      "cell_type": "code",
      "metadata": {
        "id": "e-CY4JdKp3H2",
        "colab_type": "code",
        "outputId": "e0ff5c90-419f-4b3b-acd7-2e24a770836c",
        "colab": {
          "base_uri": "https://localhost:8080/",
          "height": 832
        }
      },
      "source": [
        "clf_svm = SVC(random_state = 9, kernel='rbf')\n",
        "try_other_classifier(clf_svm, X_train, y_train, X_test, y_test)"
      ],
      "execution_count": 69,
      "outputs": [
        {
          "output_type": "stream",
          "text": [
            "Training a SVC\n",
            "with a training set size of 1050\n",
            "Test Precision Score: 0.8910256410256411\n",
            "Test Accuracy Score: 0.8542857142857143\n",
            "Test Confusion Matrix: \n",
            " [[160  17]\n",
            " [ 34 139]]\n",
            "Number of False Positives: 17\n",
            "Confusion matrix, without normalization\n",
            "[[160  17]\n",
            " [ 34 139]]\n",
            "\n",
            "Normalized confusion matrix\n",
            "[[0.9039548  0.0960452 ]\n",
            " [0.19653179 0.80346821]]\n"
          ],
          "name": "stdout"
        },
        {
          "output_type": "display_data",
          "data": {
            "image/png": "[encoded data removed]",
            "text/plain": [
              "<Figure size 432x288 with 2 Axes>"
            ]
          },
          "metadata": {
            "tags": []
          }
        },
        {
          "output_type": "display_data",
          "data": {
            "image/png": "[encoded data removed]",
            "text/plain": [
              "<Figure size 432x288 with 2 Axes>"
            ]
          },
          "metadata": {
            "tags": []
          }
        }
      ]
    },
    {
      "cell_type": "code",
      "metadata": {
        "id": "8dXyY8gHp3H4",
        "colab_type": "code",
        "outputId": "c930e226-6e83-4810-db59-128a11bf5035",
        "colab": {
          "base_uri": "https://localhost:8080/",
          "height": 832
        }
      },
      "source": [
        "clf_svm = SVC(random_state = 9, kernel='linear')\n",
        "try_other_classifier(clf_svm, X_train, y_train, X_test, y_test)"
      ],
      "execution_count": 70,
      "outputs": [
        {
          "output_type": "stream",
          "text": [
            "Training a SVC\n",
            "with a training set size of 1050\n",
            "Test Precision Score: 0.7777777777777778\n",
            "Test Accuracy Score: 0.7628571428571429\n",
            "Test Confusion Matrix: \n",
            " [[141  36]\n",
            " [ 47 126]]\n",
            "Number of False Positives: 36\n",
            "Confusion matrix, without normalization\n",
            "[[141  36]\n",
            " [ 47 126]]\n",
            "\n",
            "Normalized confusion matrix\n",
            "[[0.79661017 0.20338983]\n",
            " [0.2716763  0.7283237 ]]\n"
          ],
          "name": "stdout"
        },
        {
          "output_type": "display_data",
          "data": {
            "image/png": "[encoded data removed]",
            "text/plain": [
              "<Figure size 432x288 with 2 Axes>"
            ]
          },
          "metadata": {
            "tags": []
          }
        },
        {
          "output_type": "display_data",
          "data": {
            "image/png": "[encoded data removed]",
            "text/plain": [
              "<Figure size 432x288 with 2 Axes>"
            ]
          },
          "metadata": {
            "tags": []
          }
        }
      ]
    },
    {
      "cell_type": "code",
      "metadata": {
        "id": "YpZAhqk1p3H7",
        "colab_type": "code",
        "outputId": "98f049b7-baa0-47ee-94f5-1c7253e60768",
        "colab": {
          "base_uri": "https://localhost:8080/",
          "height": 832
        }
      },
      "source": [
        "clf_log_reg = LogisticRegression()\n",
        "try_other_classifier(clf_log_reg, X_train, y_train, X_test, y_test)"
      ],
      "execution_count": 71,
      "outputs": [
        {
          "output_type": "stream",
          "text": [
            "Training a LogisticRegression\n",
            "with a training set size of 1050\n",
            "Test Precision Score: 0.7803468208092486\n",
            "Test Accuracy Score: 0.7828571428571428\n",
            "Test Confusion Matrix: \n",
            " [[139  38]\n",
            " [ 38 135]]\n",
            "Number of False Positives: 38\n",
            "Confusion matrix, without normalization\n",
            "[[139  38]\n",
            " [ 38 135]]\n",
            "\n",
            "Normalized confusion matrix\n",
            "[[0.78531073 0.21468927]\n",
            " [0.21965318 0.78034682]]\n"
          ],
          "name": "stdout"
        },
        {
          "output_type": "display_data",
          "data": {
            "image/png": "[encoded data removed]",
            "text/plain": [
              "<Figure size 432x288 with 2 Axes>"
            ]
          },
          "metadata": {
            "tags": []
          }
        },
        {
          "output_type": "display_data",
          "data": {
            "image/png": "[encoded data removed]",
            "text/plain": [
              "<Figure size 432x288 with 2 Axes>"
            ]
          },
          "metadata": {
            "tags": []
          }
        }
      ]
    },
    {
      "cell_type": "code",
      "metadata": {
        "scrolled": false,
        "id": "jG_q7dwAp3H8",
        "colab_type": "code",
        "outputId": "3ec81c8e-a274-487c-8d4f-d233f12edf99",
        "colab": {
          "base_uri": "https://localhost:8080/",
          "height": 832
        }
      },
      "source": [
        "clf_extra = ExtraTreesClassifier()\n",
        "try_other_classifier(clf_extra, X_train, y_train, X_test, y_test)"
      ],
      "execution_count": 72,
      "outputs": [
        {
          "output_type": "stream",
          "text": [
            "Training a ExtraTreesClassifier\n",
            "with a training set size of 1050\n",
            "Test Precision Score: 0.8641975308641975\n",
            "Test Accuracy Score: 0.8428571428571429\n",
            "Test Confusion Matrix: \n",
            " [[155  22]\n",
            " [ 33 140]]\n",
            "Number of False Positives: 22\n",
            "Confusion matrix, without normalization\n",
            "[[155  22]\n",
            " [ 33 140]]\n",
            "\n",
            "Normalized confusion matrix\n",
            "[[0.87570621 0.12429379]\n",
            " [0.19075145 0.80924855]]\n"
          ],
          "name": "stdout"
        },
        {
          "output_type": "display_data",
          "data": {
            "image/png": "[encoded data removed]",
            "text/plain": [
              "<Figure size 432x288 with 2 Axes>"
            ]
          },
          "metadata": {
            "tags": []
          }
        },
        {
          "output_type": "display_data",
          "data": {
            "image/png": "[encoded data removed]",
            "text/plain": [
              "<Figure size 432x288 with 2 Axes>"
            ]
          },
          "metadata": {
            "tags": []
          }
        }
      ]
    }
  ]
}