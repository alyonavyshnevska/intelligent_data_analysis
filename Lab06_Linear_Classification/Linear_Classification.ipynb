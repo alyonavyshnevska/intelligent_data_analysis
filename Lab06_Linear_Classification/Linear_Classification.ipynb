{
 "cells": [
  {
   "cell_type": "markdown",
   "metadata": {},
   "source": [
    "# Linear Classification\n",
    "\n",
    "In this lab you will implement parts of a linear classification model using the regularized empirical risk minimization principle. By completing this lab and analysing the code, you gain deeper understanding of these type of models, and of gradient descent.\n",
    "\n",
    "\n",
    "## Problem Setting\n",
    "\n",
    "The dataset describes diagnosing of cardiac Single Proton Emission Computed Tomography (SPECT) images. Each of the patients is classified into two categories: normal (1) and abnormal (0). The training data contains 80 SPECT images from which 22 binary features have been extracted. The goal is to predict the label for an unseen test set of 187 tomography images."
   ]
  },
  {
   "cell_type": "code",
   "execution_count": 26,
   "metadata": {
    "scrolled": true
   },
   "outputs": [
    {
     "name": "stdout",
     "output_type": "stream",
     "text": [
      "The autoreload extension is already loaded. To reload it, use:\n",
      "  %reload_ext autoreload\n"
     ]
    }
   ],
   "source": [
    "import urllib\n",
    "import pandas as pd\n",
    "import numpy as np\n",
    "# for auto-reloading external modules\n",
    "# see http://stackoverflow.com/questions/1907993/autoreload-of-modules-in-ipython\n",
    "%load_ext autoreload\n",
    "%autoreload 2\n",
    "\n",
    "testfile = urllib.request.URLopener()\n",
    "testfile.retrieve(\"http://archive.ics.uci.edu/ml/machine-learning-databases/spect/SPECT.train\", \"SPECT.train\")\n",
    "testfile.retrieve(\"http://archive.ics.uci.edu/ml/machine-learning-databases/spect/SPECT.test\", \"SPECT.test\")\n",
    "\n",
    "df_train = pd.read_csv('SPECT.train',header=None)\n",
    "df_test = pd.read_csv('SPECT.test',header=None)\n",
    "\n",
    "train = df_train.values\n",
    "test = df_test.values\n",
    "\n",
    "y_train = train[:,0]\n",
    "X_train = train[:,1:]\n",
    "y_test = test[:,0]\n",
    "X_test = test[:,1:]"
   ]
  },
  {
   "cell_type": "code",
   "execution_count": 27,
   "metadata": {},
   "outputs": [],
   "source": [
    "#print(df_train)"
   ]
  },
  {
   "cell_type": "markdown",
   "metadata": {},
   "source": [
    "### Exercise 1\n",
    "\n",
    "Analyze the function learn_reg_ERM(X,y,lambda) which for a given $n\\times m$ data matrix $\\textbf{X}$ and binary class label $\\textbf{y}$ learns and returns a linear model $\\textbf{w}$.\n",
    "The binary class label has to be transformed so that its range is $\\left \\{-1,1 \\right \\}$. \n",
    "The trade-off parameter between the empirical loss and the regularizer is given by $\\lambda > 0$. \n",
    "Try to understand each step of the learning algorithm and comment each line."
   ]
  },
  {
   "cell_type": "code",
   "execution_count": 28,
   "metadata": {},
   "outputs": [
    {
     "data": {
      "text/plain": [
       "(80, 22)"
      ]
     },
     "execution_count": 28,
     "metadata": {},
     "output_type": "execute_result"
    }
   ],
   "source": [
    "X_train.shape"
   ]
  },
  {
   "cell_type": "code",
   "execution_count": 29,
   "metadata": {},
   "outputs": [],
   "source": [
    "def learn_reg_ERM(X,y,lbda):\n",
    "    \n",
    "    max_iter = 200\n",
    "    #boundary e \n",
    "    e  = 0.001\n",
    "    #step size alpha\n",
    "    alpha = 1.\n",
    "\n",
    "    # initialize the weigths vector randomly. it must have the same number of rows as \n",
    "    # there are features in the input matrix = 22\n",
    "    w = np.random.randn(X.shape[1])\n",
    "    \n",
    "    \n",
    "    for iteration in np.arange(max_iter):\n",
    "        # multiply input vector by the current weight vector\n",
    "        h = np.dot(X,w)\n",
    "        # calculate loss between predicted and true labels and gradient\n",
    "        l,lg = loss(h, y)\n",
    "        print ('loss: {}'.format(np.mean(l)))\n",
    "        \n",
    "        # compute l2-reglarizer and the gradient\n",
    "        # for the current weight vector w\n",
    "        r,rg = reg(w, lbda)\n",
    "        \n",
    "        # gradient\n",
    "        g = np.dot(X.T,lg) + rg \n",
    "        \n",
    "        # update learning rate\n",
    "        if (iteration > 0):\n",
    "            alpha = alpha * (np.dot(g_old.T,g_old))/(np.dot((g_old - g).T,g_old))\n",
    "        \n",
    "        #update weights\n",
    "        w = w - alpha * g\n",
    "        if (np.linalg.norm(alpha * g) < e):\n",
    "            break\n",
    "        g_old = g\n",
    "        \n",
    "    return w"
   ]
  },
  {
   "cell_type": "markdown",
   "metadata": {},
   "source": [
    "### Exercise 2\n",
    "\n",
    "Fill in the code for the function loss(h,y) which computes the hinge loss and its gradient. \n",
    "This function takes a given vector $\\textbf{y}$ with the true labels $\\in \\left \\{-1,1\\right \\}$ and a vector $\\textbf{h}$ with the function values of the linear model as inputs. The function returns a vector $\\textbf{l}$ with the hinge loss $\\max(0, 1 − y_{i} h_{i})$ and a vector $\\textbf{g}$ with the gradients of the hinge loss at the points $h_i$. The partial derivative of the hinge loss $h_i$ with respect to the $i$-th position of the weight vector $\\textbf{w}$ is $g_{i} = −y x_{i}$ if $l_{i} > 0$, else $g_{i} = 0$)."
   ]
  },
  {
   "cell_type": "code",
   "execution_count": 30,
   "metadata": {},
   "outputs": [],
   "source": [
    "def loss(h, y):\n",
    "    #element-wise max\n",
    "    l = np.maximum(0,1 - y * h)\n",
    "    # calculate lg if l>0 (to go to min)\n",
    "    g = - y *(l > 0) \n",
    "    \n",
    "    return l, g"
   ]
  },
  {
   "cell_type": "markdown",
   "metadata": {},
   "source": [
    "### Exercise 3\n",
    "\n",
    "Fill in the code for the function reg(w,lambda) which computes the $\\mathcal{L}_2$-regularizer and the gradient of the regularizer function at point $\\textbf{w}$. \n",
    "\n",
    "\n",
    "$$r = \\frac{\\lambda}{2} \\textbf{w}^{T}\\textbf{w}$$\n",
    "\n",
    "$$g = \\lambda \\textbf{w}$$"
   ]
  },
  {
   "cell_type": "code",
   "execution_count": 31,
   "metadata": {},
   "outputs": [],
   "source": [
    "def reg(w, lbda):\n",
    "    r = (lbda/2) * w.dot(w.T)\n",
    "    g = lbda * w\n",
    "    return r, g"
   ]
  },
  {
   "cell_type": "markdown",
   "metadata": {},
   "source": [
    "### Exercise 4\n",
    "\n",
    "Fill in the code for the function predict(w,x) which predicts the class label $y$ for a data point $\\textbf{x}$ or a matrix $X$ of data points (row-wise) for a previously trained linear model $\\textbf{w}$. If there is only a data point given, the function is supposed to return a scalar value. If a matrix is given a vector of predictions is supposed to be returned."
   ]
  },
  {
   "cell_type": "code",
   "execution_count": 32,
   "metadata": {},
   "outputs": [],
   "source": [
    "def predict(w, X):\n",
    "    preds = 2 * (np.dot(X,w) > 0) - 1\n",
    "    return preds"
   ]
  },
  {
   "cell_type": "markdown",
   "metadata": {},
   "source": [
    "### Exercise 5\n",
    "\n",
    "#### 5.1 \n",
    "Train a linear model on the training data and classify all 187 test instances afterwards using the function predict. \n",
    "Please note that the given class labels are in the range $\\left \\{0,1 \\right \\}$, however the learning algorithm expects a label in the range of $\\left \\{-1,1 \\right \\}$. Then, compute the accuracy of your trained linear model on both the training and the test data. "
   ]
  },
  {
   "cell_type": "code",
   "execution_count": 33,
   "metadata": {},
   "outputs": [],
   "source": [
    "def accuracy(y, y_hat):\n",
    "    return 100.0*np.sum(y_hat == y) / len(y)"
   ]
  },
  {
   "cell_type": "code",
   "execution_count": 34,
   "metadata": {},
   "outputs": [
    {
     "name": "stdout",
     "output_type": "stream",
     "text": [
      "loss: 1.5576119362468852\n",
      "loss: 18.68129028284217\n",
      "loss: 1.039890599433886\n",
      "loss: 2.071929440475506\n",
      "loss: 1.0345199866570092\n",
      "loss: 0.7352964581685507\n",
      "loss: 0.9253035851764533\n",
      "loss: 0.7235173496350471\n",
      "loss: 0.7204697936311102\n",
      "loss: 0.7276301076450034\n",
      "loss: 0.7219143076381125\n",
      "loss: 0.7259103348702128\n",
      "loss: 0.7227166431662727\n",
      "loss: 0.7194895477747958\n",
      "loss: 0.7220647659837247\n",
      "loss: 0.7196513273761939\n",
      "loss: 0.7191263892841399\n",
      "loss: 0.7201065691851497\n",
      "loss: 0.7203390107986596\n",
      "loss: 0.719513800436338\n",
      "loss: 0.7196012487686833\n",
      "loss: 0.7194341061088071\n",
      "loss: 0.7212500000000001\n",
      "loss: 0.7556927314039703\n",
      "loss: 0.7209965643538148\n",
      "loss: 0.7184853931540486\n",
      "loss: 0.7206541005616433\n",
      "loss: 0.718911373474971\n",
      "loss: 0.7184793836252833\n",
      "loss: 0.7181860794690212\n",
      "loss: 0.7188685481473039\n",
      "loss: 0.7184938555595503\n",
      "loss: 0.7185061460384293\n",
      "loss: 0.718284319529039\n",
      "loss: 0.7185248239226378\n",
      "loss: 0.7184030403869033\n",
      "loss: 0.7184292522304228\n",
      "loss: 0.7183904564268488\n",
      "loss: 0.7184345988749803\n",
      "loss: 0.7183877520987169\n",
      "loss: 0.7185131491670084\n",
      "Train Accuracy: {} 66.25\n",
      "Test Accuracy: {} 90.37433155080214\n"
     ]
    }
   ],
   "source": [
    "# y_train = [-1 if y_i == 0 else 1 for y_i in y_train]\n",
    "# y_test = [-1 if y_i == 0 else 1 for y_i in y_test]\n",
    "\n",
    "# convert labels so that they are -1 or 1: \n",
    "# 2*0-1 = -1\n",
    "# 2*1-1 = 1\n",
    "y_train = 2 * y_train - 1\n",
    "y_test = 2 * y_test - 1\n",
    "\n",
    "w = learn_reg_ERM(X_train, y_train, 10)\n",
    "y_hat_train = predict(w, X_train)\n",
    "y_hat_test = predict(w, X_test)\n",
    "print(\"Train Accuracy: {}\", format(accuracy(y_train, y_hat_train)))\n",
    "print(\"Test Accuracy: {}\", format(accuracy(y_test, y_hat_test)))"
   ]
  },
  {
   "cell_type": "markdown",
   "metadata": {},
   "source": [
    "#### 5.2\n",
    "Compare the accuracy of the linear model with the accuracy of a random forest and a decision tree on the training and test data set."
   ]
  },
  {
   "cell_type": "code",
   "execution_count": 35,
   "metadata": {},
   "outputs": [],
   "source": [
    "##################\n",
    "#INSERT CODE HERE#\n",
    "##################"
   ]
  },
  {
   "cell_type": "code",
   "execution_count": null,
   "metadata": {},
   "outputs": [],
   "source": []
  }
 ],
 "metadata": {
  "kernelspec": {
   "display_name": "Python 3",
   "language": "python",
   "name": "python3"
  },
  "language_info": {
   "codemirror_mode": {
    "name": "ipython",
    "version": 3
   },
   "file_extension": ".py",
   "mimetype": "text/x-python",
   "name": "python",
   "nbconvert_exporter": "python",
   "pygments_lexer": "ipython3",
   "version": "3.7.3"
  }
 },
 "nbformat": 4,
 "nbformat_minor": 1
}
